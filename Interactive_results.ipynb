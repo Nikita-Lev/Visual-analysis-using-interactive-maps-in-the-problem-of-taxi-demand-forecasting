{
 "cells": [
  {
   "cell_type": "markdown",
   "id": "cfe461a0",
   "metadata": {
    "id": "cfe461a0"
   },
   "source": [
    "# Интерактивное представление результатов прогнозирования"
   ]
  },
  {
   "cell_type": "code",
   "execution_count": 70,
   "id": "444ce2b0",
   "metadata": {
    "id": "444ce2b0"
   },
   "outputs": [],
   "source": [
    "import numpy as np\n",
    "import pandas as pd"
   ]
  },
  {
   "cell_type": "code",
   "execution_count": 71,
   "id": "b30166dd",
   "metadata": {
    "colab": {
     "base_uri": "https://localhost:8080/",
     "height": 17
    },
    "id": "b30166dd",
    "outputId": "e89e5c8a-7682-4e9e-ac89-44ad00175b15"
   },
   "outputs": [
    {
     "data": {
      "application/javascript": [
       "\n",
       "(function(root) {\n",
       "  function now() {\n",
       "    return new Date();\n",
       "  }\n",
       "\n",
       "  var force = true;\n",
       "\n",
       "  if (typeof root._bokeh_onload_callbacks === \"undefined\" || force === true) {\n",
       "    root._bokeh_onload_callbacks = [];\n",
       "    root._bokeh_is_loading = undefined;\n",
       "  }\n",
       "\n",
       "  if (typeof (root._bokeh_timeout) === \"undefined\" || force === true) {\n",
       "    root._bokeh_timeout = Date.now() + 5000;\n",
       "    root._bokeh_failed_load = false;\n",
       "  }\n",
       "\n",
       "  function run_callbacks() {\n",
       "    try {\n",
       "      root._bokeh_onload_callbacks.forEach(function(callback) {\n",
       "        if (callback != null)\n",
       "          callback();\n",
       "      });\n",
       "    } finally {\n",
       "      delete root._bokeh_onload_callbacks\n",
       "    }\n",
       "    console.debug(\"Bokeh: all callbacks have finished\");\n",
       "  }\n",
       "\n",
       "  function load_libs(css_urls, js_urls, js_modules, callback) {\n",
       "    if (css_urls == null) css_urls = [];\n",
       "    if (js_urls == null) js_urls = [];\n",
       "    if (js_modules == null) js_modules = [];\n",
       "\n",
       "    root._bokeh_onload_callbacks.push(callback);\n",
       "    if (root._bokeh_is_loading > 0) {\n",
       "      console.debug(\"Bokeh: BokehJS is being loaded, scheduling callback at\", now());\n",
       "      return null;\n",
       "    }\n",
       "    if (js_urls.length === 0 && js_modules.length === 0) {\n",
       "      run_callbacks();\n",
       "      return null;\n",
       "    }\n",
       "    console.debug(\"Bokeh: BokehJS not loaded, scheduling load and callback at\", now());\n",
       "\n",
       "    function on_load() {\n",
       "      root._bokeh_is_loading--;\n",
       "      if (root._bokeh_is_loading === 0) {\n",
       "        console.debug(\"Bokeh: all BokehJS libraries/stylesheets loaded\");\n",
       "        run_callbacks()\n",
       "      }\n",
       "    }\n",
       "\n",
       "    function on_error() {\n",
       "      console.error(\"failed to load \" + url);\n",
       "    }\n",
       "\n",
       "    for (var i = 0; i < css_urls.length; i++) {\n",
       "      var url = css_urls[i];\n",
       "      const element = document.createElement(\"link\");\n",
       "      element.onload = on_load;\n",
       "      element.onerror = on_error;\n",
       "      element.rel = \"stylesheet\";\n",
       "      element.type = \"text/css\";\n",
       "      element.href = url;\n",
       "      console.debug(\"Bokeh: injecting link tag for BokehJS stylesheet: \", url);\n",
       "      document.body.appendChild(element);\n",
       "    }\n",
       "\n",
       "    var skip = [];\n",
       "    if (window.requirejs) {\n",
       "      window.requirejs.config({'packages': {}, 'paths': {'gridstack': 'https://cdn.jsdelivr.net/npm/gridstack@4.2.5/dist/gridstack-h5'}, 'shim': {'gridstack': {'exports': 'GridStack'}}});\n",
       "      \n",
       "      require([\"gridstack\"], function(GridStack) {\n",
       "\t\n",
       "\twindow.GridStack = GridStack\n",
       "\t\n",
       "\ton_load()\n",
       "      })\n",
       "      \n",
       "      root._bokeh_is_loading = css_urls.length + 1;\n",
       "    } else {\n",
       "      root._bokeh_is_loading = css_urls.length + js_urls.length + js_modules.length;\n",
       "    }\n",
       "    if (((window['GridStack'] !== undefined) && (!(window['GridStack'] instanceof HTMLElement))) || window.requirejs) {\n",
       "      var urls = ['https://cdn.jsdelivr.net/npm/gridstack@4.2.5/dist/gridstack-h5.js'];\n",
       "      for (var i = 0; i < urls.length; i++) {\n",
       "        skip.push(urls[i])\n",
       "      }\n",
       "    }\n",
       "    for (var i = 0; i < js_urls.length; i++) {\n",
       "      var url = js_urls[i];\n",
       "      if (skip.indexOf(url) >= 0) {\n",
       "\tif (!window.requirejs) {\n",
       "\t  on_load();\n",
       "\t}\n",
       "\tcontinue;\n",
       "      }\n",
       "      var element = document.createElement('script');\n",
       "      element.onload = on_load;\n",
       "      element.onerror = on_error;\n",
       "      element.async = false;\n",
       "      element.src = url;\n",
       "      console.debug(\"Bokeh: injecting script tag for BokehJS library: \", url);\n",
       "      document.head.appendChild(element);\n",
       "    }\n",
       "    for (var i = 0; i < js_modules.length; i++) {\n",
       "      var url = js_modules[i];\n",
       "      if (skip.indexOf(url) >= 0) {\n",
       "\tif (!window.requirejs) {\n",
       "\t  on_load();\n",
       "\t}\n",
       "\tcontinue;\n",
       "      }\n",
       "      var element = document.createElement('script');\n",
       "      element.onload = on_load;\n",
       "      element.onerror = on_error;\n",
       "      element.async = false;\n",
       "      element.src = url;\n",
       "      element.type = \"module\";\n",
       "      console.debug(\"Bokeh: injecting script tag for BokehJS library: \", url);\n",
       "      document.head.appendChild(element);\n",
       "    }\n",
       "    if (!js_urls.length && !js_modules.length) {\n",
       "      on_load()\n",
       "    }\n",
       "  };\n",
       "\n",
       "  function inject_raw_css(css) {\n",
       "    const element = document.createElement(\"style\");\n",
       "    element.appendChild(document.createTextNode(css));\n",
       "    document.body.appendChild(element);\n",
       "  }\n",
       "\n",
       "  var js_urls = [\"https://cdn.bokeh.org/bokeh/release/bokeh-2.4.1.min.js\", \"https://cdn.bokeh.org/bokeh/release/bokeh-gl-2.4.1.min.js\", \"https://cdn.bokeh.org/bokeh/release/bokeh-widgets-2.4.1.min.js\", \"https://cdn.bokeh.org/bokeh/release/bokeh-tables-2.4.1.min.js\", \"https://cdn.bokeh.org/bokeh/release/bokeh-mathjax-2.4.1.min.js\", \"https://unpkg.com/@holoviz/panel@0.13.0/dist/panel.min.js\"];\n",
       "  var js_modules = [];\n",
       "  var css_urls = [\"https://unpkg.com/@holoviz/panel@0.13.0/dist/css/alerts.css\", \"https://unpkg.com/@holoviz/panel@0.13.0/dist/css/card.css\", \"https://unpkg.com/@holoviz/panel@0.13.0/dist/css/dataframe.css\", \"https://unpkg.com/@holoviz/panel@0.13.0/dist/css/debugger.css\", \"https://unpkg.com/@holoviz/panel@0.13.0/dist/css/json.css\", \"https://unpkg.com/@holoviz/panel@0.13.0/dist/css/loading.css\", \"https://unpkg.com/@holoviz/panel@0.13.0/dist/css/markdown.css\", \"https://unpkg.com/@holoviz/panel@0.13.0/dist/css/widgets.css\"];\n",
       "  var inline_js = [\n",
       "    function(Bokeh) {\n",
       "      inject_raw_css(\"\\n    .bk.pn-loading.arcs:before {\\n      background-image: url(\\\"data:image/svg+xml;base64,PHN2ZyB4bWxucz0iaHR0cDovL3d3dy53My5vcmcvMjAwMC9zdmciIHhtbG5zOnhsaW5rPSJodHRwOi8vd3d3LnczLm9yZy8xOTk5L3hsaW5rIiBzdHlsZT0ibWFyZ2luOiBhdXRvOyBiYWNrZ3JvdW5kOiBub25lOyBkaXNwbGF5OiBibG9jazsgc2hhcGUtcmVuZGVyaW5nOiBhdXRvOyIgdmlld0JveD0iMCAwIDEwMCAxMDAiIHByZXNlcnZlQXNwZWN0UmF0aW89InhNaWRZTWlkIj4gIDxjaXJjbGUgY3g9IjUwIiBjeT0iNTAiIHI9IjMyIiBzdHJva2Utd2lkdGg9IjgiIHN0cm9rZT0iI2MzYzNjMyIgc3Ryb2tlLWRhc2hhcnJheT0iNTAuMjY1NDgyNDU3NDM2NjkgNTAuMjY1NDgyNDU3NDM2NjkiIGZpbGw9Im5vbmUiIHN0cm9rZS1saW5lY2FwPSJyb3VuZCI+ICAgIDxhbmltYXRlVHJhbnNmb3JtIGF0dHJpYnV0ZU5hbWU9InRyYW5zZm9ybSIgdHlwZT0icm90YXRlIiByZXBlYXRDb3VudD0iaW5kZWZpbml0ZSIgZHVyPSIxcyIga2V5VGltZXM9IjA7MSIgdmFsdWVzPSIwIDUwIDUwOzM2MCA1MCA1MCI+PC9hbmltYXRlVHJhbnNmb3JtPiAgPC9jaXJjbGU+PC9zdmc+\\\");\\n      background-size: auto calc(min(50%, 400px));\\n    }\\n    \");\n",
       "    },\n",
       "    function(Bokeh) {\n",
       "      Bokeh.set_log_level(\"info\");\n",
       "    },\n",
       "    function(Bokeh) {} // ensure no trailing comma for IE\n",
       "  ];\n",
       "\n",
       "  function run_inline_js() {\n",
       "    if ((root.Bokeh !== undefined) || (force === true)) {\n",
       "      for (var i = 0; i < inline_js.length; i++) {\n",
       "        inline_js[i].call(root, root.Bokeh);\n",
       "      }} else if (Date.now() < root._bokeh_timeout) {\n",
       "      setTimeout(run_inline_js, 100);\n",
       "    } else if (!root._bokeh_failed_load) {\n",
       "      console.log(\"Bokeh: BokehJS failed to load within specified timeout.\");\n",
       "      root._bokeh_failed_load = true;\n",
       "    }\n",
       "  }\n",
       "\n",
       "  if (root._bokeh_is_loading === 0) {\n",
       "    console.debug(\"Bokeh: BokehJS loaded, going straight to plotting\");\n",
       "    run_inline_js();\n",
       "  } else {\n",
       "    load_libs(css_urls, js_urls, js_modules, function() {\n",
       "      console.debug(\"Bokeh: BokehJS plotting callback run at\", now());\n",
       "      run_inline_js();\n",
       "    });\n",
       "  }\n",
       "}(window));"
      ],
      "application/vnd.holoviews_load.v0+json": "\n(function(root) {\n  function now() {\n    return new Date();\n  }\n\n  var force = true;\n\n  if (typeof root._bokeh_onload_callbacks === \"undefined\" || force === true) {\n    root._bokeh_onload_callbacks = [];\n    root._bokeh_is_loading = undefined;\n  }\n\n  if (typeof (root._bokeh_timeout) === \"undefined\" || force === true) {\n    root._bokeh_timeout = Date.now() + 5000;\n    root._bokeh_failed_load = false;\n  }\n\n  function run_callbacks() {\n    try {\n      root._bokeh_onload_callbacks.forEach(function(callback) {\n        if (callback != null)\n          callback();\n      });\n    } finally {\n      delete root._bokeh_onload_callbacks\n    }\n    console.debug(\"Bokeh: all callbacks have finished\");\n  }\n\n  function load_libs(css_urls, js_urls, js_modules, callback) {\n    if (css_urls == null) css_urls = [];\n    if (js_urls == null) js_urls = [];\n    if (js_modules == null) js_modules = [];\n\n    root._bokeh_onload_callbacks.push(callback);\n    if (root._bokeh_is_loading > 0) {\n      console.debug(\"Bokeh: BokehJS is being loaded, scheduling callback at\", now());\n      return null;\n    }\n    if (js_urls.length === 0 && js_modules.length === 0) {\n      run_callbacks();\n      return null;\n    }\n    console.debug(\"Bokeh: BokehJS not loaded, scheduling load and callback at\", now());\n\n    function on_load() {\n      root._bokeh_is_loading--;\n      if (root._bokeh_is_loading === 0) {\n        console.debug(\"Bokeh: all BokehJS libraries/stylesheets loaded\");\n        run_callbacks()\n      }\n    }\n\n    function on_error() {\n      console.error(\"failed to load \" + url);\n    }\n\n    for (var i = 0; i < css_urls.length; i++) {\n      var url = css_urls[i];\n      const element = document.createElement(\"link\");\n      element.onload = on_load;\n      element.onerror = on_error;\n      element.rel = \"stylesheet\";\n      element.type = \"text/css\";\n      element.href = url;\n      console.debug(\"Bokeh: injecting link tag for BokehJS stylesheet: \", url);\n      document.body.appendChild(element);\n    }\n\n    var skip = [];\n    if (window.requirejs) {\n      window.requirejs.config({'packages': {}, 'paths': {'gridstack': 'https://cdn.jsdelivr.net/npm/gridstack@4.2.5/dist/gridstack-h5'}, 'shim': {'gridstack': {'exports': 'GridStack'}}});\n      \n      require([\"gridstack\"], function(GridStack) {\n\t\n\twindow.GridStack = GridStack\n\t\n\ton_load()\n      })\n      \n      root._bokeh_is_loading = css_urls.length + 1;\n    } else {\n      root._bokeh_is_loading = css_urls.length + js_urls.length + js_modules.length;\n    }\n    if (((window['GridStack'] !== undefined) && (!(window['GridStack'] instanceof HTMLElement))) || window.requirejs) {\n      var urls = ['https://cdn.jsdelivr.net/npm/gridstack@4.2.5/dist/gridstack-h5.js'];\n      for (var i = 0; i < urls.length; i++) {\n        skip.push(urls[i])\n      }\n    }\n    for (var i = 0; i < js_urls.length; i++) {\n      var url = js_urls[i];\n      if (skip.indexOf(url) >= 0) {\n\tif (!window.requirejs) {\n\t  on_load();\n\t}\n\tcontinue;\n      }\n      var element = document.createElement('script');\n      element.onload = on_load;\n      element.onerror = on_error;\n      element.async = false;\n      element.src = url;\n      console.debug(\"Bokeh: injecting script tag for BokehJS library: \", url);\n      document.head.appendChild(element);\n    }\n    for (var i = 0; i < js_modules.length; i++) {\n      var url = js_modules[i];\n      if (skip.indexOf(url) >= 0) {\n\tif (!window.requirejs) {\n\t  on_load();\n\t}\n\tcontinue;\n      }\n      var element = document.createElement('script');\n      element.onload = on_load;\n      element.onerror = on_error;\n      element.async = false;\n      element.src = url;\n      element.type = \"module\";\n      console.debug(\"Bokeh: injecting script tag for BokehJS library: \", url);\n      document.head.appendChild(element);\n    }\n    if (!js_urls.length && !js_modules.length) {\n      on_load()\n    }\n  };\n\n  function inject_raw_css(css) {\n    const element = document.createElement(\"style\");\n    element.appendChild(document.createTextNode(css));\n    document.body.appendChild(element);\n  }\n\n  var js_urls = [\"https://cdn.bokeh.org/bokeh/release/bokeh-2.4.1.min.js\", \"https://cdn.bokeh.org/bokeh/release/bokeh-gl-2.4.1.min.js\", \"https://cdn.bokeh.org/bokeh/release/bokeh-widgets-2.4.1.min.js\", \"https://cdn.bokeh.org/bokeh/release/bokeh-tables-2.4.1.min.js\", \"https://cdn.bokeh.org/bokeh/release/bokeh-mathjax-2.4.1.min.js\", \"https://unpkg.com/@holoviz/panel@0.13.0/dist/panel.min.js\"];\n  var js_modules = [];\n  var css_urls = [\"https://unpkg.com/@holoviz/panel@0.13.0/dist/css/alerts.css\", \"https://unpkg.com/@holoviz/panel@0.13.0/dist/css/card.css\", \"https://unpkg.com/@holoviz/panel@0.13.0/dist/css/dataframe.css\", \"https://unpkg.com/@holoviz/panel@0.13.0/dist/css/debugger.css\", \"https://unpkg.com/@holoviz/panel@0.13.0/dist/css/json.css\", \"https://unpkg.com/@holoviz/panel@0.13.0/dist/css/loading.css\", \"https://unpkg.com/@holoviz/panel@0.13.0/dist/css/markdown.css\", \"https://unpkg.com/@holoviz/panel@0.13.0/dist/css/widgets.css\"];\n  var inline_js = [\n    function(Bokeh) {\n      inject_raw_css(\"\\n    .bk.pn-loading.arcs:before {\\n      background-image: url(\\\"data:image/svg+xml;base64,PHN2ZyB4bWxucz0iaHR0cDovL3d3dy53My5vcmcvMjAwMC9zdmciIHhtbG5zOnhsaW5rPSJodHRwOi8vd3d3LnczLm9yZy8xOTk5L3hsaW5rIiBzdHlsZT0ibWFyZ2luOiBhdXRvOyBiYWNrZ3JvdW5kOiBub25lOyBkaXNwbGF5OiBibG9jazsgc2hhcGUtcmVuZGVyaW5nOiBhdXRvOyIgdmlld0JveD0iMCAwIDEwMCAxMDAiIHByZXNlcnZlQXNwZWN0UmF0aW89InhNaWRZTWlkIj4gIDxjaXJjbGUgY3g9IjUwIiBjeT0iNTAiIHI9IjMyIiBzdHJva2Utd2lkdGg9IjgiIHN0cm9rZT0iI2MzYzNjMyIgc3Ryb2tlLWRhc2hhcnJheT0iNTAuMjY1NDgyNDU3NDM2NjkgNTAuMjY1NDgyNDU3NDM2NjkiIGZpbGw9Im5vbmUiIHN0cm9rZS1saW5lY2FwPSJyb3VuZCI+ICAgIDxhbmltYXRlVHJhbnNmb3JtIGF0dHJpYnV0ZU5hbWU9InRyYW5zZm9ybSIgdHlwZT0icm90YXRlIiByZXBlYXRDb3VudD0iaW5kZWZpbml0ZSIgZHVyPSIxcyIga2V5VGltZXM9IjA7MSIgdmFsdWVzPSIwIDUwIDUwOzM2MCA1MCA1MCI+PC9hbmltYXRlVHJhbnNmb3JtPiAgPC9jaXJjbGU+PC9zdmc+\\\");\\n      background-size: auto calc(min(50%, 400px));\\n    }\\n    \");\n    },\n    function(Bokeh) {\n      Bokeh.set_log_level(\"info\");\n    },\n    function(Bokeh) {} // ensure no trailing comma for IE\n  ];\n\n  function run_inline_js() {\n    if ((root.Bokeh !== undefined) || (force === true)) {\n      for (var i = 0; i < inline_js.length; i++) {\n        inline_js[i].call(root, root.Bokeh);\n      }} else if (Date.now() < root._bokeh_timeout) {\n      setTimeout(run_inline_js, 100);\n    } else if (!root._bokeh_failed_load) {\n      console.log(\"Bokeh: BokehJS failed to load within specified timeout.\");\n      root._bokeh_failed_load = true;\n    }\n  }\n\n  if (root._bokeh_is_loading === 0) {\n    console.debug(\"Bokeh: BokehJS loaded, going straight to plotting\");\n    run_inline_js();\n  } else {\n    load_libs(css_urls, js_urls, js_modules, function() {\n      console.debug(\"Bokeh: BokehJS plotting callback run at\", now());\n      run_inline_js();\n    });\n  }\n}(window));"
     },
     "metadata": {},
     "output_type": "display_data"
    },
    {
     "data": {
      "application/javascript": [
       "\n",
       "if ((window.PyViz === undefined) || (window.PyViz instanceof HTMLElement)) {\n",
       "  window.PyViz = {comms: {}, comm_status:{}, kernels:{}, receivers: {}, plot_index: []}\n",
       "}\n",
       "\n",
       "\n",
       "    function JupyterCommManager() {\n",
       "    }\n",
       "\n",
       "    JupyterCommManager.prototype.register_target = function(plot_id, comm_id, msg_handler) {\n",
       "      if (window.comm_manager || ((window.Jupyter !== undefined) && (Jupyter.notebook.kernel != null))) {\n",
       "        var comm_manager = window.comm_manager || Jupyter.notebook.kernel.comm_manager;\n",
       "        comm_manager.register_target(comm_id, function(comm) {\n",
       "          comm.on_msg(msg_handler);\n",
       "        });\n",
       "      } else if ((plot_id in window.PyViz.kernels) && (window.PyViz.kernels[plot_id])) {\n",
       "        window.PyViz.kernels[plot_id].registerCommTarget(comm_id, function(comm) {\n",
       "          comm.onMsg = msg_handler;\n",
       "        });\n",
       "      } else if (typeof google != 'undefined' && google.colab.kernel != null) {\n",
       "        google.colab.kernel.comms.registerTarget(comm_id, (comm) => {\n",
       "          var messages = comm.messages[Symbol.asyncIterator]();\n",
       "          function processIteratorResult(result) {\n",
       "            var message = result.value;\n",
       "            console.log(message)\n",
       "            var content = {data: message.data, comm_id};\n",
       "            var buffers = []\n",
       "            for (var buffer of message.buffers || []) {\n",
       "              buffers.push(new DataView(buffer))\n",
       "            }\n",
       "            var metadata = message.metadata || {};\n",
       "            var msg = {content, buffers, metadata}\n",
       "            msg_handler(msg);\n",
       "            return messages.next().then(processIteratorResult);\n",
       "          }\n",
       "          return messages.next().then(processIteratorResult);\n",
       "        })\n",
       "      }\n",
       "    }\n",
       "\n",
       "    JupyterCommManager.prototype.get_client_comm = function(plot_id, comm_id, msg_handler) {\n",
       "      if (comm_id in window.PyViz.comms) {\n",
       "        return window.PyViz.comms[comm_id];\n",
       "      } else if (window.comm_manager || ((window.Jupyter !== undefined) && (Jupyter.notebook.kernel != null))) {\n",
       "        var comm_manager = window.comm_manager || Jupyter.notebook.kernel.comm_manager;\n",
       "        var comm = comm_manager.new_comm(comm_id, {}, {}, {}, comm_id);\n",
       "        if (msg_handler) {\n",
       "          comm.on_msg(msg_handler);\n",
       "        }\n",
       "      } else if ((plot_id in window.PyViz.kernels) && (window.PyViz.kernels[plot_id])) {\n",
       "        var comm = window.PyViz.kernels[plot_id].connectToComm(comm_id);\n",
       "        comm.open();\n",
       "        if (msg_handler) {\n",
       "          comm.onMsg = msg_handler;\n",
       "        }\n",
       "      } else if (typeof google != 'undefined' && google.colab.kernel != null) {\n",
       "        var comm_promise = google.colab.kernel.comms.open(comm_id)\n",
       "        comm_promise.then((comm) => {\n",
       "          window.PyViz.comms[comm_id] = comm;\n",
       "          if (msg_handler) {\n",
       "            var messages = comm.messages[Symbol.asyncIterator]();\n",
       "            function processIteratorResult(result) {\n",
       "              var message = result.value;\n",
       "              var content = {data: message.data};\n",
       "              var metadata = message.metadata || {comm_id};\n",
       "              var msg = {content, metadata}\n",
       "              msg_handler(msg);\n",
       "              return messages.next().then(processIteratorResult);\n",
       "            }\n",
       "            return messages.next().then(processIteratorResult);\n",
       "          }\n",
       "        }) \n",
       "        var sendClosure = (data, metadata, buffers, disposeOnDone) => {\n",
       "          return comm_promise.then((comm) => {\n",
       "            comm.send(data, metadata, buffers, disposeOnDone);\n",
       "          });\n",
       "        };\n",
       "        var comm = {\n",
       "          send: sendClosure\n",
       "        };\n",
       "      }\n",
       "      window.PyViz.comms[comm_id] = comm;\n",
       "      return comm;\n",
       "    }\n",
       "    window.PyViz.comm_manager = new JupyterCommManager();\n",
       "    \n",
       "\n",
       "\n",
       "var JS_MIME_TYPE = 'application/javascript';\n",
       "var HTML_MIME_TYPE = 'text/html';\n",
       "var EXEC_MIME_TYPE = 'application/vnd.holoviews_exec.v0+json';\n",
       "var CLASS_NAME = 'output';\n",
       "\n",
       "/**\n",
       " * Render data to the DOM node\n",
       " */\n",
       "function render(props, node) {\n",
       "  var div = document.createElement(\"div\");\n",
       "  var script = document.createElement(\"script\");\n",
       "  node.appendChild(div);\n",
       "  node.appendChild(script);\n",
       "}\n",
       "\n",
       "/**\n",
       " * Handle when a new output is added\n",
       " */\n",
       "function handle_add_output(event, handle) {\n",
       "  var output_area = handle.output_area;\n",
       "  var output = handle.output;\n",
       "  if ((output.data == undefined) || (!output.data.hasOwnProperty(EXEC_MIME_TYPE))) {\n",
       "    return\n",
       "  }\n",
       "  var id = output.metadata[EXEC_MIME_TYPE][\"id\"];\n",
       "  var toinsert = output_area.element.find(\".\" + CLASS_NAME.split(' ')[0]);\n",
       "  if (id !== undefined) {\n",
       "    var nchildren = toinsert.length;\n",
       "    var html_node = toinsert[nchildren-1].children[0];\n",
       "    html_node.innerHTML = output.data[HTML_MIME_TYPE];\n",
       "    var scripts = [];\n",
       "    var nodelist = html_node.querySelectorAll(\"script\");\n",
       "    for (var i in nodelist) {\n",
       "      if (nodelist.hasOwnProperty(i)) {\n",
       "        scripts.push(nodelist[i])\n",
       "      }\n",
       "    }\n",
       "\n",
       "    scripts.forEach( function (oldScript) {\n",
       "      var newScript = document.createElement(\"script\");\n",
       "      var attrs = [];\n",
       "      var nodemap = oldScript.attributes;\n",
       "      for (var j in nodemap) {\n",
       "        if (nodemap.hasOwnProperty(j)) {\n",
       "          attrs.push(nodemap[j])\n",
       "        }\n",
       "      }\n",
       "      attrs.forEach(function(attr) { newScript.setAttribute(attr.name, attr.value) });\n",
       "      newScript.appendChild(document.createTextNode(oldScript.innerHTML));\n",
       "      oldScript.parentNode.replaceChild(newScript, oldScript);\n",
       "    });\n",
       "    if (JS_MIME_TYPE in output.data) {\n",
       "      toinsert[nchildren-1].children[1].textContent = output.data[JS_MIME_TYPE];\n",
       "    }\n",
       "    output_area._hv_plot_id = id;\n",
       "    if ((window.Bokeh !== undefined) && (id in Bokeh.index)) {\n",
       "      window.PyViz.plot_index[id] = Bokeh.index[id];\n",
       "    } else {\n",
       "      window.PyViz.plot_index[id] = null;\n",
       "    }\n",
       "  } else if (output.metadata[EXEC_MIME_TYPE][\"server_id\"] !== undefined) {\n",
       "    var bk_div = document.createElement(\"div\");\n",
       "    bk_div.innerHTML = output.data[HTML_MIME_TYPE];\n",
       "    var script_attrs = bk_div.children[0].attributes;\n",
       "    for (var i = 0; i < script_attrs.length; i++) {\n",
       "      toinsert[toinsert.length - 1].childNodes[1].setAttribute(script_attrs[i].name, script_attrs[i].value);\n",
       "    }\n",
       "    // store reference to server id on output_area\n",
       "    output_area._bokeh_server_id = output.metadata[EXEC_MIME_TYPE][\"server_id\"];\n",
       "  }\n",
       "}\n",
       "\n",
       "/**\n",
       " * Handle when an output is cleared or removed\n",
       " */\n",
       "function handle_clear_output(event, handle) {\n",
       "  var id = handle.cell.output_area._hv_plot_id;\n",
       "  var server_id = handle.cell.output_area._bokeh_server_id;\n",
       "  if (((id === undefined) || !(id in PyViz.plot_index)) && (server_id !== undefined)) { return; }\n",
       "  var comm = window.PyViz.comm_manager.get_client_comm(\"hv-extension-comm\", \"hv-extension-comm\", function () {});\n",
       "  if (server_id !== null) {\n",
       "    comm.send({event_type: 'server_delete', 'id': server_id});\n",
       "    return;\n",
       "  } else if (comm !== null) {\n",
       "    comm.send({event_type: 'delete', 'id': id});\n",
       "  }\n",
       "  delete PyViz.plot_index[id];\n",
       "  if ((window.Bokeh !== undefined) & (id in window.Bokeh.index)) {\n",
       "    var doc = window.Bokeh.index[id].model.document\n",
       "    doc.clear();\n",
       "    const i = window.Bokeh.documents.indexOf(doc);\n",
       "    if (i > -1) {\n",
       "      window.Bokeh.documents.splice(i, 1);\n",
       "    }\n",
       "  }\n",
       "}\n",
       "\n",
       "/**\n",
       " * Handle kernel restart event\n",
       " */\n",
       "function handle_kernel_cleanup(event, handle) {\n",
       "  delete PyViz.comms[\"hv-extension-comm\"];\n",
       "  window.PyViz.plot_index = {}\n",
       "}\n",
       "\n",
       "/**\n",
       " * Handle update_display_data messages\n",
       " */\n",
       "function handle_update_output(event, handle) {\n",
       "  handle_clear_output(event, {cell: {output_area: handle.output_area}})\n",
       "  handle_add_output(event, handle)\n",
       "}\n",
       "\n",
       "function register_renderer(events, OutputArea) {\n",
       "  function append_mime(data, metadata, element) {\n",
       "    // create a DOM node to render to\n",
       "    var toinsert = this.create_output_subarea(\n",
       "    metadata,\n",
       "    CLASS_NAME,\n",
       "    EXEC_MIME_TYPE\n",
       "    );\n",
       "    this.keyboard_manager.register_events(toinsert);\n",
       "    // Render to node\n",
       "    var props = {data: data, metadata: metadata[EXEC_MIME_TYPE]};\n",
       "    render(props, toinsert[0]);\n",
       "    element.append(toinsert);\n",
       "    return toinsert\n",
       "  }\n",
       "\n",
       "  events.on('output_added.OutputArea', handle_add_output);\n",
       "  events.on('output_updated.OutputArea', handle_update_output);\n",
       "  events.on('clear_output.CodeCell', handle_clear_output);\n",
       "  events.on('delete.Cell', handle_clear_output);\n",
       "  events.on('kernel_ready.Kernel', handle_kernel_cleanup);\n",
       "\n",
       "  OutputArea.prototype.register_mime_type(EXEC_MIME_TYPE, append_mime, {\n",
       "    safe: true,\n",
       "    index: 0\n",
       "  });\n",
       "}\n",
       "\n",
       "if (window.Jupyter !== undefined) {\n",
       "  try {\n",
       "    var events = require('base/js/events');\n",
       "    var OutputArea = require('notebook/js/outputarea').OutputArea;\n",
       "    if (OutputArea.prototype.mime_types().indexOf(EXEC_MIME_TYPE) == -1) {\n",
       "      register_renderer(events, OutputArea);\n",
       "    }\n",
       "  } catch(err) {\n",
       "  }\n",
       "}\n"
      ],
      "application/vnd.holoviews_load.v0+json": "\nif ((window.PyViz === undefined) || (window.PyViz instanceof HTMLElement)) {\n  window.PyViz = {comms: {}, comm_status:{}, kernels:{}, receivers: {}, plot_index: []}\n}\n\n\n    function JupyterCommManager() {\n    }\n\n    JupyterCommManager.prototype.register_target = function(plot_id, comm_id, msg_handler) {\n      if (window.comm_manager || ((window.Jupyter !== undefined) && (Jupyter.notebook.kernel != null))) {\n        var comm_manager = window.comm_manager || Jupyter.notebook.kernel.comm_manager;\n        comm_manager.register_target(comm_id, function(comm) {\n          comm.on_msg(msg_handler);\n        });\n      } else if ((plot_id in window.PyViz.kernels) && (window.PyViz.kernels[plot_id])) {\n        window.PyViz.kernels[plot_id].registerCommTarget(comm_id, function(comm) {\n          comm.onMsg = msg_handler;\n        });\n      } else if (typeof google != 'undefined' && google.colab.kernel != null) {\n        google.colab.kernel.comms.registerTarget(comm_id, (comm) => {\n          var messages = comm.messages[Symbol.asyncIterator]();\n          function processIteratorResult(result) {\n            var message = result.value;\n            console.log(message)\n            var content = {data: message.data, comm_id};\n            var buffers = []\n            for (var buffer of message.buffers || []) {\n              buffers.push(new DataView(buffer))\n            }\n            var metadata = message.metadata || {};\n            var msg = {content, buffers, metadata}\n            msg_handler(msg);\n            return messages.next().then(processIteratorResult);\n          }\n          return messages.next().then(processIteratorResult);\n        })\n      }\n    }\n\n    JupyterCommManager.prototype.get_client_comm = function(plot_id, comm_id, msg_handler) {\n      if (comm_id in window.PyViz.comms) {\n        return window.PyViz.comms[comm_id];\n      } else if (window.comm_manager || ((window.Jupyter !== undefined) && (Jupyter.notebook.kernel != null))) {\n        var comm_manager = window.comm_manager || Jupyter.notebook.kernel.comm_manager;\n        var comm = comm_manager.new_comm(comm_id, {}, {}, {}, comm_id);\n        if (msg_handler) {\n          comm.on_msg(msg_handler);\n        }\n      } else if ((plot_id in window.PyViz.kernels) && (window.PyViz.kernels[plot_id])) {\n        var comm = window.PyViz.kernels[plot_id].connectToComm(comm_id);\n        comm.open();\n        if (msg_handler) {\n          comm.onMsg = msg_handler;\n        }\n      } else if (typeof google != 'undefined' && google.colab.kernel != null) {\n        var comm_promise = google.colab.kernel.comms.open(comm_id)\n        comm_promise.then((comm) => {\n          window.PyViz.comms[comm_id] = comm;\n          if (msg_handler) {\n            var messages = comm.messages[Symbol.asyncIterator]();\n            function processIteratorResult(result) {\n              var message = result.value;\n              var content = {data: message.data};\n              var metadata = message.metadata || {comm_id};\n              var msg = {content, metadata}\n              msg_handler(msg);\n              return messages.next().then(processIteratorResult);\n            }\n            return messages.next().then(processIteratorResult);\n          }\n        }) \n        var sendClosure = (data, metadata, buffers, disposeOnDone) => {\n          return comm_promise.then((comm) => {\n            comm.send(data, metadata, buffers, disposeOnDone);\n          });\n        };\n        var comm = {\n          send: sendClosure\n        };\n      }\n      window.PyViz.comms[comm_id] = comm;\n      return comm;\n    }\n    window.PyViz.comm_manager = new JupyterCommManager();\n    \n\n\nvar JS_MIME_TYPE = 'application/javascript';\nvar HTML_MIME_TYPE = 'text/html';\nvar EXEC_MIME_TYPE = 'application/vnd.holoviews_exec.v0+json';\nvar CLASS_NAME = 'output';\n\n/**\n * Render data to the DOM node\n */\nfunction render(props, node) {\n  var div = document.createElement(\"div\");\n  var script = document.createElement(\"script\");\n  node.appendChild(div);\n  node.appendChild(script);\n}\n\n/**\n * Handle when a new output is added\n */\nfunction handle_add_output(event, handle) {\n  var output_area = handle.output_area;\n  var output = handle.output;\n  if ((output.data == undefined) || (!output.data.hasOwnProperty(EXEC_MIME_TYPE))) {\n    return\n  }\n  var id = output.metadata[EXEC_MIME_TYPE][\"id\"];\n  var toinsert = output_area.element.find(\".\" + CLASS_NAME.split(' ')[0]);\n  if (id !== undefined) {\n    var nchildren = toinsert.length;\n    var html_node = toinsert[nchildren-1].children[0];\n    html_node.innerHTML = output.data[HTML_MIME_TYPE];\n    var scripts = [];\n    var nodelist = html_node.querySelectorAll(\"script\");\n    for (var i in nodelist) {\n      if (nodelist.hasOwnProperty(i)) {\n        scripts.push(nodelist[i])\n      }\n    }\n\n    scripts.forEach( function (oldScript) {\n      var newScript = document.createElement(\"script\");\n      var attrs = [];\n      var nodemap = oldScript.attributes;\n      for (var j in nodemap) {\n        if (nodemap.hasOwnProperty(j)) {\n          attrs.push(nodemap[j])\n        }\n      }\n      attrs.forEach(function(attr) { newScript.setAttribute(attr.name, attr.value) });\n      newScript.appendChild(document.createTextNode(oldScript.innerHTML));\n      oldScript.parentNode.replaceChild(newScript, oldScript);\n    });\n    if (JS_MIME_TYPE in output.data) {\n      toinsert[nchildren-1].children[1].textContent = output.data[JS_MIME_TYPE];\n    }\n    output_area._hv_plot_id = id;\n    if ((window.Bokeh !== undefined) && (id in Bokeh.index)) {\n      window.PyViz.plot_index[id] = Bokeh.index[id];\n    } else {\n      window.PyViz.plot_index[id] = null;\n    }\n  } else if (output.metadata[EXEC_MIME_TYPE][\"server_id\"] !== undefined) {\n    var bk_div = document.createElement(\"div\");\n    bk_div.innerHTML = output.data[HTML_MIME_TYPE];\n    var script_attrs = bk_div.children[0].attributes;\n    for (var i = 0; i < script_attrs.length; i++) {\n      toinsert[toinsert.length - 1].childNodes[1].setAttribute(script_attrs[i].name, script_attrs[i].value);\n    }\n    // store reference to server id on output_area\n    output_area._bokeh_server_id = output.metadata[EXEC_MIME_TYPE][\"server_id\"];\n  }\n}\n\n/**\n * Handle when an output is cleared or removed\n */\nfunction handle_clear_output(event, handle) {\n  var id = handle.cell.output_area._hv_plot_id;\n  var server_id = handle.cell.output_area._bokeh_server_id;\n  if (((id === undefined) || !(id in PyViz.plot_index)) && (server_id !== undefined)) { return; }\n  var comm = window.PyViz.comm_manager.get_client_comm(\"hv-extension-comm\", \"hv-extension-comm\", function () {});\n  if (server_id !== null) {\n    comm.send({event_type: 'server_delete', 'id': server_id});\n    return;\n  } else if (comm !== null) {\n    comm.send({event_type: 'delete', 'id': id});\n  }\n  delete PyViz.plot_index[id];\n  if ((window.Bokeh !== undefined) & (id in window.Bokeh.index)) {\n    var doc = window.Bokeh.index[id].model.document\n    doc.clear();\n    const i = window.Bokeh.documents.indexOf(doc);\n    if (i > -1) {\n      window.Bokeh.documents.splice(i, 1);\n    }\n  }\n}\n\n/**\n * Handle kernel restart event\n */\nfunction handle_kernel_cleanup(event, handle) {\n  delete PyViz.comms[\"hv-extension-comm\"];\n  window.PyViz.plot_index = {}\n}\n\n/**\n * Handle update_display_data messages\n */\nfunction handle_update_output(event, handle) {\n  handle_clear_output(event, {cell: {output_area: handle.output_area}})\n  handle_add_output(event, handle)\n}\n\nfunction register_renderer(events, OutputArea) {\n  function append_mime(data, metadata, element) {\n    // create a DOM node to render to\n    var toinsert = this.create_output_subarea(\n    metadata,\n    CLASS_NAME,\n    EXEC_MIME_TYPE\n    );\n    this.keyboard_manager.register_events(toinsert);\n    // Render to node\n    var props = {data: data, metadata: metadata[EXEC_MIME_TYPE]};\n    render(props, toinsert[0]);\n    element.append(toinsert);\n    return toinsert\n  }\n\n  events.on('output_added.OutputArea', handle_add_output);\n  events.on('output_updated.OutputArea', handle_update_output);\n  events.on('clear_output.CodeCell', handle_clear_output);\n  events.on('delete.Cell', handle_clear_output);\n  events.on('kernel_ready.Kernel', handle_kernel_cleanup);\n\n  OutputArea.prototype.register_mime_type(EXEC_MIME_TYPE, append_mime, {\n    safe: true,\n    index: 0\n  });\n}\n\nif (window.Jupyter !== undefined) {\n  try {\n    var events = require('base/js/events');\n    var OutputArea = require('notebook/js/outputarea').OutputArea;\n    if (OutputArea.prototype.mime_types().indexOf(EXEC_MIME_TYPE) == -1) {\n      register_renderer(events, OutputArea);\n    }\n  } catch(err) {\n  }\n}\n"
     },
     "metadata": {},
     "output_type": "display_data"
    },
    {
     "data": {
      "text/html": [
       "<style>.bk-root, .bk-root .bk:before, .bk-root .bk:after {\n",
       "  font-family: var(--jp-ui-font-size1);\n",
       "  font-size: var(--jp-ui-font-size1);\n",
       "  color: var(--jp-ui-font-color1);\n",
       "}\n",
       "</style>"
      ]
     },
     "metadata": {},
     "output_type": "display_data"
    }
   ],
   "source": [
    "import datetime as dt\n",
    "import panel as pn\n",
    "from panel.interact import interact, interactive, fixed, interact_manual\n",
    "pn.extension()"
   ]
  },
  {
   "cell_type": "code",
   "execution_count": 72,
   "id": "1a6ecee7",
   "metadata": {
    "id": "1a6ecee7"
   },
   "outputs": [],
   "source": [
    "from matplotlib.figure import Figure\n",
    "from matplotlib.backends.backend_agg import FigureCanvas\n",
    "import matplotlib.pyplot as plt\n",
    "\n",
    "%matplotlib inline"
   ]
  },
  {
   "cell_type": "code",
   "execution_count": 73,
   "id": "03626207",
   "metadata": {
    "colab": {
     "base_uri": "https://localhost:8080/",
     "height": 424
    },
    "id": "03626207",
    "outputId": "6eafcee4-96ba-44e2-8cdd-ab7d17b844bd"
   },
   "outputs": [
    {
     "data": {
      "text/html": [
       "<div>\n",
       "<style scoped>\n",
       "    .dataframe tbody tr th:only-of-type {\n",
       "        vertical-align: middle;\n",
       "    }\n",
       "\n",
       "    .dataframe tbody tr th {\n",
       "        vertical-align: top;\n",
       "    }\n",
       "\n",
       "    .dataframe thead th {\n",
       "        text-align: right;\n",
       "    }\n",
       "</style>\n",
       "<table border=\"1\" class=\"dataframe\">\n",
       "  <thead>\n",
       "    <tr style=\"text-align: right;\">\n",
       "      <th></th>\n",
       "      <th>region</th>\n",
       "      <th>west</th>\n",
       "      <th>east</th>\n",
       "      <th>south</th>\n",
       "      <th>north</th>\n",
       "    </tr>\n",
       "  </thead>\n",
       "  <tbody>\n",
       "    <tr>\n",
       "      <th>0</th>\n",
       "      <td>1</td>\n",
       "      <td>-74.255590</td>\n",
       "      <td>-74.244478</td>\n",
       "      <td>40.496120</td>\n",
       "      <td>40.504508</td>\n",
       "    </tr>\n",
       "    <tr>\n",
       "      <th>1</th>\n",
       "      <td>2</td>\n",
       "      <td>-74.255590</td>\n",
       "      <td>-74.244478</td>\n",
       "      <td>40.504508</td>\n",
       "      <td>40.512896</td>\n",
       "    </tr>\n",
       "    <tr>\n",
       "      <th>2</th>\n",
       "      <td>3</td>\n",
       "      <td>-74.255590</td>\n",
       "      <td>-74.244478</td>\n",
       "      <td>40.512896</td>\n",
       "      <td>40.521285</td>\n",
       "    </tr>\n",
       "    <tr>\n",
       "      <th>3</th>\n",
       "      <td>4</td>\n",
       "      <td>-74.255590</td>\n",
       "      <td>-74.244478</td>\n",
       "      <td>40.521285</td>\n",
       "      <td>40.529673</td>\n",
       "    </tr>\n",
       "    <tr>\n",
       "      <th>4</th>\n",
       "      <td>5</td>\n",
       "      <td>-74.255590</td>\n",
       "      <td>-74.244478</td>\n",
       "      <td>40.529673</td>\n",
       "      <td>40.538061</td>\n",
       "    </tr>\n",
       "    <tr>\n",
       "      <th>...</th>\n",
       "      <td>...</td>\n",
       "      <td>...</td>\n",
       "      <td>...</td>\n",
       "      <td>...</td>\n",
       "      <td>...</td>\n",
       "    </tr>\n",
       "    <tr>\n",
       "      <th>2495</th>\n",
       "      <td>2496</td>\n",
       "      <td>-73.711122</td>\n",
       "      <td>-73.700010</td>\n",
       "      <td>40.873589</td>\n",
       "      <td>40.881977</td>\n",
       "    </tr>\n",
       "    <tr>\n",
       "      <th>2496</th>\n",
       "      <td>2497</td>\n",
       "      <td>-73.711122</td>\n",
       "      <td>-73.700010</td>\n",
       "      <td>40.881977</td>\n",
       "      <td>40.890365</td>\n",
       "    </tr>\n",
       "    <tr>\n",
       "      <th>2497</th>\n",
       "      <td>2498</td>\n",
       "      <td>-73.711122</td>\n",
       "      <td>-73.700010</td>\n",
       "      <td>40.890365</td>\n",
       "      <td>40.898754</td>\n",
       "    </tr>\n",
       "    <tr>\n",
       "      <th>2498</th>\n",
       "      <td>2499</td>\n",
       "      <td>-73.711122</td>\n",
       "      <td>-73.700010</td>\n",
       "      <td>40.898754</td>\n",
       "      <td>40.907142</td>\n",
       "    </tr>\n",
       "    <tr>\n",
       "      <th>2499</th>\n",
       "      <td>2500</td>\n",
       "      <td>-73.711122</td>\n",
       "      <td>-73.700010</td>\n",
       "      <td>40.907142</td>\n",
       "      <td>40.915530</td>\n",
       "    </tr>\n",
       "  </tbody>\n",
       "</table>\n",
       "<p>2500 rows × 5 columns</p>\n",
       "</div>"
      ],
      "text/plain": [
       "      region       west       east      south      north\n",
       "0          1 -74.255590 -74.244478  40.496120  40.504508\n",
       "1          2 -74.255590 -74.244478  40.504508  40.512896\n",
       "2          3 -74.255590 -74.244478  40.512896  40.521285\n",
       "3          4 -74.255590 -74.244478  40.521285  40.529673\n",
       "4          5 -74.255590 -74.244478  40.529673  40.538061\n",
       "...      ...        ...        ...        ...        ...\n",
       "2495    2496 -73.711122 -73.700010  40.873589  40.881977\n",
       "2496    2497 -73.711122 -73.700010  40.881977  40.890365\n",
       "2497    2498 -73.711122 -73.700010  40.890365  40.898754\n",
       "2498    2499 -73.711122 -73.700010  40.898754  40.907142\n",
       "2499    2500 -73.711122 -73.700010  40.907142  40.915530\n",
       "\n",
       "[2500 rows x 5 columns]"
      ]
     },
     "execution_count": 73,
     "metadata": {},
     "output_type": "execute_result"
    }
   ],
   "source": [
    "regions = pd.read_csv('regions.csv', sep = ';')\n",
    "regions"
   ]
  },
  {
   "cell_type": "code",
   "execution_count": 74,
   "id": "a2w4ER_T1RA9",
   "metadata": {
    "colab": {
     "base_uri": "https://localhost:8080/"
    },
    "id": "a2w4ER_T1RA9",
    "outputId": "fd4b0d6c-5634-445f-bf1f-501a191210ce"
   },
   "outputs": [
    {
     "data": {
      "text/plain": [
       "0      1075\n",
       "1      1076\n",
       "2      1077\n",
       "3      1125\n",
       "4      1126\n",
       "       ... \n",
       "97     2068\n",
       "98     2069\n",
       "99     2118\n",
       "100    2119\n",
       "101    2168\n",
       "Name: 0, Length: 102, dtype: int64"
      ]
     },
     "execution_count": 74,
     "metadata": {},
     "output_type": "execute_result"
    }
   ],
   "source": [
    "nRegions = pd.read_csv('nonzero_regions.csv').iloc[:,1]\n",
    "nRegions"
   ]
  },
  {
   "cell_type": "code",
   "execution_count": 75,
   "id": "4o4J6uXY1bV1",
   "metadata": {
    "colab": {
     "base_uri": "https://localhost:8080/",
     "height": 424
    },
    "id": "4o4J6uXY1bV1",
    "outputId": "fcbff00c-b89d-4881-8e21-10b7a9a33737"
   },
   "outputs": [
    {
     "data": {
      "text/html": [
       "<div>\n",
       "<style scoped>\n",
       "    .dataframe tbody tr th:only-of-type {\n",
       "        vertical-align: middle;\n",
       "    }\n",
       "\n",
       "    .dataframe tbody tr th {\n",
       "        vertical-align: top;\n",
       "    }\n",
       "\n",
       "    .dataframe thead th {\n",
       "        text-align: right;\n",
       "    }\n",
       "</style>\n",
       "<table border=\"1\" class=\"dataframe\">\n",
       "  <thead>\n",
       "    <tr style=\"text-align: right;\">\n",
       "      <th></th>\n",
       "      <th>time</th>\n",
       "      <th>y3</th>\n",
       "      <th>y5</th>\n",
       "      <th>y1</th>\n",
       "      <th>y4</th>\n",
       "      <th>y6</th>\n",
       "      <th>y2</th>\n",
       "      <th>p1</th>\n",
       "      <th>p2</th>\n",
       "      <th>p3</th>\n",
       "      <th>p4</th>\n",
       "      <th>p5</th>\n",
       "      <th>p6</th>\n",
       "      <th>reg</th>\n",
       "    </tr>\n",
       "  </thead>\n",
       "  <tbody>\n",
       "    <tr>\n",
       "      <th>0</th>\n",
       "      <td>2016-05-31 23:00:00</td>\n",
       "      <td>5.0</td>\n",
       "      <td>1.0</td>\n",
       "      <td>26.0</td>\n",
       "      <td>2.0</td>\n",
       "      <td>7.0</td>\n",
       "      <td>14.0</td>\n",
       "      <td>20.437786</td>\n",
       "      <td>12.797665</td>\n",
       "      <td>5.308792</td>\n",
       "      <td>2.489145</td>\n",
       "      <td>3.570617</td>\n",
       "      <td>-1.430789</td>\n",
       "      <td>1075</td>\n",
       "    </tr>\n",
       "    <tr>\n",
       "      <th>1</th>\n",
       "      <td>2016-06-01 00:00:00</td>\n",
       "      <td>2.0</td>\n",
       "      <td>7.0</td>\n",
       "      <td>14.0</td>\n",
       "      <td>1.0</td>\n",
       "      <td>23.0</td>\n",
       "      <td>5.0</td>\n",
       "      <td>15.840590</td>\n",
       "      <td>6.997683</td>\n",
       "      <td>5.162610</td>\n",
       "      <td>6.159503</td>\n",
       "      <td>9.433222</td>\n",
       "      <td>23.594637</td>\n",
       "      <td>1075</td>\n",
       "    </tr>\n",
       "    <tr>\n",
       "      <th>2</th>\n",
       "      <td>2016-06-01 01:00:00</td>\n",
       "      <td>1.0</td>\n",
       "      <td>23.0</td>\n",
       "      <td>5.0</td>\n",
       "      <td>7.0</td>\n",
       "      <td>34.0</td>\n",
       "      <td>2.0</td>\n",
       "      <td>5.374065</td>\n",
       "      <td>3.900729</td>\n",
       "      <td>4.860006</td>\n",
       "      <td>10.779229</td>\n",
       "      <td>21.945648</td>\n",
       "      <td>51.088463</td>\n",
       "      <td>1075</td>\n",
       "    </tr>\n",
       "    <tr>\n",
       "      <th>3</th>\n",
       "      <td>2016-06-01 02:00:00</td>\n",
       "      <td>7.0</td>\n",
       "      <td>34.0</td>\n",
       "      <td>2.0</td>\n",
       "      <td>23.0</td>\n",
       "      <td>72.0</td>\n",
       "      <td>1.0</td>\n",
       "      <td>3.966870</td>\n",
       "      <td>4.875349</td>\n",
       "      <td>11.151024</td>\n",
       "      <td>22.262970</td>\n",
       "      <td>49.118572</td>\n",
       "      <td>81.778120</td>\n",
       "      <td>1075</td>\n",
       "    </tr>\n",
       "    <tr>\n",
       "      <th>4</th>\n",
       "      <td>2016-06-01 03:00:00</td>\n",
       "      <td>23.0</td>\n",
       "      <td>72.0</td>\n",
       "      <td>1.0</td>\n",
       "      <td>34.0</td>\n",
       "      <td>54.0</td>\n",
       "      <td>7.0</td>\n",
       "      <td>4.342900</td>\n",
       "      <td>9.599047</td>\n",
       "      <td>20.957472</td>\n",
       "      <td>50.464120</td>\n",
       "      <td>83.582794</td>\n",
       "      <td>68.052810</td>\n",
       "      <td>1075</td>\n",
       "    </tr>\n",
       "    <tr>\n",
       "      <th>...</th>\n",
       "      <td>...</td>\n",
       "      <td>...</td>\n",
       "      <td>...</td>\n",
       "      <td>...</td>\n",
       "      <td>...</td>\n",
       "      <td>...</td>\n",
       "      <td>...</td>\n",
       "      <td>...</td>\n",
       "      <td>...</td>\n",
       "      <td>...</td>\n",
       "      <td>...</td>\n",
       "      <td>...</td>\n",
       "      <td>...</td>\n",
       "      <td>...</td>\n",
       "    </tr>\n",
       "    <tr>\n",
       "      <th>72925</th>\n",
       "      <td>2016-06-30 13:00:00</td>\n",
       "      <td>2.0</td>\n",
       "      <td>1.0</td>\n",
       "      <td>0.0</td>\n",
       "      <td>1.0</td>\n",
       "      <td>1.0</td>\n",
       "      <td>0.0</td>\n",
       "      <td>11.180874</td>\n",
       "      <td>5.662654</td>\n",
       "      <td>7.215169</td>\n",
       "      <td>5.248611</td>\n",
       "      <td>2.875281</td>\n",
       "      <td>7.211087</td>\n",
       "      <td>2168</td>\n",
       "    </tr>\n",
       "    <tr>\n",
       "      <th>72926</th>\n",
       "      <td>2016-06-30 14:00:00</td>\n",
       "      <td>1.0</td>\n",
       "      <td>1.0</td>\n",
       "      <td>0.0</td>\n",
       "      <td>1.0</td>\n",
       "      <td>0.0</td>\n",
       "      <td>2.0</td>\n",
       "      <td>1.268812</td>\n",
       "      <td>3.726263</td>\n",
       "      <td>3.370064</td>\n",
       "      <td>2.988127</td>\n",
       "      <td>8.562842</td>\n",
       "      <td>10.386863</td>\n",
       "      <td>2168</td>\n",
       "    </tr>\n",
       "    <tr>\n",
       "      <th>72927</th>\n",
       "      <td>2016-06-30 15:00:00</td>\n",
       "      <td>1.0</td>\n",
       "      <td>0.0</td>\n",
       "      <td>2.0</td>\n",
       "      <td>1.0</td>\n",
       "      <td>1.0</td>\n",
       "      <td>1.0</td>\n",
       "      <td>2.196055</td>\n",
       "      <td>3.040368</td>\n",
       "      <td>1.611872</td>\n",
       "      <td>9.144300</td>\n",
       "      <td>7.267639</td>\n",
       "      <td>14.228094</td>\n",
       "      <td>2168</td>\n",
       "    </tr>\n",
       "    <tr>\n",
       "      <th>72928</th>\n",
       "      <td>2016-06-30 16:00:00</td>\n",
       "      <td>1.0</td>\n",
       "      <td>1.0</td>\n",
       "      <td>1.0</td>\n",
       "      <td>0.0</td>\n",
       "      <td>0.0</td>\n",
       "      <td>1.0</td>\n",
       "      <td>0.912981</td>\n",
       "      <td>2.816207</td>\n",
       "      <td>9.109515</td>\n",
       "      <td>8.367270</td>\n",
       "      <td>10.231588</td>\n",
       "      <td>15.348121</td>\n",
       "      <td>2168</td>\n",
       "    </tr>\n",
       "    <tr>\n",
       "      <th>72929</th>\n",
       "      <td>2016-06-30 17:00:00</td>\n",
       "      <td>0.0</td>\n",
       "      <td>0.0</td>\n",
       "      <td>1.0</td>\n",
       "      <td>1.0</td>\n",
       "      <td>0.0</td>\n",
       "      <td>1.0</td>\n",
       "      <td>2.159221</td>\n",
       "      <td>8.556607</td>\n",
       "      <td>6.590431</td>\n",
       "      <td>10.203681</td>\n",
       "      <td>11.998414</td>\n",
       "      <td>8.379140</td>\n",
       "      <td>2168</td>\n",
       "    </tr>\n",
       "  </tbody>\n",
       "</table>\n",
       "<p>72930 rows × 14 columns</p>\n",
       "</div>"
      ],
      "text/plain": [
       "                     time    y3    y5    y1    y4    y6    y2         p1  \\\n",
       "0     2016-05-31 23:00:00   5.0   1.0  26.0   2.0   7.0  14.0  20.437786   \n",
       "1     2016-06-01 00:00:00   2.0   7.0  14.0   1.0  23.0   5.0  15.840590   \n",
       "2     2016-06-01 01:00:00   1.0  23.0   5.0   7.0  34.0   2.0   5.374065   \n",
       "3     2016-06-01 02:00:00   7.0  34.0   2.0  23.0  72.0   1.0   3.966870   \n",
       "4     2016-06-01 03:00:00  23.0  72.0   1.0  34.0  54.0   7.0   4.342900   \n",
       "...                   ...   ...   ...   ...   ...   ...   ...        ...   \n",
       "72925 2016-06-30 13:00:00   2.0   1.0   0.0   1.0   1.0   0.0  11.180874   \n",
       "72926 2016-06-30 14:00:00   1.0   1.0   0.0   1.0   0.0   2.0   1.268812   \n",
       "72927 2016-06-30 15:00:00   1.0   0.0   2.0   1.0   1.0   1.0   2.196055   \n",
       "72928 2016-06-30 16:00:00   1.0   1.0   1.0   0.0   0.0   1.0   0.912981   \n",
       "72929 2016-06-30 17:00:00   0.0   0.0   1.0   1.0   0.0   1.0   2.159221   \n",
       "\n",
       "              p2         p3         p4         p5         p6   reg  \n",
       "0      12.797665   5.308792   2.489145   3.570617  -1.430789  1075  \n",
       "1       6.997683   5.162610   6.159503   9.433222  23.594637  1075  \n",
       "2       3.900729   4.860006  10.779229  21.945648  51.088463  1075  \n",
       "3       4.875349  11.151024  22.262970  49.118572  81.778120  1075  \n",
       "4       9.599047  20.957472  50.464120  83.582794  68.052810  1075  \n",
       "...          ...        ...        ...        ...        ...   ...  \n",
       "72925   5.662654   7.215169   5.248611   2.875281   7.211087  2168  \n",
       "72926   3.726263   3.370064   2.988127   8.562842  10.386863  2168  \n",
       "72927   3.040368   1.611872   9.144300   7.267639  14.228094  2168  \n",
       "72928   2.816207   9.109515   8.367270  10.231588  15.348121  2168  \n",
       "72929   8.556607   6.590431  10.203681  11.998414   8.379140  2168  \n",
       "\n",
       "[72930 rows x 14 columns]"
      ]
     },
     "execution_count": 75,
     "metadata": {},
     "output_type": "execute_result"
    }
   ],
   "source": [
    "forecast = pd.read_csv('forecast.csv')\n",
    "forecast.time = pd.to_datetime(forecast.time)\n",
    "forecast"
   ]
  },
  {
   "cell_type": "code",
   "execution_count": 76,
   "id": "38b3aaff",
   "metadata": {
    "colab": {
     "base_uri": "https://localhost:8080/",
     "height": 132
    },
    "id": "38b3aaff",
    "outputId": "6a19261a-a62d-45db-f9d6-2e439fc689d0"
   },
   "outputs": [
    {
     "data": {},
     "metadata": {},
     "output_type": "display_data"
    },
    {
     "data": {
      "application/vnd.holoviews_exec.v0+json": "",
      "text/html": [
       "<div id='1496'>\n",
       "\n",
       "\n",
       "\n",
       "\n",
       "\n",
       "  <div class=\"bk-root\" id=\"c4e0d661-1961-4f34-9e0b-76040b2f4072\" data-root-id=\"1496\"></div>\n",
       "</div>\n",
       "<script type=\"application/javascript\">(function(root) {\n",
       "  function embed_document(root) {\n",
       "    var docs_json = {\"8f80bb20-0f71-44f1-8306-2b36bd7cc590\":{\"defs\":[{\"extends\":null,\"module\":null,\"name\":\"ReactiveHTML1\",\"overrides\":[],\"properties\":[]},{\"extends\":null,\"module\":null,\"name\":\"FlexBox1\",\"overrides\":[],\"properties\":[{\"default\":\"flex-start\",\"kind\":null,\"name\":\"align_content\"},{\"default\":\"flex-start\",\"kind\":null,\"name\":\"align_items\"},{\"default\":\"row\",\"kind\":null,\"name\":\"flex_direction\"},{\"default\":\"wrap\",\"kind\":null,\"name\":\"flex_wrap\"},{\"default\":\"flex-start\",\"kind\":null,\"name\":\"justify_content\"}]},{\"extends\":null,\"module\":null,\"name\":\"GridStack1\",\"overrides\":[],\"properties\":[{\"default\":\"warn\",\"kind\":null,\"name\":\"mode\"},{\"default\":null,\"kind\":null,\"name\":\"ncols\"},{\"default\":null,\"kind\":null,\"name\":\"nrows\"},{\"default\":true,\"kind\":null,\"name\":\"allow_resize\"},{\"default\":true,\"kind\":null,\"name\":\"allow_drag\"},{\"default\":[],\"kind\":null,\"name\":\"state\"}]},{\"extends\":null,\"module\":null,\"name\":\"click1\",\"overrides\":[],\"properties\":[{\"default\":\"\",\"kind\":null,\"name\":\"terminal_output\"},{\"default\":\"\",\"kind\":null,\"name\":\"debug_name\"},{\"default\":0,\"kind\":null,\"name\":\"clears\"}]},{\"extends\":null,\"module\":null,\"name\":\"TemplateActions1\",\"overrides\":[],\"properties\":[{\"default\":0,\"kind\":null,\"name\":\"open_modal\"},{\"default\":0,\"kind\":null,\"name\":\"close_modal\"}]},{\"extends\":null,\"module\":null,\"name\":\"MaterialTemplateActions1\",\"overrides\":[],\"properties\":[{\"default\":0,\"kind\":null,\"name\":\"open_modal\"},{\"default\":0,\"kind\":null,\"name\":\"close_modal\"}]}],\"roots\":{\"references\":[{\"attributes\":{\"margin\":[5,10,5,10],\"options\":[\"1\",\"2\",\"3\",\"4\",\"5\",\"6\"],\"title\":\"\\u0412\\u044b\\u0431\\u0435\\u0440\\u0438\\u0442\\u0435, \\u043d\\u0430 \\u0441\\u043a\\u043e\\u043b\\u044c\\u043a\\u043e \\u0447\\u0430\\u0441\\u043e\\u0432 \\u043f\\u043e\\u043a\\u0430\\u0437\\u0430\\u0442\\u044c \\u043f\\u0440\\u043e\\u0433\\u043d\\u043e\\u0437\",\"value\":\"1\"},\"id\":\"1496\",\"type\":\"panel.models.widgets.CustomSelect\"},{\"attributes\":{\"client_comm_id\":\"6151cfd6a9c4424597cf00f5e7b8cf8d\",\"comm_id\":\"3acfbef3531b401389980fa36afb88b2\",\"plot_id\":\"1496\"},\"id\":\"1497\",\"type\":\"panel.models.comm_manager.CommManager\"}],\"root_ids\":[\"1496\",\"1497\"]},\"title\":\"Bokeh Application\",\"version\":\"2.4.1\"}};\n",
       "    var render_items = [{\"docid\":\"8f80bb20-0f71-44f1-8306-2b36bd7cc590\",\"root_ids\":[\"1496\"],\"roots\":{\"1496\":\"c4e0d661-1961-4f34-9e0b-76040b2f4072\"}}];\n",
       "    root.Bokeh.embed.embed_items_notebook(docs_json, render_items);\n",
       "  }\n",
       "  if (root.Bokeh !== undefined && root.Bokeh.Panel !== undefined) {\n",
       "    embed_document(root);\n",
       "  } else {\n",
       "    var attempts = 0;\n",
       "    var timer = setInterval(function(root) {\n",
       "      if (root.Bokeh !== undefined && root.Bokeh.Panel !== undefined) {\n",
       "        clearInterval(timer);\n",
       "        embed_document(root);\n",
       "      } else if (document.readyState == \"complete\") {\n",
       "        attempts++;\n",
       "        if (attempts > 200) {\n",
       "          clearInterval(timer);\n",
       "          console.log(\"Bokeh: ERROR: Unable to run BokehJS code because BokehJS library is missing\");\n",
       "        }\n",
       "      }\n",
       "    }, 25, root)\n",
       "  }\n",
       "})(window);</script>"
      ],
      "text/plain": [
       "Select(name='Выберите, на с..., options=[1, 2, 3, 4, 5, 6], value=1)"
      ]
     },
     "metadata": {
      "application/vnd.holoviews_exec.v0+json": {
       "id": "1496"
      }
     },
     "output_type": "display_data"
    },
    {
     "data": {},
     "metadata": {},
     "output_type": "display_data"
    },
    {
     "data": {
      "application/vnd.holoviews_exec.v0+json": "",
      "text/html": [
       "<div id='1498'>\n",
       "\n",
       "\n",
       "\n",
       "\n",
       "\n",
       "  <div class=\"bk-root\" id=\"7a122fd2-e443-4af7-95e1-64c40542f4d4\" data-root-id=\"1498\"></div>\n",
       "</div>\n",
       "<script type=\"application/javascript\">(function(root) {\n",
       "  function embed_document(root) {\n",
       "    var docs_json = {\"f665557a-6c60-475a-9ed1-ec9869f24203\":{\"defs\":[{\"extends\":null,\"module\":null,\"name\":\"ReactiveHTML1\",\"overrides\":[],\"properties\":[]},{\"extends\":null,\"module\":null,\"name\":\"FlexBox1\",\"overrides\":[],\"properties\":[{\"default\":\"flex-start\",\"kind\":null,\"name\":\"align_content\"},{\"default\":\"flex-start\",\"kind\":null,\"name\":\"align_items\"},{\"default\":\"row\",\"kind\":null,\"name\":\"flex_direction\"},{\"default\":\"wrap\",\"kind\":null,\"name\":\"flex_wrap\"},{\"default\":\"flex-start\",\"kind\":null,\"name\":\"justify_content\"}]},{\"extends\":null,\"module\":null,\"name\":\"GridStack1\",\"overrides\":[],\"properties\":[{\"default\":\"warn\",\"kind\":null,\"name\":\"mode\"},{\"default\":null,\"kind\":null,\"name\":\"ncols\"},{\"default\":null,\"kind\":null,\"name\":\"nrows\"},{\"default\":true,\"kind\":null,\"name\":\"allow_resize\"},{\"default\":true,\"kind\":null,\"name\":\"allow_drag\"},{\"default\":[],\"kind\":null,\"name\":\"state\"}]},{\"extends\":null,\"module\":null,\"name\":\"click1\",\"overrides\":[],\"properties\":[{\"default\":\"\",\"kind\":null,\"name\":\"terminal_output\"},{\"default\":\"\",\"kind\":null,\"name\":\"debug_name\"},{\"default\":0,\"kind\":null,\"name\":\"clears\"}]},{\"extends\":null,\"module\":null,\"name\":\"TemplateActions1\",\"overrides\":[],\"properties\":[{\"default\":0,\"kind\":null,\"name\":\"open_modal\"},{\"default\":0,\"kind\":null,\"name\":\"close_modal\"}]},{\"extends\":null,\"module\":null,\"name\":\"MaterialTemplateActions1\",\"overrides\":[],\"properties\":[{\"default\":0,\"kind\":null,\"name\":\"open_modal\"},{\"default\":0,\"kind\":null,\"name\":\"close_modal\"}]}],\"roots\":{\"references\":[{\"attributes\":{\"client_comm_id\":\"9769c313d62640d2b47bfa92ad13d97e\",\"comm_id\":\"b41a965616c14668846f42bb56c80400\",\"plot_id\":\"1498\"},\"id\":\"1499\",\"type\":\"panel.models.comm_manager.CommManager\"},{\"attributes\":{\"margin\":[5,10,5,10],\"options\":[\"1075\",\"1076\",\"1077\",\"1125\",\"1126\",\"1127\",\"1128\",\"1129\",\"1130\",\"1131\",\"1132\",\"1172\",\"1173\",\"1174\",\"1175\",\"1176\",\"1177\",\"1178\",\"1179\",\"1180\",\"1181\",\"1182\",\"1183\",\"1184\",\"1221\",\"1222\",\"1223\",\"1224\",\"1225\",\"1227\",\"1228\",\"1229\",\"1230\",\"1231\",\"1232\",\"1233\",\"1234\",\"1235\",\"1272\",\"1273\",\"1274\",\"1278\",\"1279\",\"1280\",\"1281\",\"1282\",\"1283\",\"1284\",\"1285\",\"1286\",\"1287\",\"1326\",\"1327\",\"1331\",\"1332\",\"1333\",\"1334\",\"1335\",\"1336\",\"1337\",\"1338\",\"1339\",\"1376\",\"1377\",\"1378\",\"1380\",\"1382\",\"1383\",\"1384\",\"1385\",\"1386\",\"1387\",\"1388\",\"1389\",\"1390\",\"1426\",\"1431\",\"1434\",\"1435\",\"1436\",\"1437\",\"1438\",\"1439\",\"1441\",\"1442\",\"1480\",\"1482\",\"1483\",\"1530\",\"1532\",\"1533\",\"1580\",\"1630\",\"1684\",\"1733\",\"1734\",\"1783\",\"2068\",\"2069\",\"2118\",\"2119\",\"2168\"],\"title\":\"\\u0412\\u044b\\u0431\\u0435\\u0440\\u0438\\u0442\\u0435 \\u0440\\u0435\\u0433\\u0438\\u043e\\u043d \\u0438\\u0437 \\u0441\\u043f\\u0438\\u0441\\u043a\\u0430\",\"value\":\"1075\"},\"id\":\"1498\",\"type\":\"panel.models.widgets.CustomSelect\"}],\"root_ids\":[\"1498\",\"1499\"]},\"title\":\"Bokeh Application\",\"version\":\"2.4.1\"}};\n",
       "    var render_items = [{\"docid\":\"f665557a-6c60-475a-9ed1-ec9869f24203\",\"root_ids\":[\"1498\"],\"roots\":{\"1498\":\"7a122fd2-e443-4af7-95e1-64c40542f4d4\"}}];\n",
       "    root.Bokeh.embed.embed_items_notebook(docs_json, render_items);\n",
       "  }\n",
       "  if (root.Bokeh !== undefined && root.Bokeh.Panel !== undefined) {\n",
       "    embed_document(root);\n",
       "  } else {\n",
       "    var attempts = 0;\n",
       "    var timer = setInterval(function(root) {\n",
       "      if (root.Bokeh !== undefined && root.Bokeh.Panel !== undefined) {\n",
       "        clearInterval(timer);\n",
       "        embed_document(root);\n",
       "      } else if (document.readyState == \"complete\") {\n",
       "        attempts++;\n",
       "        if (attempts > 200) {\n",
       "          clearInterval(timer);\n",
       "          console.log(\"Bokeh: ERROR: Unable to run BokehJS code because BokehJS library is missing\");\n",
       "        }\n",
       "      }\n",
       "    }, 25, root)\n",
       "  }\n",
       "})(window);</script>"
      ],
      "text/plain": [
       "Select(name='Выберите регион и..., options=[1075, 1076, 1077, ...], value=1075)"
      ]
     },
     "metadata": {
      "application/vnd.holoviews_exec.v0+json": {
       "id": "1498"
      }
     },
     "output_type": "display_data"
    }
   ],
   "source": [
    "hourSelect = pn.widgets.Select(name = 'Выберите, на сколько часов показать прогноз', value = 1, options = [1, 2, 3, 4, 5, 6])\n",
    "\n",
    "regSelect = pn.widgets.Select(name = 'Выберите регион из списка', value = 1075, options = list(nRegions))\n",
    "\n",
    "display(hourSelect, regSelect)"
   ]
  },
  {
   "cell_type": "code",
   "execution_count": 77,
   "id": "e77262cd",
   "metadata": {
    "colab": {
     "base_uri": "https://localhost:8080/",
     "height": 127
    },
    "id": "e77262cd",
    "outputId": "695279aa-84b5-48f8-f4ef-2bd5321b6f5f"
   },
   "outputs": [
    {
     "data": {},
     "metadata": {},
     "output_type": "display_data"
    },
    {
     "data": {
      "application/vnd.holoviews_exec.v0+json": "",
      "text/html": [
       "<div id='1500'>\n",
       "\n",
       "\n",
       "\n",
       "\n",
       "\n",
       "  <div class=\"bk-root\" id=\"e24b34ba-4165-4435-8c8b-1c227ecadb58\" data-root-id=\"1500\"></div>\n",
       "</div>\n",
       "<script type=\"application/javascript\">(function(root) {\n",
       "  function embed_document(root) {\n",
       "    var docs_json = {\"0fbb81f6-9995-4b08-a5a2-3d86358eb8f5\":{\"defs\":[{\"extends\":null,\"module\":null,\"name\":\"ReactiveHTML1\",\"overrides\":[],\"properties\":[]},{\"extends\":null,\"module\":null,\"name\":\"FlexBox1\",\"overrides\":[],\"properties\":[{\"default\":\"flex-start\",\"kind\":null,\"name\":\"align_content\"},{\"default\":\"flex-start\",\"kind\":null,\"name\":\"align_items\"},{\"default\":\"row\",\"kind\":null,\"name\":\"flex_direction\"},{\"default\":\"wrap\",\"kind\":null,\"name\":\"flex_wrap\"},{\"default\":\"flex-start\",\"kind\":null,\"name\":\"justify_content\"}]},{\"extends\":null,\"module\":null,\"name\":\"GridStack1\",\"overrides\":[],\"properties\":[{\"default\":\"warn\",\"kind\":null,\"name\":\"mode\"},{\"default\":null,\"kind\":null,\"name\":\"ncols\"},{\"default\":null,\"kind\":null,\"name\":\"nrows\"},{\"default\":true,\"kind\":null,\"name\":\"allow_resize\"},{\"default\":true,\"kind\":null,\"name\":\"allow_drag\"},{\"default\":[],\"kind\":null,\"name\":\"state\"}]},{\"extends\":null,\"module\":null,\"name\":\"click1\",\"overrides\":[],\"properties\":[{\"default\":\"\",\"kind\":null,\"name\":\"terminal_output\"},{\"default\":\"\",\"kind\":null,\"name\":\"debug_name\"},{\"default\":0,\"kind\":null,\"name\":\"clears\"}]},{\"extends\":null,\"module\":null,\"name\":\"TemplateActions1\",\"overrides\":[],\"properties\":[{\"default\":0,\"kind\":null,\"name\":\"open_modal\"},{\"default\":0,\"kind\":null,\"name\":\"close_modal\"}]},{\"extends\":null,\"module\":null,\"name\":\"MaterialTemplateActions1\",\"overrides\":[],\"properties\":[{\"default\":0,\"kind\":null,\"name\":\"open_modal\"},{\"default\":0,\"kind\":null,\"name\":\"close_modal\"}]}],\"roots\":{\"references\":[{\"attributes\":{\"end\":1467244800000.0,\"margin\":[5,10,5,10],\"start\":1464739200000.0,\"title\":\"\\u0417\\u0430\\u0434\\u0430\\u0439\\u0442\\u0435 \\u0434\\u0430\\u0442\\u0443 \\u043a\\u043e\\u043d\\u0446\\u0430 \\u0438\\u0441\\u0442\\u043e\\u0440\\u0438\\u0438\",\"value\":1464739200000.0},\"id\":\"1500\",\"type\":\"DateSlider\"},{\"attributes\":{\"client_comm_id\":\"51e472ff79954243b93074be02d727e8\",\"comm_id\":\"089c27a28f5f4478b060277ff8960f6b\",\"plot_id\":\"1500\"},\"id\":\"1501\",\"type\":\"panel.models.comm_manager.CommManager\"}],\"root_ids\":[\"1500\",\"1501\"]},\"title\":\"Bokeh Application\",\"version\":\"2.4.1\"}};\n",
       "    var render_items = [{\"docid\":\"0fbb81f6-9995-4b08-a5a2-3d86358eb8f5\",\"root_ids\":[\"1500\"],\"roots\":{\"1500\":\"e24b34ba-4165-4435-8c8b-1c227ecadb58\"}}];\n",
       "    root.Bokeh.embed.embed_items_notebook(docs_json, render_items);\n",
       "  }\n",
       "  if (root.Bokeh !== undefined && root.Bokeh.Panel !== undefined) {\n",
       "    embed_document(root);\n",
       "  } else {\n",
       "    var attempts = 0;\n",
       "    var timer = setInterval(function(root) {\n",
       "      if (root.Bokeh !== undefined && root.Bokeh.Panel !== undefined) {\n",
       "        clearInterval(timer);\n",
       "        embed_document(root);\n",
       "      } else if (document.readyState == \"complete\") {\n",
       "        attempts++;\n",
       "        if (attempts > 200) {\n",
       "          clearInterval(timer);\n",
       "          console.log(\"Bokeh: ERROR: Unable to run BokehJS code because BokehJS library is missing\");\n",
       "        }\n",
       "      }\n",
       "    }, 25, root)\n",
       "  }\n",
       "})(window);</script>"
      ],
      "text/plain": [
       "DateSlider(as_datetime=True, end=datetime.date(2016, ..., name='Задайте дату к..., start=datetime.date(2016, 6, 1), value=datetime.date(2016, 6, 1))"
      ]
     },
     "metadata": {
      "application/vnd.holoviews_exec.v0+json": {
       "id": "1500"
      }
     },
     "output_type": "display_data"
    },
    {
     "data": {},
     "metadata": {},
     "output_type": "display_data"
    },
    {
     "data": {
      "application/vnd.holoviews_exec.v0+json": "",
      "text/html": [
       "<div id='1502'>\n",
       "\n",
       "\n",
       "\n",
       "\n",
       "\n",
       "  <div class=\"bk-root\" id=\"d816ff85-28e9-4915-8af4-3e6f76abe38a\" data-root-id=\"1502\"></div>\n",
       "</div>\n",
       "<script type=\"application/javascript\">(function(root) {\n",
       "  function embed_document(root) {\n",
       "    var docs_json = {\"31bd1e05-5c82-4811-9906-67640741fcce\":{\"defs\":[{\"extends\":null,\"module\":null,\"name\":\"ReactiveHTML1\",\"overrides\":[],\"properties\":[]},{\"extends\":null,\"module\":null,\"name\":\"FlexBox1\",\"overrides\":[],\"properties\":[{\"default\":\"flex-start\",\"kind\":null,\"name\":\"align_content\"},{\"default\":\"flex-start\",\"kind\":null,\"name\":\"align_items\"},{\"default\":\"row\",\"kind\":null,\"name\":\"flex_direction\"},{\"default\":\"wrap\",\"kind\":null,\"name\":\"flex_wrap\"},{\"default\":\"flex-start\",\"kind\":null,\"name\":\"justify_content\"}]},{\"extends\":null,\"module\":null,\"name\":\"GridStack1\",\"overrides\":[],\"properties\":[{\"default\":\"warn\",\"kind\":null,\"name\":\"mode\"},{\"default\":null,\"kind\":null,\"name\":\"ncols\"},{\"default\":null,\"kind\":null,\"name\":\"nrows\"},{\"default\":true,\"kind\":null,\"name\":\"allow_resize\"},{\"default\":true,\"kind\":null,\"name\":\"allow_drag\"},{\"default\":[],\"kind\":null,\"name\":\"state\"}]},{\"extends\":null,\"module\":null,\"name\":\"click1\",\"overrides\":[],\"properties\":[{\"default\":\"\",\"kind\":null,\"name\":\"terminal_output\"},{\"default\":\"\",\"kind\":null,\"name\":\"debug_name\"},{\"default\":0,\"kind\":null,\"name\":\"clears\"}]},{\"extends\":null,\"module\":null,\"name\":\"TemplateActions1\",\"overrides\":[],\"properties\":[{\"default\":0,\"kind\":null,\"name\":\"open_modal\"},{\"default\":0,\"kind\":null,\"name\":\"close_modal\"}]},{\"extends\":null,\"module\":null,\"name\":\"MaterialTemplateActions1\",\"overrides\":[],\"properties\":[{\"default\":0,\"kind\":null,\"name\":\"open_modal\"},{\"default\":0,\"kind\":null,\"name\":\"close_modal\"}]}],\"roots\":{\"references\":[{\"attributes\":{\"client_comm_id\":\"aff5b986659a43ad8d0fcc9a0f3f8396\",\"comm_id\":\"efdb863dbb52416aafdb104cbc42fb9d\",\"plot_id\":\"1502\"},\"id\":\"1503\",\"type\":\"panel.models.comm_manager.CommManager\"},{\"attributes\":{\"end\":23,\"margin\":[5,10,5,10],\"start\":0,\"title\":\"\\u0417\\u0430\\u0434\\u0430\\u0439\\u0442\\u0435 \\u0447\\u0430\\u0441 \\u043a\\u043e\\u043d\\u0446\\u0430 \\u0438\\u0441\\u0442\\u043e\\u0440\\u0438\\u0438\",\"value\":6},\"id\":\"1502\",\"type\":\"Slider\"}],\"root_ids\":[\"1502\",\"1503\"]},\"title\":\"Bokeh Application\",\"version\":\"2.4.1\"}};\n",
       "    var render_items = [{\"docid\":\"31bd1e05-5c82-4811-9906-67640741fcce\",\"root_ids\":[\"1502\"],\"roots\":{\"1502\":\"d816ff85-28e9-4915-8af4-3e6f76abe38a\"}}];\n",
       "    root.Bokeh.embed.embed_items_notebook(docs_json, render_items);\n",
       "  }\n",
       "  if (root.Bokeh !== undefined && root.Bokeh.Panel !== undefined) {\n",
       "    embed_document(root);\n",
       "  } else {\n",
       "    var attempts = 0;\n",
       "    var timer = setInterval(function(root) {\n",
       "      if (root.Bokeh !== undefined && root.Bokeh.Panel !== undefined) {\n",
       "        clearInterval(timer);\n",
       "        embed_document(root);\n",
       "      } else if (document.readyState == \"complete\") {\n",
       "        attempts++;\n",
       "        if (attempts > 200) {\n",
       "          clearInterval(timer);\n",
       "          console.log(\"Bokeh: ERROR: Unable to run BokehJS code because BokehJS library is missing\");\n",
       "        }\n",
       "      }\n",
       "    }, 25, root)\n",
       "  }\n",
       "})(window);</script>"
      ],
      "text/plain": [
       "IntSlider(end=23, name='Задайте час к..., value=6)"
      ]
     },
     "metadata": {
      "application/vnd.holoviews_exec.v0+json": {
       "id": "1502"
      }
     },
     "output_type": "display_data"
    }
   ],
   "source": [
    "dateSlider = pn.widgets.DateSlider(name = 'Задайте дату конца истории', start = dt.datetime(2016, 6, 1).date(), end = dt.datetime(2016, 6, 30).date(), as_datetime = True)\n",
    "\n",
    "hourSlider = pn.widgets.IntSlider(name = 'Задайте час конца истории', value = 6, start = 0, end = 23)\n",
    "display(dateSlider, hourSlider)"
   ]
  },
  {
   "cell_type": "code",
   "execution_count": 78,
   "id": "0bf97799",
   "metadata": {
    "colab": {
     "base_uri": "https://localhost:8080/"
    },
    "id": "0bf97799",
    "outputId": "77def25f-659b-46cf-fa2d-946580341519"
   },
   "outputs": [
    {
     "data": {
      "text/plain": [
       "Watcher(inst=DateSlider(as_datetime=True, end=datetime.date(2016, ..., name='Задайте дату к..., start=datetime.date(2016, 6, 1), value=datetime.date(2016, 6, 1)), cls=<class 'panel.widgets.slider.DateSlider'>, fn=<function dateHour at 0x000002C3D2B69D30>, mode='args', onlychanged=True, parameter_names=('value',), what='value', queued=False, precedence=0)"
      ]
     },
     "execution_count": 78,
     "metadata": {},
     "output_type": "execute_result"
    }
   ],
   "source": [
    "def dateHour(event):\n",
    "    if event.new == dt.datetime(2016, 6, 30).date():\n",
    "        hourSlider.end = 17\n",
    "        if hourSlider.value > 17:\n",
    "            hourSlider.value = 17\n",
    "    else:\n",
    "        hourSlider.end = 23\n",
    "\n",
    "dateSlider.param.watch(dateHour, 'value')"
   ]
  },
  {
   "cell_type": "code",
   "execution_count": 79,
   "id": "a4566d27",
   "metadata": {
    "colab": {
     "base_uri": "https://localhost:8080/",
     "height": 125
    },
    "id": "a4566d27",
    "outputId": "3a683ffe-4320-41ca-93d3-b65f8d45f087"
   },
   "outputs": [
    {
     "data": {},
     "metadata": {},
     "output_type": "display_data"
    },
    {
     "data": {
      "application/vnd.holoviews_exec.v0+json": "",
      "text/html": [
       "<div id='1504'>\n",
       "\n",
       "\n",
       "\n",
       "\n",
       "\n",
       "  <div class=\"bk-root\" id=\"8ed4e5c2-820a-4179-a68a-0e942c2a425f\" data-root-id=\"1504\"></div>\n",
       "</div>\n",
       "<script type=\"application/javascript\">(function(root) {\n",
       "  function embed_document(root) {\n",
       "    var docs_json = {\"10bef9df-9a74-47b3-bccf-3fdab975e254\":{\"defs\":[{\"extends\":null,\"module\":null,\"name\":\"ReactiveHTML1\",\"overrides\":[],\"properties\":[]},{\"extends\":null,\"module\":null,\"name\":\"FlexBox1\",\"overrides\":[],\"properties\":[{\"default\":\"flex-start\",\"kind\":null,\"name\":\"align_content\"},{\"default\":\"flex-start\",\"kind\":null,\"name\":\"align_items\"},{\"default\":\"row\",\"kind\":null,\"name\":\"flex_direction\"},{\"default\":\"wrap\",\"kind\":null,\"name\":\"flex_wrap\"},{\"default\":\"flex-start\",\"kind\":null,\"name\":\"justify_content\"}]},{\"extends\":null,\"module\":null,\"name\":\"GridStack1\",\"overrides\":[],\"properties\":[{\"default\":\"warn\",\"kind\":null,\"name\":\"mode\"},{\"default\":null,\"kind\":null,\"name\":\"ncols\"},{\"default\":null,\"kind\":null,\"name\":\"nrows\"},{\"default\":true,\"kind\":null,\"name\":\"allow_resize\"},{\"default\":true,\"kind\":null,\"name\":\"allow_drag\"},{\"default\":[],\"kind\":null,\"name\":\"state\"}]},{\"extends\":null,\"module\":null,\"name\":\"click1\",\"overrides\":[],\"properties\":[{\"default\":\"\",\"kind\":null,\"name\":\"terminal_output\"},{\"default\":\"\",\"kind\":null,\"name\":\"debug_name\"},{\"default\":0,\"kind\":null,\"name\":\"clears\"}]},{\"extends\":null,\"module\":null,\"name\":\"TemplateActions1\",\"overrides\":[],\"properties\":[{\"default\":0,\"kind\":null,\"name\":\"open_modal\"},{\"default\":0,\"kind\":null,\"name\":\"close_modal\"}]},{\"extends\":null,\"module\":null,\"name\":\"MaterialTemplateActions1\",\"overrides\":[],\"properties\":[{\"default\":0,\"kind\":null,\"name\":\"open_modal\"},{\"default\":0,\"kind\":null,\"name\":\"close_modal\"}]}],\"roots\":{\"references\":[{\"attributes\":{\"end\":23,\"margin\":[5,10,5,10],\"start\":0,\"title\":\"\\u0417\\u0430\\u0434\\u0430\\u0439\\u0442\\u0435 \\u0447\\u0430\\u0441 \\u043a\\u043e\\u043d\\u0446\\u0430 \\u0438\\u0441\\u0442\\u043e\\u0440\\u0438\\u0438\",\"value\":6},\"id\":\"1506\",\"type\":\"Slider\"},{\"attributes\":{\"end\":1467244800000.0,\"margin\":[5,10,5,10],\"start\":1464739200000.0,\"title\":\"\\u0417\\u0430\\u0434\\u0430\\u0439\\u0442\\u0435 \\u0434\\u0430\\u0442\\u0443 \\u043a\\u043e\\u043d\\u0446\\u0430 \\u0438\\u0441\\u0442\\u043e\\u0440\\u0438\\u0438\",\"value\":1464739200000.0},\"id\":\"1505\",\"type\":\"DateSlider\"},{\"attributes\":{\"client_comm_id\":\"d6886ae06dfa43219cb85372587fbda6\",\"comm_id\":\"bc4c108e4d2548b682ff5ed839502b5a\",\"plot_id\":\"1504\"},\"id\":\"1507\",\"type\":\"panel.models.comm_manager.CommManager\"},{\"attributes\":{\"children\":[{\"id\":\"1505\"},{\"id\":\"1506\"}],\"css_classes\":[\"panel-widget-box\"],\"margin\":[5,5,5,5],\"name\":\"WidgetBox00267\"},\"id\":\"1504\",\"type\":\"Column\"}],\"root_ids\":[\"1504\",\"1507\"]},\"title\":\"Bokeh Application\",\"version\":\"2.4.1\"}};\n",
       "    var render_items = [{\"docid\":\"10bef9df-9a74-47b3-bccf-3fdab975e254\",\"root_ids\":[\"1504\"],\"roots\":{\"1504\":\"8ed4e5c2-820a-4179-a68a-0e942c2a425f\"}}];\n",
       "    root.Bokeh.embed.embed_items_notebook(docs_json, render_items);\n",
       "  }\n",
       "  if (root.Bokeh !== undefined && root.Bokeh.Panel !== undefined) {\n",
       "    embed_document(root);\n",
       "  } else {\n",
       "    var attempts = 0;\n",
       "    var timer = setInterval(function(root) {\n",
       "      if (root.Bokeh !== undefined && root.Bokeh.Panel !== undefined) {\n",
       "        clearInterval(timer);\n",
       "        embed_document(root);\n",
       "      } else if (document.readyState == \"complete\") {\n",
       "        attempts++;\n",
       "        if (attempts > 200) {\n",
       "          clearInterval(timer);\n",
       "          console.log(\"Bokeh: ERROR: Unable to run BokehJS code because BokehJS library is missing\");\n",
       "        }\n",
       "      }\n",
       "    }, 25, root)\n",
       "  }\n",
       "})(window);</script>"
      ],
      "text/plain": [
       "WidgetBox\n",
       "    [0] DateSlider(as_datetime=True, end=datetime.date(2016, ..., name='Задайте дату к..., start=datetime.date(2016, 6, 1), value=datetime.date(2016, 6, 1))\n",
       "    [1] IntSlider(end=23, name='Задайте час к..., value=6)"
      ]
     },
     "execution_count": 79,
     "metadata": {
      "application/vnd.holoviews_exec.v0+json": {
       "id": "1504"
      }
     },
     "output_type": "execute_result"
    }
   ],
   "source": [
    "DateWidget = pn.WidgetBox(dateSlider, hourSlider)\n",
    "DateWidget"
   ]
  },
  {
   "cell_type": "code",
   "execution_count": 80,
   "id": "5c53c452",
   "metadata": {
    "colab": {
     "base_uri": "https://localhost:8080/",
     "height": 147
    },
    "id": "5c53c452",
    "outputId": "0c77b1e0-bb94-48cf-9c87-0849dc61aeb8"
   },
   "outputs": [
    {
     "data": {},
     "metadata": {},
     "output_type": "display_data"
    },
    {
     "data": {
      "application/vnd.holoviews_exec.v0+json": "",
      "text/html": [
       "<div id='1508'>\n",
       "\n",
       "\n",
       "\n",
       "\n",
       "\n",
       "  <div class=\"bk-root\" id=\"6309f59c-b99f-4716-b5b4-12dac2a8ea7f\" data-root-id=\"1508\"></div>\n",
       "</div>\n",
       "<script type=\"application/javascript\">(function(root) {\n",
       "  function embed_document(root) {\n",
       "    var docs_json = {\"2546260c-23c9-43f1-ab07-7a5082c216b6\":{\"defs\":[{\"extends\":null,\"module\":null,\"name\":\"ReactiveHTML1\",\"overrides\":[],\"properties\":[]},{\"extends\":null,\"module\":null,\"name\":\"FlexBox1\",\"overrides\":[],\"properties\":[{\"default\":\"flex-start\",\"kind\":null,\"name\":\"align_content\"},{\"default\":\"flex-start\",\"kind\":null,\"name\":\"align_items\"},{\"default\":\"row\",\"kind\":null,\"name\":\"flex_direction\"},{\"default\":\"wrap\",\"kind\":null,\"name\":\"flex_wrap\"},{\"default\":\"flex-start\",\"kind\":null,\"name\":\"justify_content\"}]},{\"extends\":null,\"module\":null,\"name\":\"GridStack1\",\"overrides\":[],\"properties\":[{\"default\":\"warn\",\"kind\":null,\"name\":\"mode\"},{\"default\":null,\"kind\":null,\"name\":\"ncols\"},{\"default\":null,\"kind\":null,\"name\":\"nrows\"},{\"default\":true,\"kind\":null,\"name\":\"allow_resize\"},{\"default\":true,\"kind\":null,\"name\":\"allow_drag\"},{\"default\":[],\"kind\":null,\"name\":\"state\"}]},{\"extends\":null,\"module\":null,\"name\":\"click1\",\"overrides\":[],\"properties\":[{\"default\":\"\",\"kind\":null,\"name\":\"terminal_output\"},{\"default\":\"\",\"kind\":null,\"name\":\"debug_name\"},{\"default\":0,\"kind\":null,\"name\":\"clears\"}]},{\"extends\":null,\"module\":null,\"name\":\"TemplateActions1\",\"overrides\":[],\"properties\":[{\"default\":0,\"kind\":null,\"name\":\"open_modal\"},{\"default\":0,\"kind\":null,\"name\":\"close_modal\"}]},{\"extends\":null,\"module\":null,\"name\":\"MaterialTemplateActions1\",\"overrides\":[],\"properties\":[{\"default\":0,\"kind\":null,\"name\":\"open_modal\"},{\"default\":0,\"kind\":null,\"name\":\"close_modal\"}]}],\"roots\":{\"references\":[{\"attributes\":{\"margin\":[5,10,5,10],\"options\":[\"1075\",\"1076\",\"1077\",\"1125\",\"1126\",\"1127\",\"1128\",\"1129\",\"1130\",\"1131\",\"1132\",\"1172\",\"1173\",\"1174\",\"1175\",\"1176\",\"1177\",\"1178\",\"1179\",\"1180\",\"1181\",\"1182\",\"1183\",\"1184\",\"1221\",\"1222\",\"1223\",\"1224\",\"1225\",\"1227\",\"1228\",\"1229\",\"1230\",\"1231\",\"1232\",\"1233\",\"1234\",\"1235\",\"1272\",\"1273\",\"1274\",\"1278\",\"1279\",\"1280\",\"1281\",\"1282\",\"1283\",\"1284\",\"1285\",\"1286\",\"1287\",\"1326\",\"1327\",\"1331\",\"1332\",\"1333\",\"1334\",\"1335\",\"1336\",\"1337\",\"1338\",\"1339\",\"1376\",\"1377\",\"1378\",\"1380\",\"1382\",\"1383\",\"1384\",\"1385\",\"1386\",\"1387\",\"1388\",\"1389\",\"1390\",\"1426\",\"1431\",\"1434\",\"1435\",\"1436\",\"1437\",\"1438\",\"1439\",\"1441\",\"1442\",\"1480\",\"1482\",\"1483\",\"1530\",\"1532\",\"1533\",\"1580\",\"1630\",\"1684\",\"1733\",\"1734\",\"1783\",\"2068\",\"2069\",\"2118\",\"2119\",\"2168\"],\"title\":\"\\u0412\\u044b\\u0431\\u0435\\u0440\\u0438\\u0442\\u0435 \\u0440\\u0435\\u0433\\u0438\\u043e\\u043d \\u0438\\u0437 \\u0441\\u043f\\u0438\\u0441\\u043a\\u0430\",\"value\":\"1075\"},\"id\":\"1509\",\"type\":\"panel.models.widgets.CustomSelect\"},{\"attributes\":{\"margin\":[5,10,5,10],\"options\":[\"1\",\"2\",\"3\",\"4\",\"5\",\"6\"],\"title\":\"\\u0412\\u044b\\u0431\\u0435\\u0440\\u0438\\u0442\\u0435, \\u043d\\u0430 \\u0441\\u043a\\u043e\\u043b\\u044c\\u043a\\u043e \\u0447\\u0430\\u0441\\u043e\\u0432 \\u043f\\u043e\\u043a\\u0430\\u0437\\u0430\\u0442\\u044c \\u043f\\u0440\\u043e\\u0433\\u043d\\u043e\\u0437\",\"value\":\"1\"},\"id\":\"1510\",\"type\":\"panel.models.widgets.CustomSelect\"},{\"attributes\":{\"client_comm_id\":\"377c9ef85b89428b86ca0f8a480e95c4\",\"comm_id\":\"3d1834261d79461882d17a7e813e37b1\",\"plot_id\":\"1508\"},\"id\":\"1511\",\"type\":\"panel.models.comm_manager.CommManager\"},{\"attributes\":{\"children\":[{\"id\":\"1509\"},{\"id\":\"1510\"}],\"css_classes\":[\"panel-widget-box\"],\"margin\":[5,5,5,5],\"name\":\"WidgetBox00270\"},\"id\":\"1508\",\"type\":\"Column\"}],\"root_ids\":[\"1508\",\"1511\"]},\"title\":\"Bokeh Application\",\"version\":\"2.4.1\"}};\n",
       "    var render_items = [{\"docid\":\"2546260c-23c9-43f1-ab07-7a5082c216b6\",\"root_ids\":[\"1508\"],\"roots\":{\"1508\":\"6309f59c-b99f-4716-b5b4-12dac2a8ea7f\"}}];\n",
       "    root.Bokeh.embed.embed_items_notebook(docs_json, render_items);\n",
       "  }\n",
       "  if (root.Bokeh !== undefined && root.Bokeh.Panel !== undefined) {\n",
       "    embed_document(root);\n",
       "  } else {\n",
       "    var attempts = 0;\n",
       "    var timer = setInterval(function(root) {\n",
       "      if (root.Bokeh !== undefined && root.Bokeh.Panel !== undefined) {\n",
       "        clearInterval(timer);\n",
       "        embed_document(root);\n",
       "      } else if (document.readyState == \"complete\") {\n",
       "        attempts++;\n",
       "        if (attempts > 200) {\n",
       "          clearInterval(timer);\n",
       "          console.log(\"Bokeh: ERROR: Unable to run BokehJS code because BokehJS library is missing\");\n",
       "        }\n",
       "      }\n",
       "    }, 25, root)\n",
       "  }\n",
       "})(window);</script>"
      ],
      "text/plain": [
       "WidgetBox\n",
       "    [0] Select(name='Выберите регион и..., options=[1075, 1076, 1077, ...], value=1075)\n",
       "    [1] Select(name='Выберите, на с..., options=[1, 2, 3, 4, 5, 6], value=1)"
      ]
     },
     "execution_count": 80,
     "metadata": {
      "application/vnd.holoviews_exec.v0+json": {
       "id": "1508"
      }
     },
     "output_type": "execute_result"
    }
   ],
   "source": [
    "predWidget = pn.WidgetBox(regSelect, hourSelect)\n",
    "predWidget"
   ]
  },
  {
   "cell_type": "code",
   "execution_count": 81,
   "id": "541fc73a",
   "metadata": {
    "id": "541fc73a"
   },
   "outputs": [],
   "source": [
    "def drawSer(date, hour, reg, col):\n",
    "    respCol = ['y1', 'y2', 'y3', 'y4', 'y5', 'y6']\n",
    "    predCol = ['p1', 'p2', 'p3', 'p4', 'p5', 'p6']\n",
    "    figure  = Figure(figsize = (6, 3))\n",
    "    FigureCanvas(figure)\n",
    "    ax = figure.add_subplot()\n",
    "    df = pd.DataFrame(forecast[forecast.reg == reg][[respCol[col - 1], predCol[col - 1]]].iloc[400:])\n",
    "    ax.plot(df[forecast.time > dt.datetime(date.year, date.month, date.day, hour)])\n",
    "    ax.legend(['Истинные данные', 'Прогноз XGBoost'], loc = 1)\n",
    "    return figure"
   ]
  },
  {
   "cell_type": "code",
   "execution_count": 82,
   "id": "24daf06e",
   "metadata": {
    "id": "24daf06e"
   },
   "outputs": [],
   "source": [
    "dataVis = pn.Row(DateWidget, predWidget)\n",
    "plotting = pn.bind(drawSer, dateSlider, hourSlider, regSelect, hourSelect)"
   ]
  },
  {
   "cell_type": "code",
   "execution_count": 83,
   "id": "825fabd5",
   "metadata": {
    "colab": {
     "base_uri": "https://localhost:8080/"
    },
    "id": "825fabd5",
    "outputId": "d6053d3f-a2af-487d-9580-30d282c09e44"
   },
   "outputs": [
    {
     "name": "stderr",
     "output_type": "stream",
     "text": [
      "C:\\Users\\poklo\\AppData\\Local\\Temp/ipykernel_12628/736683208.py:8: UserWarning: Boolean Series key will be reindexed to match DataFrame index.\n",
      "  ax.plot(df[forecast.time > dt.datetime(date.year, date.month, date.day, hour)])\n"
     ]
    }
   ],
   "source": [
    "page1 = pn.Column(\"<br>\\n# Прогнозы количества поездок\", dataVis, plotting, name = 'График')"
   ]
  },
  {
   "cell_type": "code",
   "execution_count": 84,
   "id": "ad9b5072",
   "metadata": {
    "id": "ad9b5072"
   },
   "outputs": [],
   "source": [
    "import folium\n",
    "import branca.colormap as cm"
   ]
  },
  {
   "cell_type": "code",
   "execution_count": 85,
   "id": "a10e0340",
   "metadata": {
    "colab": {
     "base_uri": "https://localhost:8080/",
     "height": 71
    },
    "id": "a10e0340",
    "outputId": "a2b3bce9-e73d-44d6-e4c2-32a5204fe285"
   },
   "outputs": [
    {
     "data": {
      "text/html": [
       "<svg height=\"50\" width=\"500\"><line x1=\"0\" y1=\"0\" x2=\"0\" y2=\"20\" style=\"stroke:#0000ffff;stroke-width:3;\" /><line x1=\"1\" y1=\"0\" x2=\"1\" y2=\"20\" style=\"stroke:#0001fdff;stroke-width:3;\" /><line x1=\"2\" y1=\"0\" x2=\"2\" y2=\"20\" style=\"stroke:#0002fbff;stroke-width:3;\" /><line x1=\"3\" y1=\"0\" x2=\"3\" y2=\"20\" style=\"stroke:#0003f9ff;stroke-width:3;\" /><line x1=\"4\" y1=\"0\" x2=\"4\" y2=\"20\" style=\"stroke:#0004f7ff;stroke-width:3;\" /><line x1=\"5\" y1=\"0\" x2=\"5\" y2=\"20\" style=\"stroke:#0005f5ff;stroke-width:3;\" /><line x1=\"6\" y1=\"0\" x2=\"6\" y2=\"20\" style=\"stroke:#0006f3ff;stroke-width:3;\" /><line x1=\"7\" y1=\"0\" x2=\"7\" y2=\"20\" style=\"stroke:#0007f1ff;stroke-width:3;\" /><line x1=\"8\" y1=\"0\" x2=\"8\" y2=\"20\" style=\"stroke:#0008efff;stroke-width:3;\" /><line x1=\"9\" y1=\"0\" x2=\"9\" y2=\"20\" style=\"stroke:#0009edff;stroke-width:3;\" /><line x1=\"10\" y1=\"0\" x2=\"10\" y2=\"20\" style=\"stroke:#000aebff;stroke-width:3;\" /><line x1=\"11\" y1=\"0\" x2=\"11\" y2=\"20\" style=\"stroke:#000be9ff;stroke-width:3;\" /><line x1=\"12\" y1=\"0\" x2=\"12\" y2=\"20\" style=\"stroke:#000ce7ff;stroke-width:3;\" /><line x1=\"13\" y1=\"0\" x2=\"13\" y2=\"20\" style=\"stroke:#000de5ff;stroke-width:3;\" /><line x1=\"14\" y1=\"0\" x2=\"14\" y2=\"20\" style=\"stroke:#000ee3ff;stroke-width:3;\" /><line x1=\"15\" y1=\"0\" x2=\"15\" y2=\"20\" style=\"stroke:#000fe1ff;stroke-width:3;\" /><line x1=\"16\" y1=\"0\" x2=\"16\" y2=\"20\" style=\"stroke:#0010dfff;stroke-width:3;\" /><line x1=\"17\" y1=\"0\" x2=\"17\" y2=\"20\" style=\"stroke:#0011ddff;stroke-width:3;\" /><line x1=\"18\" y1=\"0\" x2=\"18\" y2=\"20\" style=\"stroke:#0012dbff;stroke-width:3;\" /><line x1=\"19\" y1=\"0\" x2=\"19\" y2=\"20\" style=\"stroke:#0013d9ff;stroke-width:3;\" /><line x1=\"20\" y1=\"0\" x2=\"20\" y2=\"20\" style=\"stroke:#0014d6ff;stroke-width:3;\" /><line x1=\"21\" y1=\"0\" x2=\"21\" y2=\"20\" style=\"stroke:#0015d4ff;stroke-width:3;\" /><line x1=\"22\" y1=\"0\" x2=\"22\" y2=\"20\" style=\"stroke:#0016d2ff;stroke-width:3;\" /><line x1=\"23\" y1=\"0\" x2=\"23\" y2=\"20\" style=\"stroke:#0017d0ff;stroke-width:3;\" /><line x1=\"24\" y1=\"0\" x2=\"24\" y2=\"20\" style=\"stroke:#0018ceff;stroke-width:3;\" /><line x1=\"25\" y1=\"0\" x2=\"25\" y2=\"20\" style=\"stroke:#0019ccff;stroke-width:3;\" /><line x1=\"26\" y1=\"0\" x2=\"26\" y2=\"20\" style=\"stroke:#001acaff;stroke-width:3;\" /><line x1=\"27\" y1=\"0\" x2=\"27\" y2=\"20\" style=\"stroke:#001bc8ff;stroke-width:3;\" /><line x1=\"28\" y1=\"0\" x2=\"28\" y2=\"20\" style=\"stroke:#001cc6ff;stroke-width:3;\" /><line x1=\"29\" y1=\"0\" x2=\"29\" y2=\"20\" style=\"stroke:#001dc4ff;stroke-width:3;\" /><line x1=\"30\" y1=\"0\" x2=\"30\" y2=\"20\" style=\"stroke:#001ec2ff;stroke-width:3;\" /><line x1=\"31\" y1=\"0\" x2=\"31\" y2=\"20\" style=\"stroke:#001fc0ff;stroke-width:3;\" /><line x1=\"32\" y1=\"0\" x2=\"32\" y2=\"20\" style=\"stroke:#0020beff;stroke-width:3;\" /><line x1=\"33\" y1=\"0\" x2=\"33\" y2=\"20\" style=\"stroke:#0021bcff;stroke-width:3;\" /><line x1=\"34\" y1=\"0\" x2=\"34\" y2=\"20\" style=\"stroke:#0023baff;stroke-width:3;\" /><line x1=\"35\" y1=\"0\" x2=\"35\" y2=\"20\" style=\"stroke:#0024b8ff;stroke-width:3;\" /><line x1=\"36\" y1=\"0\" x2=\"36\" y2=\"20\" style=\"stroke:#0025b6ff;stroke-width:3;\" /><line x1=\"37\" y1=\"0\" x2=\"37\" y2=\"20\" style=\"stroke:#0026b4ff;stroke-width:3;\" /><line x1=\"38\" y1=\"0\" x2=\"38\" y2=\"20\" style=\"stroke:#0027b2ff;stroke-width:3;\" /><line x1=\"39\" y1=\"0\" x2=\"39\" y2=\"20\" style=\"stroke:#0028afff;stroke-width:3;\" /><line x1=\"40\" y1=\"0\" x2=\"40\" y2=\"20\" style=\"stroke:#0029adff;stroke-width:3;\" /><line x1=\"41\" y1=\"0\" x2=\"41\" y2=\"20\" style=\"stroke:#002aabff;stroke-width:3;\" /><line x1=\"42\" y1=\"0\" x2=\"42\" y2=\"20\" style=\"stroke:#002ba9ff;stroke-width:3;\" /><line x1=\"43\" y1=\"0\" x2=\"43\" y2=\"20\" style=\"stroke:#002ca7ff;stroke-width:3;\" /><line x1=\"44\" y1=\"0\" x2=\"44\" y2=\"20\" style=\"stroke:#002da5ff;stroke-width:3;\" /><line x1=\"45\" y1=\"0\" x2=\"45\" y2=\"20\" style=\"stroke:#002ea3ff;stroke-width:3;\" /><line x1=\"46\" y1=\"0\" x2=\"46\" y2=\"20\" style=\"stroke:#002fa1ff;stroke-width:3;\" /><line x1=\"47\" y1=\"0\" x2=\"47\" y2=\"20\" style=\"stroke:#00309fff;stroke-width:3;\" /><line x1=\"48\" y1=\"0\" x2=\"48\" y2=\"20\" style=\"stroke:#00319dff;stroke-width:3;\" /><line x1=\"49\" y1=\"0\" x2=\"49\" y2=\"20\" style=\"stroke:#00329bff;stroke-width:3;\" /><line x1=\"50\" y1=\"0\" x2=\"50\" y2=\"20\" style=\"stroke:#003399ff;stroke-width:3;\" /><line x1=\"51\" y1=\"0\" x2=\"51\" y2=\"20\" style=\"stroke:#003497ff;stroke-width:3;\" /><line x1=\"52\" y1=\"0\" x2=\"52\" y2=\"20\" style=\"stroke:#003595ff;stroke-width:3;\" /><line x1=\"53\" y1=\"0\" x2=\"53\" y2=\"20\" style=\"stroke:#003693ff;stroke-width:3;\" /><line x1=\"54\" y1=\"0\" x2=\"54\" y2=\"20\" style=\"stroke:#003791ff;stroke-width:3;\" /><line x1=\"55\" y1=\"0\" x2=\"55\" y2=\"20\" style=\"stroke:#00388fff;stroke-width:3;\" /><line x1=\"56\" y1=\"0\" x2=\"56\" y2=\"20\" style=\"stroke:#00398dff;stroke-width:3;\" /><line x1=\"57\" y1=\"0\" x2=\"57\" y2=\"20\" style=\"stroke:#003a8bff;stroke-width:3;\" /><line x1=\"58\" y1=\"0\" x2=\"58\" y2=\"20\" style=\"stroke:#003b88ff;stroke-width:3;\" /><line x1=\"59\" y1=\"0\" x2=\"59\" y2=\"20\" style=\"stroke:#003c86ff;stroke-width:3;\" /><line x1=\"60\" y1=\"0\" x2=\"60\" y2=\"20\" style=\"stroke:#003d84ff;stroke-width:3;\" /><line x1=\"61\" y1=\"0\" x2=\"61\" y2=\"20\" style=\"stroke:#003e82ff;stroke-width:3;\" /><line x1=\"62\" y1=\"0\" x2=\"62\" y2=\"20\" style=\"stroke:#003f80ff;stroke-width:3;\" /><line x1=\"63\" y1=\"0\" x2=\"63\" y2=\"20\" style=\"stroke:#00407eff;stroke-width:3;\" /><line x1=\"64\" y1=\"0\" x2=\"64\" y2=\"20\" style=\"stroke:#00417cff;stroke-width:3;\" /><line x1=\"65\" y1=\"0\" x2=\"65\" y2=\"20\" style=\"stroke:#00427aff;stroke-width:3;\" /><line x1=\"66\" y1=\"0\" x2=\"66\" y2=\"20\" style=\"stroke:#004378ff;stroke-width:3;\" /><line x1=\"67\" y1=\"0\" x2=\"67\" y2=\"20\" style=\"stroke:#004576ff;stroke-width:3;\" /><line x1=\"68\" y1=\"0\" x2=\"68\" y2=\"20\" style=\"stroke:#004674ff;stroke-width:3;\" /><line x1=\"69\" y1=\"0\" x2=\"69\" y2=\"20\" style=\"stroke:#004772ff;stroke-width:3;\" /><line x1=\"70\" y1=\"0\" x2=\"70\" y2=\"20\" style=\"stroke:#004870ff;stroke-width:3;\" /><line x1=\"71\" y1=\"0\" x2=\"71\" y2=\"20\" style=\"stroke:#00496eff;stroke-width:3;\" /><line x1=\"72\" y1=\"0\" x2=\"72\" y2=\"20\" style=\"stroke:#004a6cff;stroke-width:3;\" /><line x1=\"73\" y1=\"0\" x2=\"73\" y2=\"20\" style=\"stroke:#004b6aff;stroke-width:3;\" /><line x1=\"74\" y1=\"0\" x2=\"74\" y2=\"20\" style=\"stroke:#004c68ff;stroke-width:3;\" /><line x1=\"75\" y1=\"0\" x2=\"75\" y2=\"20\" style=\"stroke:#004d66ff;stroke-width:3;\" /><line x1=\"76\" y1=\"0\" x2=\"76\" y2=\"20\" style=\"stroke:#004e64ff;stroke-width:3;\" /><line x1=\"77\" y1=\"0\" x2=\"77\" y2=\"20\" style=\"stroke:#004f61ff;stroke-width:3;\" /><line x1=\"78\" y1=\"0\" x2=\"78\" y2=\"20\" style=\"stroke:#00505fff;stroke-width:3;\" /><line x1=\"79\" y1=\"0\" x2=\"79\" y2=\"20\" style=\"stroke:#00515dff;stroke-width:3;\" /><line x1=\"80\" y1=\"0\" x2=\"80\" y2=\"20\" style=\"stroke:#00525bff;stroke-width:3;\" /><line x1=\"81\" y1=\"0\" x2=\"81\" y2=\"20\" style=\"stroke:#005359ff;stroke-width:3;\" /><line x1=\"82\" y1=\"0\" x2=\"82\" y2=\"20\" style=\"stroke:#005457ff;stroke-width:3;\" /><line x1=\"83\" y1=\"0\" x2=\"83\" y2=\"20\" style=\"stroke:#005555ff;stroke-width:3;\" /><line x1=\"84\" y1=\"0\" x2=\"84\" y2=\"20\" style=\"stroke:#005653ff;stroke-width:3;\" /><line x1=\"85\" y1=\"0\" x2=\"85\" y2=\"20\" style=\"stroke:#005751ff;stroke-width:3;\" /><line x1=\"86\" y1=\"0\" x2=\"86\" y2=\"20\" style=\"stroke:#00584fff;stroke-width:3;\" /><line x1=\"87\" y1=\"0\" x2=\"87\" y2=\"20\" style=\"stroke:#00594dff;stroke-width:3;\" /><line x1=\"88\" y1=\"0\" x2=\"88\" y2=\"20\" style=\"stroke:#005a4bff;stroke-width:3;\" /><line x1=\"89\" y1=\"0\" x2=\"89\" y2=\"20\" style=\"stroke:#005b49ff;stroke-width:3;\" /><line x1=\"90\" y1=\"0\" x2=\"90\" y2=\"20\" style=\"stroke:#005c47ff;stroke-width:3;\" /><line x1=\"91\" y1=\"0\" x2=\"91\" y2=\"20\" style=\"stroke:#005d45ff;stroke-width:3;\" /><line x1=\"92\" y1=\"0\" x2=\"92\" y2=\"20\" style=\"stroke:#005e43ff;stroke-width:3;\" /><line x1=\"93\" y1=\"0\" x2=\"93\" y2=\"20\" style=\"stroke:#005f41ff;stroke-width:3;\" /><line x1=\"94\" y1=\"0\" x2=\"94\" y2=\"20\" style=\"stroke:#00603fff;stroke-width:3;\" /><line x1=\"95\" y1=\"0\" x2=\"95\" y2=\"20\" style=\"stroke:#00613dff;stroke-width:3;\" /><line x1=\"96\" y1=\"0\" x2=\"96\" y2=\"20\" style=\"stroke:#00623aff;stroke-width:3;\" /><line x1=\"97\" y1=\"0\" x2=\"97\" y2=\"20\" style=\"stroke:#006338ff;stroke-width:3;\" /><line x1=\"98\" y1=\"0\" x2=\"98\" y2=\"20\" style=\"stroke:#006436ff;stroke-width:3;\" /><line x1=\"99\" y1=\"0\" x2=\"99\" y2=\"20\" style=\"stroke:#006534ff;stroke-width:3;\" /><line x1=\"100\" y1=\"0\" x2=\"100\" y2=\"20\" style=\"stroke:#006732ff;stroke-width:3;\" /><line x1=\"101\" y1=\"0\" x2=\"101\" y2=\"20\" style=\"stroke:#006830ff;stroke-width:3;\" /><line x1=\"102\" y1=\"0\" x2=\"102\" y2=\"20\" style=\"stroke:#00692eff;stroke-width:3;\" /><line x1=\"103\" y1=\"0\" x2=\"103\" y2=\"20\" style=\"stroke:#006a2cff;stroke-width:3;\" /><line x1=\"104\" y1=\"0\" x2=\"104\" y2=\"20\" style=\"stroke:#006b2aff;stroke-width:3;\" /><line x1=\"105\" y1=\"0\" x2=\"105\" y2=\"20\" style=\"stroke:#006c28ff;stroke-width:3;\" /><line x1=\"106\" y1=\"0\" x2=\"106\" y2=\"20\" style=\"stroke:#006d26ff;stroke-width:3;\" /><line x1=\"107\" y1=\"0\" x2=\"107\" y2=\"20\" style=\"stroke:#006e24ff;stroke-width:3;\" /><line x1=\"108\" y1=\"0\" x2=\"108\" y2=\"20\" style=\"stroke:#006f22ff;stroke-width:3;\" /><line x1=\"109\" y1=\"0\" x2=\"109\" y2=\"20\" style=\"stroke:#007020ff;stroke-width:3;\" /><line x1=\"110\" y1=\"0\" x2=\"110\" y2=\"20\" style=\"stroke:#00711eff;stroke-width:3;\" /><line x1=\"111\" y1=\"0\" x2=\"111\" y2=\"20\" style=\"stroke:#00721cff;stroke-width:3;\" /><line x1=\"112\" y1=\"0\" x2=\"112\" y2=\"20\" style=\"stroke:#00731aff;stroke-width:3;\" /><line x1=\"113\" y1=\"0\" x2=\"113\" y2=\"20\" style=\"stroke:#007418ff;stroke-width:3;\" /><line x1=\"114\" y1=\"0\" x2=\"114\" y2=\"20\" style=\"stroke:#007516ff;stroke-width:3;\" /><line x1=\"115\" y1=\"0\" x2=\"115\" y2=\"20\" style=\"stroke:#007614ff;stroke-width:3;\" /><line x1=\"116\" y1=\"0\" x2=\"116\" y2=\"20\" style=\"stroke:#007711ff;stroke-width:3;\" /><line x1=\"117\" y1=\"0\" x2=\"117\" y2=\"20\" style=\"stroke:#00780fff;stroke-width:3;\" /><line x1=\"118\" y1=\"0\" x2=\"118\" y2=\"20\" style=\"stroke:#00790dff;stroke-width:3;\" /><line x1=\"119\" y1=\"0\" x2=\"119\" y2=\"20\" style=\"stroke:#007a0bff;stroke-width:3;\" /><line x1=\"120\" y1=\"0\" x2=\"120\" y2=\"20\" style=\"stroke:#007b09ff;stroke-width:3;\" /><line x1=\"121\" y1=\"0\" x2=\"121\" y2=\"20\" style=\"stroke:#007c07ff;stroke-width:3;\" /><line x1=\"122\" y1=\"0\" x2=\"122\" y2=\"20\" style=\"stroke:#007d05ff;stroke-width:3;\" /><line x1=\"123\" y1=\"0\" x2=\"123\" y2=\"20\" style=\"stroke:#007e03ff;stroke-width:3;\" /><line x1=\"124\" y1=\"0\" x2=\"124\" y2=\"20\" style=\"stroke:#007f01ff;stroke-width:3;\" /><line x1=\"125\" y1=\"0\" x2=\"125\" y2=\"20\" style=\"stroke:#008000ff;stroke-width:3;\" /><line x1=\"126\" y1=\"0\" x2=\"126\" y2=\"20\" style=\"stroke:#028100ff;stroke-width:3;\" /><line x1=\"127\" y1=\"0\" x2=\"127\" y2=\"20\" style=\"stroke:#048200ff;stroke-width:3;\" /><line x1=\"128\" y1=\"0\" x2=\"128\" y2=\"20\" style=\"stroke:#068300ff;stroke-width:3;\" /><line x1=\"129\" y1=\"0\" x2=\"129\" y2=\"20\" style=\"stroke:#088400ff;stroke-width:3;\" /><line x1=\"130\" y1=\"0\" x2=\"130\" y2=\"20\" style=\"stroke:#0a8500ff;stroke-width:3;\" /><line x1=\"131\" y1=\"0\" x2=\"131\" y2=\"20\" style=\"stroke:#0c8600ff;stroke-width:3;\" /><line x1=\"132\" y1=\"0\" x2=\"132\" y2=\"20\" style=\"stroke:#0e8700ff;stroke-width:3;\" /><line x1=\"133\" y1=\"0\" x2=\"133\" y2=\"20\" style=\"stroke:#108800ff;stroke-width:3;\" /><line x1=\"134\" y1=\"0\" x2=\"134\" y2=\"20\" style=\"stroke:#128900ff;stroke-width:3;\" /><line x1=\"135\" y1=\"0\" x2=\"135\" y2=\"20\" style=\"stroke:#158a00ff;stroke-width:3;\" /><line x1=\"136\" y1=\"0\" x2=\"136\" y2=\"20\" style=\"stroke:#178b00ff;stroke-width:3;\" /><line x1=\"137\" y1=\"0\" x2=\"137\" y2=\"20\" style=\"stroke:#198d00ff;stroke-width:3;\" /><line x1=\"138\" y1=\"0\" x2=\"138\" y2=\"20\" style=\"stroke:#1b8e00ff;stroke-width:3;\" /><line x1=\"139\" y1=\"0\" x2=\"139\" y2=\"20\" style=\"stroke:#1d8f00ff;stroke-width:3;\" /><line x1=\"140\" y1=\"0\" x2=\"140\" y2=\"20\" style=\"stroke:#1f9000ff;stroke-width:3;\" /><line x1=\"141\" y1=\"0\" x2=\"141\" y2=\"20\" style=\"stroke:#219100ff;stroke-width:3;\" /><line x1=\"142\" y1=\"0\" x2=\"142\" y2=\"20\" style=\"stroke:#239200ff;stroke-width:3;\" /><line x1=\"143\" y1=\"0\" x2=\"143\" y2=\"20\" style=\"stroke:#259300ff;stroke-width:3;\" /><line x1=\"144\" y1=\"0\" x2=\"144\" y2=\"20\" style=\"stroke:#279400ff;stroke-width:3;\" /><line x1=\"145\" y1=\"0\" x2=\"145\" y2=\"20\" style=\"stroke:#299500ff;stroke-width:3;\" /><line x1=\"146\" y1=\"0\" x2=\"146\" y2=\"20\" style=\"stroke:#2b9600ff;stroke-width:3;\" /><line x1=\"147\" y1=\"0\" x2=\"147\" y2=\"20\" style=\"stroke:#2d9700ff;stroke-width:3;\" /><line x1=\"148\" y1=\"0\" x2=\"148\" y2=\"20\" style=\"stroke:#2f9800ff;stroke-width:3;\" /><line x1=\"149\" y1=\"0\" x2=\"149\" y2=\"20\" style=\"stroke:#319900ff;stroke-width:3;\" /><line x1=\"150\" y1=\"0\" x2=\"150\" y2=\"20\" style=\"stroke:#339a00ff;stroke-width:3;\" /><line x1=\"151\" y1=\"0\" x2=\"151\" y2=\"20\" style=\"stroke:#359b00ff;stroke-width:3;\" /><line x1=\"152\" y1=\"0\" x2=\"152\" y2=\"20\" style=\"stroke:#379c00ff;stroke-width:3;\" /><line x1=\"153\" y1=\"0\" x2=\"153\" y2=\"20\" style=\"stroke:#399d00ff;stroke-width:3;\" /><line x1=\"154\" y1=\"0\" x2=\"154\" y2=\"20\" style=\"stroke:#3c9e00ff;stroke-width:3;\" /><line x1=\"155\" y1=\"0\" x2=\"155\" y2=\"20\" style=\"stroke:#3e9f00ff;stroke-width:3;\" /><line x1=\"156\" y1=\"0\" x2=\"156\" y2=\"20\" style=\"stroke:#40a000ff;stroke-width:3;\" /><line x1=\"157\" y1=\"0\" x2=\"157\" y2=\"20\" style=\"stroke:#42a100ff;stroke-width:3;\" /><line x1=\"158\" y1=\"0\" x2=\"158\" y2=\"20\" style=\"stroke:#44a200ff;stroke-width:3;\" /><line x1=\"159\" y1=\"0\" x2=\"159\" y2=\"20\" style=\"stroke:#46a300ff;stroke-width:3;\" /><line x1=\"160\" y1=\"0\" x2=\"160\" y2=\"20\" style=\"stroke:#48a400ff;stroke-width:3;\" /><line x1=\"161\" y1=\"0\" x2=\"161\" y2=\"20\" style=\"stroke:#4aa500ff;stroke-width:3;\" /><line x1=\"162\" y1=\"0\" x2=\"162\" y2=\"20\" style=\"stroke:#4ca600ff;stroke-width:3;\" /><line x1=\"163\" y1=\"0\" x2=\"163\" y2=\"20\" style=\"stroke:#4ea700ff;stroke-width:3;\" /><line x1=\"164\" y1=\"0\" x2=\"164\" y2=\"20\" style=\"stroke:#50a800ff;stroke-width:3;\" /><line x1=\"165\" y1=\"0\" x2=\"165\" y2=\"20\" style=\"stroke:#52a900ff;stroke-width:3;\" /><line x1=\"166\" y1=\"0\" x2=\"166\" y2=\"20\" style=\"stroke:#54aa00ff;stroke-width:3;\" /><line x1=\"167\" y1=\"0\" x2=\"167\" y2=\"20\" style=\"stroke:#56ab00ff;stroke-width:3;\" /><line x1=\"168\" y1=\"0\" x2=\"168\" y2=\"20\" style=\"stroke:#58ac00ff;stroke-width:3;\" /><line x1=\"169\" y1=\"0\" x2=\"169\" y2=\"20\" style=\"stroke:#5aad00ff;stroke-width:3;\" /><line x1=\"170\" y1=\"0\" x2=\"170\" y2=\"20\" style=\"stroke:#5cae00ff;stroke-width:3;\" /><line x1=\"171\" y1=\"0\" x2=\"171\" y2=\"20\" style=\"stroke:#5eaf00ff;stroke-width:3;\" /><line x1=\"172\" y1=\"0\" x2=\"172\" y2=\"20\" style=\"stroke:#60b000ff;stroke-width:3;\" /><line x1=\"173\" y1=\"0\" x2=\"173\" y2=\"20\" style=\"stroke:#63b100ff;stroke-width:3;\" /><line x1=\"174\" y1=\"0\" x2=\"174\" y2=\"20\" style=\"stroke:#65b200ff;stroke-width:3;\" /><line x1=\"175\" y1=\"0\" x2=\"175\" y2=\"20\" style=\"stroke:#67b300ff;stroke-width:3;\" /><line x1=\"176\" y1=\"0\" x2=\"176\" y2=\"20\" style=\"stroke:#69b400ff;stroke-width:3;\" /><line x1=\"177\" y1=\"0\" x2=\"177\" y2=\"20\" style=\"stroke:#6bb500ff;stroke-width:3;\" /><line x1=\"178\" y1=\"0\" x2=\"178\" y2=\"20\" style=\"stroke:#6db600ff;stroke-width:3;\" /><line x1=\"179\" y1=\"0\" x2=\"179\" y2=\"20\" style=\"stroke:#6fb700ff;stroke-width:3;\" /><line x1=\"180\" y1=\"0\" x2=\"180\" y2=\"20\" style=\"stroke:#71b800ff;stroke-width:3;\" /><line x1=\"181\" y1=\"0\" x2=\"181\" y2=\"20\" style=\"stroke:#73b900ff;stroke-width:3;\" /><line x1=\"182\" y1=\"0\" x2=\"182\" y2=\"20\" style=\"stroke:#75bb00ff;stroke-width:3;\" /><line x1=\"183\" y1=\"0\" x2=\"183\" y2=\"20\" style=\"stroke:#77bc00ff;stroke-width:3;\" /><line x1=\"184\" y1=\"0\" x2=\"184\" y2=\"20\" style=\"stroke:#79bd00ff;stroke-width:3;\" /><line x1=\"185\" y1=\"0\" x2=\"185\" y2=\"20\" style=\"stroke:#7bbe00ff;stroke-width:3;\" /><line x1=\"186\" y1=\"0\" x2=\"186\" y2=\"20\" style=\"stroke:#7dbf00ff;stroke-width:3;\" /><line x1=\"187\" y1=\"0\" x2=\"187\" y2=\"20\" style=\"stroke:#7fc000ff;stroke-width:3;\" /><line x1=\"188\" y1=\"0\" x2=\"188\" y2=\"20\" style=\"stroke:#81c100ff;stroke-width:3;\" /><line x1=\"189\" y1=\"0\" x2=\"189\" y2=\"20\" style=\"stroke:#83c200ff;stroke-width:3;\" /><line x1=\"190\" y1=\"0\" x2=\"190\" y2=\"20\" style=\"stroke:#85c300ff;stroke-width:3;\" /><line x1=\"191\" y1=\"0\" x2=\"191\" y2=\"20\" style=\"stroke:#87c400ff;stroke-width:3;\" /><line x1=\"192\" y1=\"0\" x2=\"192\" y2=\"20\" style=\"stroke:#8ac500ff;stroke-width:3;\" /><line x1=\"193\" y1=\"0\" x2=\"193\" y2=\"20\" style=\"stroke:#8cc600ff;stroke-width:3;\" /><line x1=\"194\" y1=\"0\" x2=\"194\" y2=\"20\" style=\"stroke:#8ec700ff;stroke-width:3;\" /><line x1=\"195\" y1=\"0\" x2=\"195\" y2=\"20\" style=\"stroke:#90c800ff;stroke-width:3;\" /><line x1=\"196\" y1=\"0\" x2=\"196\" y2=\"20\" style=\"stroke:#92c900ff;stroke-width:3;\" /><line x1=\"197\" y1=\"0\" x2=\"197\" y2=\"20\" style=\"stroke:#94ca00ff;stroke-width:3;\" /><line x1=\"198\" y1=\"0\" x2=\"198\" y2=\"20\" style=\"stroke:#96cb00ff;stroke-width:3;\" /><line x1=\"199\" y1=\"0\" x2=\"199\" y2=\"20\" style=\"stroke:#98cc00ff;stroke-width:3;\" /><line x1=\"200\" y1=\"0\" x2=\"200\" y2=\"20\" style=\"stroke:#9acd00ff;stroke-width:3;\" /><line x1=\"201\" y1=\"0\" x2=\"201\" y2=\"20\" style=\"stroke:#9cce00ff;stroke-width:3;\" /><line x1=\"202\" y1=\"0\" x2=\"202\" y2=\"20\" style=\"stroke:#9ecf00ff;stroke-width:3;\" /><line x1=\"203\" y1=\"0\" x2=\"203\" y2=\"20\" style=\"stroke:#a0d000ff;stroke-width:3;\" /><line x1=\"204\" y1=\"0\" x2=\"204\" y2=\"20\" style=\"stroke:#a2d100ff;stroke-width:3;\" /><line x1=\"205\" y1=\"0\" x2=\"205\" y2=\"20\" style=\"stroke:#a4d200ff;stroke-width:3;\" /><line x1=\"206\" y1=\"0\" x2=\"206\" y2=\"20\" style=\"stroke:#a6d300ff;stroke-width:3;\" /><line x1=\"207\" y1=\"0\" x2=\"207\" y2=\"20\" style=\"stroke:#a8d400ff;stroke-width:3;\" /><line x1=\"208\" y1=\"0\" x2=\"208\" y2=\"20\" style=\"stroke:#aad500ff;stroke-width:3;\" /><line x1=\"209\" y1=\"0\" x2=\"209\" y2=\"20\" style=\"stroke:#acd600ff;stroke-width:3;\" /><line x1=\"210\" y1=\"0\" x2=\"210\" y2=\"20\" style=\"stroke:#aed700ff;stroke-width:3;\" /><line x1=\"211\" y1=\"0\" x2=\"211\" y2=\"20\" style=\"stroke:#b0d800ff;stroke-width:3;\" /><line x1=\"212\" y1=\"0\" x2=\"212\" y2=\"20\" style=\"stroke:#b3d900ff;stroke-width:3;\" /><line x1=\"213\" y1=\"0\" x2=\"213\" y2=\"20\" style=\"stroke:#b5da00ff;stroke-width:3;\" /><line x1=\"214\" y1=\"0\" x2=\"214\" y2=\"20\" style=\"stroke:#b7db00ff;stroke-width:3;\" /><line x1=\"215\" y1=\"0\" x2=\"215\" y2=\"20\" style=\"stroke:#b9dc00ff;stroke-width:3;\" /><line x1=\"216\" y1=\"0\" x2=\"216\" y2=\"20\" style=\"stroke:#bbdd00ff;stroke-width:3;\" /><line x1=\"217\" y1=\"0\" x2=\"217\" y2=\"20\" style=\"stroke:#bdde00ff;stroke-width:3;\" /><line x1=\"218\" y1=\"0\" x2=\"218\" y2=\"20\" style=\"stroke:#bfdf00ff;stroke-width:3;\" /><line x1=\"219\" y1=\"0\" x2=\"219\" y2=\"20\" style=\"stroke:#c1e000ff;stroke-width:3;\" /><line x1=\"220\" y1=\"0\" x2=\"220\" y2=\"20\" style=\"stroke:#c3e100ff;stroke-width:3;\" /><line x1=\"221\" y1=\"0\" x2=\"221\" y2=\"20\" style=\"stroke:#c5e200ff;stroke-width:3;\" /><line x1=\"222\" y1=\"0\" x2=\"222\" y2=\"20\" style=\"stroke:#c7e300ff;stroke-width:3;\" /><line x1=\"223\" y1=\"0\" x2=\"223\" y2=\"20\" style=\"stroke:#c9e400ff;stroke-width:3;\" /><line x1=\"224\" y1=\"0\" x2=\"224\" y2=\"20\" style=\"stroke:#cbe500ff;stroke-width:3;\" /><line x1=\"225\" y1=\"0\" x2=\"225\" y2=\"20\" style=\"stroke:#cde600ff;stroke-width:3;\" /><line x1=\"226\" y1=\"0\" x2=\"226\" y2=\"20\" style=\"stroke:#cfe700ff;stroke-width:3;\" /><line x1=\"227\" y1=\"0\" x2=\"227\" y2=\"20\" style=\"stroke:#d1e900ff;stroke-width:3;\" /><line x1=\"228\" y1=\"0\" x2=\"228\" y2=\"20\" style=\"stroke:#d3ea00ff;stroke-width:3;\" /><line x1=\"229\" y1=\"0\" x2=\"229\" y2=\"20\" style=\"stroke:#d5eb00ff;stroke-width:3;\" /><line x1=\"230\" y1=\"0\" x2=\"230\" y2=\"20\" style=\"stroke:#d7ec00ff;stroke-width:3;\" /><line x1=\"231\" y1=\"0\" x2=\"231\" y2=\"20\" style=\"stroke:#daed00ff;stroke-width:3;\" /><line x1=\"232\" y1=\"0\" x2=\"232\" y2=\"20\" style=\"stroke:#dcee00ff;stroke-width:3;\" /><line x1=\"233\" y1=\"0\" x2=\"233\" y2=\"20\" style=\"stroke:#deef00ff;stroke-width:3;\" /><line x1=\"234\" y1=\"0\" x2=\"234\" y2=\"20\" style=\"stroke:#e0f000ff;stroke-width:3;\" /><line x1=\"235\" y1=\"0\" x2=\"235\" y2=\"20\" style=\"stroke:#e2f100ff;stroke-width:3;\" /><line x1=\"236\" y1=\"0\" x2=\"236\" y2=\"20\" style=\"stroke:#e4f200ff;stroke-width:3;\" /><line x1=\"237\" y1=\"0\" x2=\"237\" y2=\"20\" style=\"stroke:#e6f300ff;stroke-width:3;\" /><line x1=\"238\" y1=\"0\" x2=\"238\" y2=\"20\" style=\"stroke:#e8f400ff;stroke-width:3;\" /><line x1=\"239\" y1=\"0\" x2=\"239\" y2=\"20\" style=\"stroke:#eaf500ff;stroke-width:3;\" /><line x1=\"240\" y1=\"0\" x2=\"240\" y2=\"20\" style=\"stroke:#ecf600ff;stroke-width:3;\" /><line x1=\"241\" y1=\"0\" x2=\"241\" y2=\"20\" style=\"stroke:#eef700ff;stroke-width:3;\" /><line x1=\"242\" y1=\"0\" x2=\"242\" y2=\"20\" style=\"stroke:#f0f800ff;stroke-width:3;\" /><line x1=\"243\" y1=\"0\" x2=\"243\" y2=\"20\" style=\"stroke:#f2f900ff;stroke-width:3;\" /><line x1=\"244\" y1=\"0\" x2=\"244\" y2=\"20\" style=\"stroke:#f4fa00ff;stroke-width:3;\" /><line x1=\"245\" y1=\"0\" x2=\"245\" y2=\"20\" style=\"stroke:#f6fb00ff;stroke-width:3;\" /><line x1=\"246\" y1=\"0\" x2=\"246\" y2=\"20\" style=\"stroke:#f8fc00ff;stroke-width:3;\" /><line x1=\"247\" y1=\"0\" x2=\"247\" y2=\"20\" style=\"stroke:#fafd00ff;stroke-width:3;\" /><line x1=\"248\" y1=\"0\" x2=\"248\" y2=\"20\" style=\"stroke:#fcfe00ff;stroke-width:3;\" /><line x1=\"249\" y1=\"0\" x2=\"249\" y2=\"20\" style=\"stroke:#feff00ff;stroke-width:3;\" /><line x1=\"250\" y1=\"0\" x2=\"250\" y2=\"20\" style=\"stroke:#ffff00ff;stroke-width:3;\" /><line x1=\"251\" y1=\"0\" x2=\"251\" y2=\"20\" style=\"stroke:#fffe00ff;stroke-width:3;\" /><line x1=\"252\" y1=\"0\" x2=\"252\" y2=\"20\" style=\"stroke:#fffe00ff;stroke-width:3;\" /><line x1=\"253\" y1=\"0\" x2=\"253\" y2=\"20\" style=\"stroke:#fffd00ff;stroke-width:3;\" /><line x1=\"254\" y1=\"0\" x2=\"254\" y2=\"20\" style=\"stroke:#fffc00ff;stroke-width:3;\" /><line x1=\"255\" y1=\"0\" x2=\"255\" y2=\"20\" style=\"stroke:#fffc00ff;stroke-width:3;\" /><line x1=\"256\" y1=\"0\" x2=\"256\" y2=\"20\" style=\"stroke:#fffb00ff;stroke-width:3;\" /><line x1=\"257\" y1=\"0\" x2=\"257\" y2=\"20\" style=\"stroke:#fffa00ff;stroke-width:3;\" /><line x1=\"258\" y1=\"0\" x2=\"258\" y2=\"20\" style=\"stroke:#fff900ff;stroke-width:3;\" /><line x1=\"259\" y1=\"0\" x2=\"259\" y2=\"20\" style=\"stroke:#fff900ff;stroke-width:3;\" /><line x1=\"260\" y1=\"0\" x2=\"260\" y2=\"20\" style=\"stroke:#fff800ff;stroke-width:3;\" /><line x1=\"261\" y1=\"0\" x2=\"261\" y2=\"20\" style=\"stroke:#fff700ff;stroke-width:3;\" /><line x1=\"262\" y1=\"0\" x2=\"262\" y2=\"20\" style=\"stroke:#fff600ff;stroke-width:3;\" /><line x1=\"263\" y1=\"0\" x2=\"263\" y2=\"20\" style=\"stroke:#fff600ff;stroke-width:3;\" /><line x1=\"264\" y1=\"0\" x2=\"264\" y2=\"20\" style=\"stroke:#fff500ff;stroke-width:3;\" /><line x1=\"265\" y1=\"0\" x2=\"265\" y2=\"20\" style=\"stroke:#fff400ff;stroke-width:3;\" /><line x1=\"266\" y1=\"0\" x2=\"266\" y2=\"20\" style=\"stroke:#fff400ff;stroke-width:3;\" /><line x1=\"267\" y1=\"0\" x2=\"267\" y2=\"20\" style=\"stroke:#fff300ff;stroke-width:3;\" /><line x1=\"268\" y1=\"0\" x2=\"268\" y2=\"20\" style=\"stroke:#fff200ff;stroke-width:3;\" /><line x1=\"269\" y1=\"0\" x2=\"269\" y2=\"20\" style=\"stroke:#fff100ff;stroke-width:3;\" /><line x1=\"270\" y1=\"0\" x2=\"270\" y2=\"20\" style=\"stroke:#fff100ff;stroke-width:3;\" /><line x1=\"271\" y1=\"0\" x2=\"271\" y2=\"20\" style=\"stroke:#fff000ff;stroke-width:3;\" /><line x1=\"272\" y1=\"0\" x2=\"272\" y2=\"20\" style=\"stroke:#ffef00ff;stroke-width:3;\" /><line x1=\"273\" y1=\"0\" x2=\"273\" y2=\"20\" style=\"stroke:#ffee00ff;stroke-width:3;\" /><line x1=\"274\" y1=\"0\" x2=\"274\" y2=\"20\" style=\"stroke:#ffee00ff;stroke-width:3;\" /><line x1=\"275\" y1=\"0\" x2=\"275\" y2=\"20\" style=\"stroke:#ffed00ff;stroke-width:3;\" /><line x1=\"276\" y1=\"0\" x2=\"276\" y2=\"20\" style=\"stroke:#ffec00ff;stroke-width:3;\" /><line x1=\"277\" y1=\"0\" x2=\"277\" y2=\"20\" style=\"stroke:#ffec00ff;stroke-width:3;\" /><line x1=\"278\" y1=\"0\" x2=\"278\" y2=\"20\" style=\"stroke:#ffeb00ff;stroke-width:3;\" /><line x1=\"279\" y1=\"0\" x2=\"279\" y2=\"20\" style=\"stroke:#ffea00ff;stroke-width:3;\" /><line x1=\"280\" y1=\"0\" x2=\"280\" y2=\"20\" style=\"stroke:#ffe900ff;stroke-width:3;\" /><line x1=\"281\" y1=\"0\" x2=\"281\" y2=\"20\" style=\"stroke:#ffe900ff;stroke-width:3;\" /><line x1=\"282\" y1=\"0\" x2=\"282\" y2=\"20\" style=\"stroke:#ffe800ff;stroke-width:3;\" /><line x1=\"283\" y1=\"0\" x2=\"283\" y2=\"20\" style=\"stroke:#ffe700ff;stroke-width:3;\" /><line x1=\"284\" y1=\"0\" x2=\"284\" y2=\"20\" style=\"stroke:#ffe700ff;stroke-width:3;\" /><line x1=\"285\" y1=\"0\" x2=\"285\" y2=\"20\" style=\"stroke:#ffe600ff;stroke-width:3;\" /><line x1=\"286\" y1=\"0\" x2=\"286\" y2=\"20\" style=\"stroke:#ffe500ff;stroke-width:3;\" /><line x1=\"287\" y1=\"0\" x2=\"287\" y2=\"20\" style=\"stroke:#ffe400ff;stroke-width:3;\" /><line x1=\"288\" y1=\"0\" x2=\"288\" y2=\"20\" style=\"stroke:#ffe400ff;stroke-width:3;\" /><line x1=\"289\" y1=\"0\" x2=\"289\" y2=\"20\" style=\"stroke:#ffe300ff;stroke-width:3;\" /><line x1=\"290\" y1=\"0\" x2=\"290\" y2=\"20\" style=\"stroke:#ffe200ff;stroke-width:3;\" /><line x1=\"291\" y1=\"0\" x2=\"291\" y2=\"20\" style=\"stroke:#ffe100ff;stroke-width:3;\" /><line x1=\"292\" y1=\"0\" x2=\"292\" y2=\"20\" style=\"stroke:#ffe100ff;stroke-width:3;\" /><line x1=\"293\" y1=\"0\" x2=\"293\" y2=\"20\" style=\"stroke:#ffe000ff;stroke-width:3;\" /><line x1=\"294\" y1=\"0\" x2=\"294\" y2=\"20\" style=\"stroke:#ffdf00ff;stroke-width:3;\" /><line x1=\"295\" y1=\"0\" x2=\"295\" y2=\"20\" style=\"stroke:#ffdf00ff;stroke-width:3;\" /><line x1=\"296\" y1=\"0\" x2=\"296\" y2=\"20\" style=\"stroke:#ffde00ff;stroke-width:3;\" /><line x1=\"297\" y1=\"0\" x2=\"297\" y2=\"20\" style=\"stroke:#ffdd00ff;stroke-width:3;\" /><line x1=\"298\" y1=\"0\" x2=\"298\" y2=\"20\" style=\"stroke:#ffdc00ff;stroke-width:3;\" /><line x1=\"299\" y1=\"0\" x2=\"299\" y2=\"20\" style=\"stroke:#ffdc00ff;stroke-width:3;\" /><line x1=\"300\" y1=\"0\" x2=\"300\" y2=\"20\" style=\"stroke:#ffdb00ff;stroke-width:3;\" /><line x1=\"301\" y1=\"0\" x2=\"301\" y2=\"20\" style=\"stroke:#ffda00ff;stroke-width:3;\" /><line x1=\"302\" y1=\"0\" x2=\"302\" y2=\"20\" style=\"stroke:#ffd900ff;stroke-width:3;\" /><line x1=\"303\" y1=\"0\" x2=\"303\" y2=\"20\" style=\"stroke:#ffd900ff;stroke-width:3;\" /><line x1=\"304\" y1=\"0\" x2=\"304\" y2=\"20\" style=\"stroke:#ffd800ff;stroke-width:3;\" /><line x1=\"305\" y1=\"0\" x2=\"305\" y2=\"20\" style=\"stroke:#ffd700ff;stroke-width:3;\" /><line x1=\"306\" y1=\"0\" x2=\"306\" y2=\"20\" style=\"stroke:#ffd700ff;stroke-width:3;\" /><line x1=\"307\" y1=\"0\" x2=\"307\" y2=\"20\" style=\"stroke:#ffd600ff;stroke-width:3;\" /><line x1=\"308\" y1=\"0\" x2=\"308\" y2=\"20\" style=\"stroke:#ffd500ff;stroke-width:3;\" /><line x1=\"309\" y1=\"0\" x2=\"309\" y2=\"20\" style=\"stroke:#ffd400ff;stroke-width:3;\" /><line x1=\"310\" y1=\"0\" x2=\"310\" y2=\"20\" style=\"stroke:#ffd400ff;stroke-width:3;\" /><line x1=\"311\" y1=\"0\" x2=\"311\" y2=\"20\" style=\"stroke:#ffd300ff;stroke-width:3;\" /><line x1=\"312\" y1=\"0\" x2=\"312\" y2=\"20\" style=\"stroke:#ffd200ff;stroke-width:3;\" /><line x1=\"313\" y1=\"0\" x2=\"313\" y2=\"20\" style=\"stroke:#ffd200ff;stroke-width:3;\" /><line x1=\"314\" y1=\"0\" x2=\"314\" y2=\"20\" style=\"stroke:#ffd100ff;stroke-width:3;\" /><line x1=\"315\" y1=\"0\" x2=\"315\" y2=\"20\" style=\"stroke:#ffd000ff;stroke-width:3;\" /><line x1=\"316\" y1=\"0\" x2=\"316\" y2=\"20\" style=\"stroke:#ffcf00ff;stroke-width:3;\" /><line x1=\"317\" y1=\"0\" x2=\"317\" y2=\"20\" style=\"stroke:#ffcf00ff;stroke-width:3;\" /><line x1=\"318\" y1=\"0\" x2=\"318\" y2=\"20\" style=\"stroke:#ffce00ff;stroke-width:3;\" /><line x1=\"319\" y1=\"0\" x2=\"319\" y2=\"20\" style=\"stroke:#ffcd00ff;stroke-width:3;\" /><line x1=\"320\" y1=\"0\" x2=\"320\" y2=\"20\" style=\"stroke:#ffcc00ff;stroke-width:3;\" /><line x1=\"321\" y1=\"0\" x2=\"321\" y2=\"20\" style=\"stroke:#ffcc00ff;stroke-width:3;\" /><line x1=\"322\" y1=\"0\" x2=\"322\" y2=\"20\" style=\"stroke:#ffcb00ff;stroke-width:3;\" /><line x1=\"323\" y1=\"0\" x2=\"323\" y2=\"20\" style=\"stroke:#ffca00ff;stroke-width:3;\" /><line x1=\"324\" y1=\"0\" x2=\"324\" y2=\"20\" style=\"stroke:#ffca00ff;stroke-width:3;\" /><line x1=\"325\" y1=\"0\" x2=\"325\" y2=\"20\" style=\"stroke:#ffc900ff;stroke-width:3;\" /><line x1=\"326\" y1=\"0\" x2=\"326\" y2=\"20\" style=\"stroke:#ffc800ff;stroke-width:3;\" /><line x1=\"327\" y1=\"0\" x2=\"327\" y2=\"20\" style=\"stroke:#ffc700ff;stroke-width:3;\" /><line x1=\"328\" y1=\"0\" x2=\"328\" y2=\"20\" style=\"stroke:#ffc700ff;stroke-width:3;\" /><line x1=\"329\" y1=\"0\" x2=\"329\" y2=\"20\" style=\"stroke:#ffc600ff;stroke-width:3;\" /><line x1=\"330\" y1=\"0\" x2=\"330\" y2=\"20\" style=\"stroke:#ffc500ff;stroke-width:3;\" /><line x1=\"331\" y1=\"0\" x2=\"331\" y2=\"20\" style=\"stroke:#ffc400ff;stroke-width:3;\" /><line x1=\"332\" y1=\"0\" x2=\"332\" y2=\"20\" style=\"stroke:#ffc400ff;stroke-width:3;\" /><line x1=\"333\" y1=\"0\" x2=\"333\" y2=\"20\" style=\"stroke:#ffc300ff;stroke-width:3;\" /><line x1=\"334\" y1=\"0\" x2=\"334\" y2=\"20\" style=\"stroke:#ffc200ff;stroke-width:3;\" /><line x1=\"335\" y1=\"0\" x2=\"335\" y2=\"20\" style=\"stroke:#ffc200ff;stroke-width:3;\" /><line x1=\"336\" y1=\"0\" x2=\"336\" y2=\"20\" style=\"stroke:#ffc100ff;stroke-width:3;\" /><line x1=\"337\" y1=\"0\" x2=\"337\" y2=\"20\" style=\"stroke:#ffc000ff;stroke-width:3;\" /><line x1=\"338\" y1=\"0\" x2=\"338\" y2=\"20\" style=\"stroke:#ffbf00ff;stroke-width:3;\" /><line x1=\"339\" y1=\"0\" x2=\"339\" y2=\"20\" style=\"stroke:#ffbf00ff;stroke-width:3;\" /><line x1=\"340\" y1=\"0\" x2=\"340\" y2=\"20\" style=\"stroke:#ffbe00ff;stroke-width:3;\" /><line x1=\"341\" y1=\"0\" x2=\"341\" y2=\"20\" style=\"stroke:#ffbd00ff;stroke-width:3;\" /><line x1=\"342\" y1=\"0\" x2=\"342\" y2=\"20\" style=\"stroke:#ffbd00ff;stroke-width:3;\" /><line x1=\"343\" y1=\"0\" x2=\"343\" y2=\"20\" style=\"stroke:#ffbc00ff;stroke-width:3;\" /><line x1=\"344\" y1=\"0\" x2=\"344\" y2=\"20\" style=\"stroke:#ffbb00ff;stroke-width:3;\" /><line x1=\"345\" y1=\"0\" x2=\"345\" y2=\"20\" style=\"stroke:#ffba00ff;stroke-width:3;\" /><line x1=\"346\" y1=\"0\" x2=\"346\" y2=\"20\" style=\"stroke:#ffba00ff;stroke-width:3;\" /><line x1=\"347\" y1=\"0\" x2=\"347\" y2=\"20\" style=\"stroke:#ffb900ff;stroke-width:3;\" /><line x1=\"348\" y1=\"0\" x2=\"348\" y2=\"20\" style=\"stroke:#ffb800ff;stroke-width:3;\" /><line x1=\"349\" y1=\"0\" x2=\"349\" y2=\"20\" style=\"stroke:#ffb700ff;stroke-width:3;\" /><line x1=\"350\" y1=\"0\" x2=\"350\" y2=\"20\" style=\"stroke:#ffb700ff;stroke-width:3;\" /><line x1=\"351\" y1=\"0\" x2=\"351\" y2=\"20\" style=\"stroke:#ffb600ff;stroke-width:3;\" /><line x1=\"352\" y1=\"0\" x2=\"352\" y2=\"20\" style=\"stroke:#ffb500ff;stroke-width:3;\" /><line x1=\"353\" y1=\"0\" x2=\"353\" y2=\"20\" style=\"stroke:#ffb500ff;stroke-width:3;\" /><line x1=\"354\" y1=\"0\" x2=\"354\" y2=\"20\" style=\"stroke:#ffb400ff;stroke-width:3;\" /><line x1=\"355\" y1=\"0\" x2=\"355\" y2=\"20\" style=\"stroke:#ffb300ff;stroke-width:3;\" /><line x1=\"356\" y1=\"0\" x2=\"356\" y2=\"20\" style=\"stroke:#ffb200ff;stroke-width:3;\" /><line x1=\"357\" y1=\"0\" x2=\"357\" y2=\"20\" style=\"stroke:#ffb200ff;stroke-width:3;\" /><line x1=\"358\" y1=\"0\" x2=\"358\" y2=\"20\" style=\"stroke:#ffb100ff;stroke-width:3;\" /><line x1=\"359\" y1=\"0\" x2=\"359\" y2=\"20\" style=\"stroke:#ffb000ff;stroke-width:3;\" /><line x1=\"360\" y1=\"0\" x2=\"360\" y2=\"20\" style=\"stroke:#ffaf00ff;stroke-width:3;\" /><line x1=\"361\" y1=\"0\" x2=\"361\" y2=\"20\" style=\"stroke:#ffaf00ff;stroke-width:3;\" /><line x1=\"362\" y1=\"0\" x2=\"362\" y2=\"20\" style=\"stroke:#ffae00ff;stroke-width:3;\" /><line x1=\"363\" y1=\"0\" x2=\"363\" y2=\"20\" style=\"stroke:#ffad00ff;stroke-width:3;\" /><line x1=\"364\" y1=\"0\" x2=\"364\" y2=\"20\" style=\"stroke:#ffad00ff;stroke-width:3;\" /><line x1=\"365\" y1=\"0\" x2=\"365\" y2=\"20\" style=\"stroke:#ffac00ff;stroke-width:3;\" /><line x1=\"366\" y1=\"0\" x2=\"366\" y2=\"20\" style=\"stroke:#ffab00ff;stroke-width:3;\" /><line x1=\"367\" y1=\"0\" x2=\"367\" y2=\"20\" style=\"stroke:#ffaa00ff;stroke-width:3;\" /><line x1=\"368\" y1=\"0\" x2=\"368\" y2=\"20\" style=\"stroke:#ffaa00ff;stroke-width:3;\" /><line x1=\"369\" y1=\"0\" x2=\"369\" y2=\"20\" style=\"stroke:#ffa900ff;stroke-width:3;\" /><line x1=\"370\" y1=\"0\" x2=\"370\" y2=\"20\" style=\"stroke:#ffa800ff;stroke-width:3;\" /><line x1=\"371\" y1=\"0\" x2=\"371\" y2=\"20\" style=\"stroke:#ffa800ff;stroke-width:3;\" /><line x1=\"372\" y1=\"0\" x2=\"372\" y2=\"20\" style=\"stroke:#ffa700ff;stroke-width:3;\" /><line x1=\"373\" y1=\"0\" x2=\"373\" y2=\"20\" style=\"stroke:#ffa600ff;stroke-width:3;\" /><line x1=\"374\" y1=\"0\" x2=\"374\" y2=\"20\" style=\"stroke:#ffa500ff;stroke-width:3;\" /><line x1=\"375\" y1=\"0\" x2=\"375\" y2=\"20\" style=\"stroke:#ffa400ff;stroke-width:3;\" /><line x1=\"376\" y1=\"0\" x2=\"376\" y2=\"20\" style=\"stroke:#ffa300ff;stroke-width:3;\" /><line x1=\"377\" y1=\"0\" x2=\"377\" y2=\"20\" style=\"stroke:#ffa100ff;stroke-width:3;\" /><line x1=\"378\" y1=\"0\" x2=\"378\" y2=\"20\" style=\"stroke:#ffa000ff;stroke-width:3;\" /><line x1=\"379\" y1=\"0\" x2=\"379\" y2=\"20\" style=\"stroke:#ff9f00ff;stroke-width:3;\" /><line x1=\"380\" y1=\"0\" x2=\"380\" y2=\"20\" style=\"stroke:#ff9e00ff;stroke-width:3;\" /><line x1=\"381\" y1=\"0\" x2=\"381\" y2=\"20\" style=\"stroke:#ff9c00ff;stroke-width:3;\" /><line x1=\"382\" y1=\"0\" x2=\"382\" y2=\"20\" style=\"stroke:#ff9b00ff;stroke-width:3;\" /><line x1=\"383\" y1=\"0\" x2=\"383\" y2=\"20\" style=\"stroke:#ff9a00ff;stroke-width:3;\" /><line x1=\"384\" y1=\"0\" x2=\"384\" y2=\"20\" style=\"stroke:#ff9800ff;stroke-width:3;\" /><line x1=\"385\" y1=\"0\" x2=\"385\" y2=\"20\" style=\"stroke:#ff9700ff;stroke-width:3;\" /><line x1=\"386\" y1=\"0\" x2=\"386\" y2=\"20\" style=\"stroke:#ff9600ff;stroke-width:3;\" /><line x1=\"387\" y1=\"0\" x2=\"387\" y2=\"20\" style=\"stroke:#ff9400ff;stroke-width:3;\" /><line x1=\"388\" y1=\"0\" x2=\"388\" y2=\"20\" style=\"stroke:#ff9300ff;stroke-width:3;\" /><line x1=\"389\" y1=\"0\" x2=\"389\" y2=\"20\" style=\"stroke:#ff9200ff;stroke-width:3;\" /><line x1=\"390\" y1=\"0\" x2=\"390\" y2=\"20\" style=\"stroke:#ff9000ff;stroke-width:3;\" /><line x1=\"391\" y1=\"0\" x2=\"391\" y2=\"20\" style=\"stroke:#ff8f00ff;stroke-width:3;\" /><line x1=\"392\" y1=\"0\" x2=\"392\" y2=\"20\" style=\"stroke:#ff8e00ff;stroke-width:3;\" /><line x1=\"393\" y1=\"0\" x2=\"393\" y2=\"20\" style=\"stroke:#ff8c00ff;stroke-width:3;\" /><line x1=\"394\" y1=\"0\" x2=\"394\" y2=\"20\" style=\"stroke:#ff8b00ff;stroke-width:3;\" /><line x1=\"395\" y1=\"0\" x2=\"395\" y2=\"20\" style=\"stroke:#ff8a00ff;stroke-width:3;\" /><line x1=\"396\" y1=\"0\" x2=\"396\" y2=\"20\" style=\"stroke:#ff8800ff;stroke-width:3;\" /><line x1=\"397\" y1=\"0\" x2=\"397\" y2=\"20\" style=\"stroke:#ff8700ff;stroke-width:3;\" /><line x1=\"398\" y1=\"0\" x2=\"398\" y2=\"20\" style=\"stroke:#ff8600ff;stroke-width:3;\" /><line x1=\"399\" y1=\"0\" x2=\"399\" y2=\"20\" style=\"stroke:#ff8400ff;stroke-width:3;\" /><line x1=\"400\" y1=\"0\" x2=\"400\" y2=\"20\" style=\"stroke:#ff8300ff;stroke-width:3;\" /><line x1=\"401\" y1=\"0\" x2=\"401\" y2=\"20\" style=\"stroke:#ff8200ff;stroke-width:3;\" /><line x1=\"402\" y1=\"0\" x2=\"402\" y2=\"20\" style=\"stroke:#ff8000ff;stroke-width:3;\" /><line x1=\"403\" y1=\"0\" x2=\"403\" y2=\"20\" style=\"stroke:#ff7f00ff;stroke-width:3;\" /><line x1=\"404\" y1=\"0\" x2=\"404\" y2=\"20\" style=\"stroke:#ff7e00ff;stroke-width:3;\" /><line x1=\"405\" y1=\"0\" x2=\"405\" y2=\"20\" style=\"stroke:#ff7c00ff;stroke-width:3;\" /><line x1=\"406\" y1=\"0\" x2=\"406\" y2=\"20\" style=\"stroke:#ff7b00ff;stroke-width:3;\" /><line x1=\"407\" y1=\"0\" x2=\"407\" y2=\"20\" style=\"stroke:#ff7a00ff;stroke-width:3;\" /><line x1=\"408\" y1=\"0\" x2=\"408\" y2=\"20\" style=\"stroke:#ff7800ff;stroke-width:3;\" /><line x1=\"409\" y1=\"0\" x2=\"409\" y2=\"20\" style=\"stroke:#ff7700ff;stroke-width:3;\" /><line x1=\"410\" y1=\"0\" x2=\"410\" y2=\"20\" style=\"stroke:#ff7600ff;stroke-width:3;\" /><line x1=\"411\" y1=\"0\" x2=\"411\" y2=\"20\" style=\"stroke:#ff7400ff;stroke-width:3;\" /><line x1=\"412\" y1=\"0\" x2=\"412\" y2=\"20\" style=\"stroke:#ff7300ff;stroke-width:3;\" /><line x1=\"413\" y1=\"0\" x2=\"413\" y2=\"20\" style=\"stroke:#ff7200ff;stroke-width:3;\" /><line x1=\"414\" y1=\"0\" x2=\"414\" y2=\"20\" style=\"stroke:#ff7000ff;stroke-width:3;\" /><line x1=\"415\" y1=\"0\" x2=\"415\" y2=\"20\" style=\"stroke:#ff6f00ff;stroke-width:3;\" /><line x1=\"416\" y1=\"0\" x2=\"416\" y2=\"20\" style=\"stroke:#ff6e00ff;stroke-width:3;\" /><line x1=\"417\" y1=\"0\" x2=\"417\" y2=\"20\" style=\"stroke:#ff6c00ff;stroke-width:3;\" /><line x1=\"418\" y1=\"0\" x2=\"418\" y2=\"20\" style=\"stroke:#ff6b00ff;stroke-width:3;\" /><line x1=\"419\" y1=\"0\" x2=\"419\" y2=\"20\" style=\"stroke:#ff6a00ff;stroke-width:3;\" /><line x1=\"420\" y1=\"0\" x2=\"420\" y2=\"20\" style=\"stroke:#ff6800ff;stroke-width:3;\" /><line x1=\"421\" y1=\"0\" x2=\"421\" y2=\"20\" style=\"stroke:#ff6700ff;stroke-width:3;\" /><line x1=\"422\" y1=\"0\" x2=\"422\" y2=\"20\" style=\"stroke:#ff6600ff;stroke-width:3;\" /><line x1=\"423\" y1=\"0\" x2=\"423\" y2=\"20\" style=\"stroke:#ff6400ff;stroke-width:3;\" /><line x1=\"424\" y1=\"0\" x2=\"424\" y2=\"20\" style=\"stroke:#ff6300ff;stroke-width:3;\" /><line x1=\"425\" y1=\"0\" x2=\"425\" y2=\"20\" style=\"stroke:#ff6200ff;stroke-width:3;\" /><line x1=\"426\" y1=\"0\" x2=\"426\" y2=\"20\" style=\"stroke:#ff6000ff;stroke-width:3;\" /><line x1=\"427\" y1=\"0\" x2=\"427\" y2=\"20\" style=\"stroke:#ff5f00ff;stroke-width:3;\" /><line x1=\"428\" y1=\"0\" x2=\"428\" y2=\"20\" style=\"stroke:#ff5e00ff;stroke-width:3;\" /><line x1=\"429\" y1=\"0\" x2=\"429\" y2=\"20\" style=\"stroke:#ff5c00ff;stroke-width:3;\" /><line x1=\"430\" y1=\"0\" x2=\"430\" y2=\"20\" style=\"stroke:#ff5b00ff;stroke-width:3;\" /><line x1=\"431\" y1=\"0\" x2=\"431\" y2=\"20\" style=\"stroke:#ff5a00ff;stroke-width:3;\" /><line x1=\"432\" y1=\"0\" x2=\"432\" y2=\"20\" style=\"stroke:#ff5800ff;stroke-width:3;\" /><line x1=\"433\" y1=\"0\" x2=\"433\" y2=\"20\" style=\"stroke:#ff5700ff;stroke-width:3;\" /><line x1=\"434\" y1=\"0\" x2=\"434\" y2=\"20\" style=\"stroke:#ff5600ff;stroke-width:3;\" /><line x1=\"435\" y1=\"0\" x2=\"435\" y2=\"20\" style=\"stroke:#ff5400ff;stroke-width:3;\" /><line x1=\"436\" y1=\"0\" x2=\"436\" y2=\"20\" style=\"stroke:#ff5300ff;stroke-width:3;\" /><line x1=\"437\" y1=\"0\" x2=\"437\" y2=\"20\" style=\"stroke:#ff5200ff;stroke-width:3;\" /><line x1=\"438\" y1=\"0\" x2=\"438\" y2=\"20\" style=\"stroke:#ff5000ff;stroke-width:3;\" /><line x1=\"439\" y1=\"0\" x2=\"439\" y2=\"20\" style=\"stroke:#ff4f00ff;stroke-width:3;\" /><line x1=\"440\" y1=\"0\" x2=\"440\" y2=\"20\" style=\"stroke:#ff4e00ff;stroke-width:3;\" /><line x1=\"441\" y1=\"0\" x2=\"441\" y2=\"20\" style=\"stroke:#ff4d00ff;stroke-width:3;\" /><line x1=\"442\" y1=\"0\" x2=\"442\" y2=\"20\" style=\"stroke:#ff4b00ff;stroke-width:3;\" /><line x1=\"443\" y1=\"0\" x2=\"443\" y2=\"20\" style=\"stroke:#ff4a00ff;stroke-width:3;\" /><line x1=\"444\" y1=\"0\" x2=\"444\" y2=\"20\" style=\"stroke:#ff4900ff;stroke-width:3;\" /><line x1=\"445\" y1=\"0\" x2=\"445\" y2=\"20\" style=\"stroke:#ff4700ff;stroke-width:3;\" /><line x1=\"446\" y1=\"0\" x2=\"446\" y2=\"20\" style=\"stroke:#ff4600ff;stroke-width:3;\" /><line x1=\"447\" y1=\"0\" x2=\"447\" y2=\"20\" style=\"stroke:#ff4500ff;stroke-width:3;\" /><line x1=\"448\" y1=\"0\" x2=\"448\" y2=\"20\" style=\"stroke:#ff4300ff;stroke-width:3;\" /><line x1=\"449\" y1=\"0\" x2=\"449\" y2=\"20\" style=\"stroke:#ff4200ff;stroke-width:3;\" /><line x1=\"450\" y1=\"0\" x2=\"450\" y2=\"20\" style=\"stroke:#ff4100ff;stroke-width:3;\" /><line x1=\"451\" y1=\"0\" x2=\"451\" y2=\"20\" style=\"stroke:#ff3f00ff;stroke-width:3;\" /><line x1=\"452\" y1=\"0\" x2=\"452\" y2=\"20\" style=\"stroke:#ff3e00ff;stroke-width:3;\" /><line x1=\"453\" y1=\"0\" x2=\"453\" y2=\"20\" style=\"stroke:#ff3d00ff;stroke-width:3;\" /><line x1=\"454\" y1=\"0\" x2=\"454\" y2=\"20\" style=\"stroke:#ff3b00ff;stroke-width:3;\" /><line x1=\"455\" y1=\"0\" x2=\"455\" y2=\"20\" style=\"stroke:#ff3a00ff;stroke-width:3;\" /><line x1=\"456\" y1=\"0\" x2=\"456\" y2=\"20\" style=\"stroke:#ff3900ff;stroke-width:3;\" /><line x1=\"457\" y1=\"0\" x2=\"457\" y2=\"20\" style=\"stroke:#ff3700ff;stroke-width:3;\" /><line x1=\"458\" y1=\"0\" x2=\"458\" y2=\"20\" style=\"stroke:#ff3600ff;stroke-width:3;\" /><line x1=\"459\" y1=\"0\" x2=\"459\" y2=\"20\" style=\"stroke:#ff3500ff;stroke-width:3;\" /><line x1=\"460\" y1=\"0\" x2=\"460\" y2=\"20\" style=\"stroke:#ff3300ff;stroke-width:3;\" /><line x1=\"461\" y1=\"0\" x2=\"461\" y2=\"20\" style=\"stroke:#ff3200ff;stroke-width:3;\" /><line x1=\"462\" y1=\"0\" x2=\"462\" y2=\"20\" style=\"stroke:#ff3100ff;stroke-width:3;\" /><line x1=\"463\" y1=\"0\" x2=\"463\" y2=\"20\" style=\"stroke:#ff2f00ff;stroke-width:3;\" /><line x1=\"464\" y1=\"0\" x2=\"464\" y2=\"20\" style=\"stroke:#ff2e00ff;stroke-width:3;\" /><line x1=\"465\" y1=\"0\" x2=\"465\" y2=\"20\" style=\"stroke:#ff2d00ff;stroke-width:3;\" /><line x1=\"466\" y1=\"0\" x2=\"466\" y2=\"20\" style=\"stroke:#ff2b00ff;stroke-width:3;\" /><line x1=\"467\" y1=\"0\" x2=\"467\" y2=\"20\" style=\"stroke:#ff2a00ff;stroke-width:3;\" /><line x1=\"468\" y1=\"0\" x2=\"468\" y2=\"20\" style=\"stroke:#ff2900ff;stroke-width:3;\" /><line x1=\"469\" y1=\"0\" x2=\"469\" y2=\"20\" style=\"stroke:#ff2700ff;stroke-width:3;\" /><line x1=\"470\" y1=\"0\" x2=\"470\" y2=\"20\" style=\"stroke:#ff2600ff;stroke-width:3;\" /><line x1=\"471\" y1=\"0\" x2=\"471\" y2=\"20\" style=\"stroke:#ff2500ff;stroke-width:3;\" /><line x1=\"472\" y1=\"0\" x2=\"472\" y2=\"20\" style=\"stroke:#ff2300ff;stroke-width:3;\" /><line x1=\"473\" y1=\"0\" x2=\"473\" y2=\"20\" style=\"stroke:#ff2200ff;stroke-width:3;\" /><line x1=\"474\" y1=\"0\" x2=\"474\" y2=\"20\" style=\"stroke:#ff2100ff;stroke-width:3;\" /><line x1=\"475\" y1=\"0\" x2=\"475\" y2=\"20\" style=\"stroke:#ff1f00ff;stroke-width:3;\" /><line x1=\"476\" y1=\"0\" x2=\"476\" y2=\"20\" style=\"stroke:#ff1e00ff;stroke-width:3;\" /><line x1=\"477\" y1=\"0\" x2=\"477\" y2=\"20\" style=\"stroke:#ff1d00ff;stroke-width:3;\" /><line x1=\"478\" y1=\"0\" x2=\"478\" y2=\"20\" style=\"stroke:#ff1b00ff;stroke-width:3;\" /><line x1=\"479\" y1=\"0\" x2=\"479\" y2=\"20\" style=\"stroke:#ff1a00ff;stroke-width:3;\" /><line x1=\"480\" y1=\"0\" x2=\"480\" y2=\"20\" style=\"stroke:#ff1900ff;stroke-width:3;\" /><line x1=\"481\" y1=\"0\" x2=\"481\" y2=\"20\" style=\"stroke:#ff1700ff;stroke-width:3;\" /><line x1=\"482\" y1=\"0\" x2=\"482\" y2=\"20\" style=\"stroke:#ff1600ff;stroke-width:3;\" /><line x1=\"483\" y1=\"0\" x2=\"483\" y2=\"20\" style=\"stroke:#ff1500ff;stroke-width:3;\" /><line x1=\"484\" y1=\"0\" x2=\"484\" y2=\"20\" style=\"stroke:#ff1300ff;stroke-width:3;\" /><line x1=\"485\" y1=\"0\" x2=\"485\" y2=\"20\" style=\"stroke:#ff1200ff;stroke-width:3;\" /><line x1=\"486\" y1=\"0\" x2=\"486\" y2=\"20\" style=\"stroke:#ff1100ff;stroke-width:3;\" /><line x1=\"487\" y1=\"0\" x2=\"487\" y2=\"20\" style=\"stroke:#ff0f00ff;stroke-width:3;\" /><line x1=\"488\" y1=\"0\" x2=\"488\" y2=\"20\" style=\"stroke:#ff0e00ff;stroke-width:3;\" /><line x1=\"489\" y1=\"0\" x2=\"489\" y2=\"20\" style=\"stroke:#ff0d00ff;stroke-width:3;\" /><line x1=\"490\" y1=\"0\" x2=\"490\" y2=\"20\" style=\"stroke:#ff0b00ff;stroke-width:3;\" /><line x1=\"491\" y1=\"0\" x2=\"491\" y2=\"20\" style=\"stroke:#ff0a00ff;stroke-width:3;\" /><line x1=\"492\" y1=\"0\" x2=\"492\" y2=\"20\" style=\"stroke:#ff0900ff;stroke-width:3;\" /><line x1=\"493\" y1=\"0\" x2=\"493\" y2=\"20\" style=\"stroke:#ff0700ff;stroke-width:3;\" /><line x1=\"494\" y1=\"0\" x2=\"494\" y2=\"20\" style=\"stroke:#ff0600ff;stroke-width:3;\" /><line x1=\"495\" y1=\"0\" x2=\"495\" y2=\"20\" style=\"stroke:#ff0500ff;stroke-width:3;\" /><line x1=\"496\" y1=\"0\" x2=\"496\" y2=\"20\" style=\"stroke:#ff0300ff;stroke-width:3;\" /><line x1=\"497\" y1=\"0\" x2=\"497\" y2=\"20\" style=\"stroke:#ff0200ff;stroke-width:3;\" /><line x1=\"498\" y1=\"0\" x2=\"498\" y2=\"20\" style=\"stroke:#ff0100ff;stroke-width:3;\" /><line x1=\"499\" y1=\"0\" x2=\"499\" y2=\"20\" style=\"stroke:#ff0000ff;stroke-width:3;\" /><text x=\"0\" y=\"35\">0</text><text x=\"500\" y=\"35\" style=\"text-anchor:end;\">1000</text></svg>"
      ],
      "text/plain": [
       "<branca.colormap.LinearColormap at 0x2c3cfd6e5b0>"
      ]
     },
     "execution_count": 85,
     "metadata": {},
     "output_type": "execute_result"
    }
   ],
   "source": [
    "colormap = cm.LinearColormap(colors = ['blue', 'green', 'yellow', 'orange', 'red'], index = np.round(np.linspace(0, 1000, 5)), vmin = 0, vmax = 1000)\n",
    "colormap"
   ]
  },
  {
   "cell_type": "code",
   "execution_count": 86,
   "id": "af9ae27a",
   "metadata": {
    "id": "af9ae27a"
   },
   "outputs": [],
   "source": [
    "hourSelect1 = pn.widgets.Select(name = 'Выберите, на сколько часов показать прогноз', value = 1, options = [1, 2, 3, 4, 5, 6])\n",
    "\n",
    "dateSlider1 = pn.widgets.DateSlider(name = 'Задайте дату конца истории', start = dt.datetime(2016, 6, 1).date(), end = dt.datetime(2016, 6, 30).date())\n",
    "\n",
    "hourSlider1 = pn.widgets.IntSlider(name = 'Задайте час конца истории', value = 6, start = 0, end = 23)"
   ]
  },
  {
   "cell_type": "code",
   "execution_count": 87,
   "id": "26ac1a48",
   "metadata": {
    "colab": {
     "base_uri": "https://localhost:8080/"
    },
    "id": "26ac1a48",
    "outputId": "ab02d6b8-3119-47d0-9a4d-63b4dca98f5c"
   },
   "outputs": [
    {
     "data": {
      "text/plain": [
       "Watcher(inst=DateSlider(end=datetime.date(2016, ..., name='Задайте дату к..., start=datetime.date(2016, 6, 1), value=datetime.date(2016, 6, 1)), cls=<class 'panel.widgets.slider.DateSlider'>, fn=<function dateHour1 at 0x000002C3CD02CB80>, mode='args', onlychanged=True, parameter_names=('value',), what='value', queued=False, precedence=0)"
      ]
     },
     "execution_count": 87,
     "metadata": {},
     "output_type": "execute_result"
    }
   ],
   "source": [
    "def dateHour1(event):\n",
    "    if event.new == dt.datetime(2016, 6, 30).date():\n",
    "        hourSlider1.end = 17\n",
    "        if hourSlider1.value > 17:\n",
    "            hourSlider1.value = 17\n",
    "    else:\n",
    "        hourSlider1.end = 23\n",
    "\n",
    "dateSlider1.param.watch(dateHour1, 'value')"
   ]
  },
  {
   "cell_type": "code",
   "execution_count": 88,
   "id": "c7828c09",
   "metadata": {
    "id": "c7828c09"
   },
   "outputs": [],
   "source": [
    "Colms = [['y1', 'y2', 'y3', 'y4', 'y5', 'y6'], ['p1', 'p2', 'p3', 'p4', 'p5', 'p6']]"
   ]
  },
  {
   "cell_type": "code",
   "execution_count": 89,
   "id": "443d8732",
   "metadata": {
    "id": "443d8732"
   },
   "outputs": [],
   "source": [
    "m1 = folium.Map(location = [40.748441, -73.985664], tiles = 'OpenStreetMap', min_zoom = 11, max_zoom = 13)\n",
    "m2 = folium.Map(location = [40.748441, -73.985664], tiles = 'OpenStreetMap', min_zoom = 11, max_zoom = 13)"
   ]
  },
  {
   "cell_type": "code",
   "execution_count": 90,
   "id": "4aa8f73a",
   "metadata": {
    "colab": {
     "base_uri": "https://localhost:8080/"
    },
    "id": "4aa8f73a",
    "outputId": "68d21847-fe09-4061-d326-f6cd3acb1a69"
   },
   "outputs": [
    {
     "data": {
      "text/plain": [
       "Watcher(inst=Button(name='Применить'), cls=<class 'panel.widgets.button.Button'>, fn=<function updateMap at 0x000002C3CCFEF430>, mode='args', onlychanged=False, parameter_names=('value',), what='value', queued=False, precedence=0)"
      ]
     },
     "execution_count": 90,
     "metadata": {},
     "output_type": "execute_result"
    }
   ],
   "source": [
    "accept = pn.widgets.Button(name = 'Применить', value = False)\n",
    "\n",
    "foliumPane1 = pn.pane.plot.Folium(m1, height = 500, width = 500)\n",
    "foliumPane2 = pn.pane.plot.Folium(m2, height = 500, width = 500)\n",
    "\n",
    "def updateMap(event): \n",
    "    if (event.new == True):\n",
    "        time0 = dt.datetime.strptime(str(dateSlider1.value), '%Y-%m-%d')\n",
    "        time0 = time0.replace(hour = hourSlider1.value)\n",
    "        lag = hourSelect1.value\n",
    "        \n",
    "        m1 = folium.Map(location = [40.748441, -73.985664], tiles = 'OpenStreetMap', min_zoom = 11, max_zoom = 13)\n",
    "        m2 = folium.Map(location = [40.748441, -73.985664], tiles = 'OpenStreetMap', min_zoom = 11, max_zoom = 13)\n",
    "        \n",
    "        for i in range(regions.shape[0]):\n",
    "            color = [0, 0] # Заполняющий цвет\n",
    "            NumTrips = [0, 0] # Количество поездок\n",
    "            fillInd = [0, 0] # Непрозрачность цвета\n",
    "            if(i + 1) in list(nRegions):\n",
    "                for nMap in range(2):\n",
    "                    NumTrips[nMap] = int(forecast[(forecast.reg == (i + 1)) & (forecast.time == time0)][Colms[nMap][lag - 1]].iloc[0])\n",
    "                    color[nMap] = colormap(NumTrips[nMap]) # Положение количества поездок на цветовой шкале\n",
    "                \n",
    "                    # При небольшом количестве поездок лучше закрасить более прозрачным цветом\n",
    "                    if NumTrips[nMap] < 100:\n",
    "                        fillInd[nMap] = 0.1\n",
    "                    else:\n",
    "                        fillInd[nMap] = 0.5\n",
    "            # Отрисовка прямоугольников\n",
    "            folium.Rectangle(bounds = list([(regions['south'].iloc[i], regions['west'].iloc[i]), \n",
    "                (regions['north'].iloc[i],regions['east'].iloc[i])]), \n",
    "                color = 0, fill = True, fill_color = color[0], fill_opacity = fillInd[0],\n",
    "                tooltip = str(NumTrips[0])).add_to(m1)\n",
    "            \n",
    "            folium.Rectangle(bounds = list([(regions['south'].iloc[i], regions['west'].iloc[i]), \n",
    "                (regions['north'].iloc[i],regions['east'].iloc[i])]), \n",
    "                color = 0, fill = True, fill_color = color[1], fill_opacity = fillInd[1],\n",
    "                tooltip = str(NumTrips[1])).add_to(m2)\n",
    "        foliumPane1.object = m1\n",
    "        foliumPane2.object = m2\n",
    "\n",
    "accept.param.watch(updateMap, 'value', onlychanged = False)"
   ]
  },
  {
   "cell_type": "code",
   "execution_count": 91,
   "id": "15024610",
   "metadata": {
    "id": "15024610"
   },
   "outputs": [],
   "source": [
    "groupMap = pn.Row(pn.Column('### Прогнозируемое количество поездок на такси', foliumPane1), pn.Column('###Истинное количество поездок на такси', foliumPane2))\n",
    "page2 = pn.Column(\"<br>\\n# Прогнозы количества поездок на карте\", dateSlider1, hourSlider1, hourSelect1, accept, groupMap, name = \"Карта\")"
   ]
  },
  {
   "cell_type": "code",
   "execution_count": 92,
   "id": "b893464f",
   "metadata": {
    "colab": {
     "base_uri": "https://localhost:8080/",
     "height": 894
    },
    "id": "b893464f",
    "outputId": "7a89db49-2e77-4e18-e470-93ff5b86f1f6"
   },
   "outputs": [
    {
     "data": {},
     "metadata": {},
     "output_type": "display_data"
    },
    {
     "data": {
      "application/vnd.holoviews_exec.v0+json": "",
      "text/html": [
       "<div id='1512'>\n",
       "\n",
       "\n",
       "\n",
       "\n",
       "\n",
       "  <div class=\"bk-root\" id=\"e24239bf-0ea7-45bf-af1c-96189f84fbba\" data-root-id=\"1512\"></div>\n",
       "</div>\n",
       "<script type=\"application/javascript\">(function(root) {\n",
       "  function embed_document(root) {\n",
       "    var docs_json = {\"eb48cc55-cade-4795-b080-c9813948e90d\":{\"defs\":[{\"extends\":null,\"module\":null,\"name\":\"ReactiveHTML1\",\"overrides\":[],\"properties\":[]},{\"extends\":null,\"module\":null,\"name\":\"FlexBox1\",\"overrides\":[],\"properties\":[{\"default\":\"flex-start\",\"kind\":null,\"name\":\"align_content\"},{\"default\":\"flex-start\",\"kind\":null,\"name\":\"align_items\"},{\"default\":\"row\",\"kind\":null,\"name\":\"flex_direction\"},{\"default\":\"wrap\",\"kind\":null,\"name\":\"flex_wrap\"},{\"default\":\"flex-start\",\"kind\":null,\"name\":\"justify_content\"}]},{\"extends\":null,\"module\":null,\"name\":\"GridStack1\",\"overrides\":[],\"properties\":[{\"default\":\"warn\",\"kind\":null,\"name\":\"mode\"},{\"default\":null,\"kind\":null,\"name\":\"ncols\"},{\"default\":null,\"kind\":null,\"name\":\"nrows\"},{\"default\":true,\"kind\":null,\"name\":\"allow_resize\"},{\"default\":true,\"kind\":null,\"name\":\"allow_drag\"},{\"default\":[],\"kind\":null,\"name\":\"state\"}]},{\"extends\":null,\"module\":null,\"name\":\"click1\",\"overrides\":[],\"properties\":[{\"default\":\"\",\"kind\":null,\"name\":\"terminal_output\"},{\"default\":\"\",\"kind\":null,\"name\":\"debug_name\"},{\"default\":0,\"kind\":null,\"name\":\"clears\"}]},{\"extends\":null,\"module\":null,\"name\":\"TemplateActions1\",\"overrides\":[],\"properties\":[{\"default\":0,\"kind\":null,\"name\":\"open_modal\"},{\"default\":0,\"kind\":null,\"name\":\"close_modal\"}]},{\"extends\":null,\"module\":null,\"name\":\"MaterialTemplateActions1\",\"overrides\":[],\"properties\":[{\"default\":0,\"kind\":null,\"name\":\"open_modal\"},{\"default\":0,\"kind\":null,\"name\":\"close_modal\"}]}],\"roots\":{\"references\":[{\"attributes\":{\"margin\":[5,10,5,10],\"options\":[\"1\",\"2\",\"3\",\"4\",\"5\",\"6\"],\"title\":\"\\u0412\\u044b\\u0431\\u0435\\u0440\\u0438\\u0442\\u0435, \\u043d\\u0430 \\u0441\\u043a\\u043e\\u043b\\u044c\\u043a\\u043e \\u0447\\u0430\\u0441\\u043e\\u0432 \\u043f\\u043e\\u043a\\u0430\\u0437\\u0430\\u0442\\u044c \\u043f\\u0440\\u043e\\u0433\\u043d\\u043e\\u0437\",\"value\":\"1\"},\"id\":\"1529\",\"type\":\"panel.models.widgets.CustomSelect\"},{\"attributes\":{\"children\":[{\"id\":\"1516\"},{\"id\":\"1519\"}],\"margin\":[0,0,0,0],\"name\":\"Row00273\"},\"id\":\"1515\",\"type\":\"Row\"},{\"attributes\":{\"css_classes\":[\"markdown\"],\"margin\":[5,5,5,5],\"name\":\"Markdown00292\",\"text\":\"&lt;h3&gt;\\u041f\\u0440\\u043e\\u0433\\u043d\\u043e\\u0437\\u0438\\u0440\\u0443\\u0435\\u043c\\u043e\\u0435 \\u043a\\u043e\\u043b\\u0438\\u0447\\u0435\\u0441\\u0442\\u0432\\u043e \\u043f\\u043e\\u0435\\u0437\\u0434\\u043e\\u043a \\u043d\\u0430 \\u0442\\u0430\\u043a\\u0441\\u0438&lt;/h3&gt;\"},\"id\":\"1533\",\"type\":\"panel.models.markup.HTML\"},{\"attributes\":{\"css_classes\":[\"markdown\"],\"margin\":[5,5,5,5],\"name\":\"Markdown00299\",\"text\":\"&lt;p&gt;&lt;br&gt;&lt;/p&gt;\\n&lt;h1&gt;\\u041f\\u0440\\u043e\\u0433\\u043d\\u043e\\u0437\\u044b \\u043a\\u043e\\u043b\\u0438\\u0447\\u0435\\u0441\\u0442\\u0432\\u0430 \\u043f\\u043e\\u0435\\u0437\\u0434\\u043e\\u043a \\u043d\\u0430 \\u043a\\u0430\\u0440\\u0442\\u0435&lt;/h1&gt;\"},\"id\":\"1526\",\"type\":\"panel.models.markup.HTML\"},{\"attributes\":{\"children\":[{\"id\":\"1514\"},{\"id\":\"1515\"},{\"id\":\"1522\"}],\"margin\":[0,0,0,0],\"name\":\"\\u0413\\u0440\\u0430\\u0444\\u0438\\u043a\"},\"id\":\"1513\",\"type\":\"Column\"},{\"attributes\":{\"end\":23,\"margin\":[5,10,5,10],\"start\":0,\"title\":\"\\u0417\\u0430\\u0434\\u0430\\u0439\\u0442\\u0435 \\u0447\\u0430\\u0441 \\u043a\\u043e\\u043d\\u0446\\u0430 \\u0438\\u0441\\u0442\\u043e\\u0440\\u0438\\u0438\",\"value\":6},\"id\":\"1518\",\"type\":\"Slider\"},{\"attributes\":{\"height\":500,\"margin\":[5,5,5,5],\"name\":\"Folium00290\",\"sizing_mode\":\"fixed\",\"text\":\"&lt;div style=&quot;width:100%;height:100%&quot;&gt;&lt;div style=&quot;position:relative;width:100%;height:100%;padding-bottom:0%;&quot;&gt;&lt;span style=&quot;color:#565656&quot;&gt;Make this Notebook Trusted to load map: File -&gt; Trust Notebook&lt;/span&gt;&lt;iframe src=&quot;about:blank&quot; style=&quot;position:absolute;width:100%;height:100%;left:0;top:0;border:none !important;&quot; data-html=%3C%21DOCTYPE%20html%3E%0A%3Chead%3E%20%20%20%20%0A%20%20%20%20%3Cmeta%20http-equiv%3D%22content-type%22%20content%3D%22text/html%3B%20charset%3DUTF-8%22%20/%3E%0A%20%20%20%20%0A%20%20%20%20%20%20%20%20%3Cscript%3E%0A%20%20%20%20%20%20%20%20%20%20%20%20L_NO_TOUCH%20%3D%20false%3B%0A%20%20%20%20%20%20%20%20%20%20%20%20L_DISABLE_3D%20%3D%20false%3B%0A%20%20%20%20%20%20%20%20%3C/script%3E%0A%20%20%20%20%0A%20%20%20%20%3Cstyle%3Ehtml%2C%20body%20%7Bwidth%3A%20100%25%3Bheight%3A%20100%25%3Bmargin%3A%200%3Bpadding%3A%200%3B%7D%3C/style%3E%0A%20%20%20%20%3Cstyle%3E%23map%20%7Bposition%3Aabsolute%3Btop%3A0%3Bbottom%3A0%3Bright%3A0%3Bleft%3A0%3B%7D%3C/style%3E%0A%20%20%20%20%3Cscript%20src%3D%22https%3A//cdn.jsdelivr.net/npm/leaflet%401.6.0/dist/leaflet.js%22%3E%3C/script%3E%0A%20%20%20%20%3Cscript%20src%3D%22https%3A//code.jquery.com/jquery-1.12.4.min.js%22%3E%3C/script%3E%0A%20%20%20%20%3Cscript%20src%3D%22https%3A//maxcdn.bootstrapcdn.com/bootstrap/3.2.0/js/bootstrap.min.js%22%3E%3C/script%3E%0A%20%20%20%20%3Cscript%20src%3D%22https%3A//cdnjs.cloudflare.com/ajax/libs/Leaflet.awesome-markers/2.0.2/leaflet.awesome-markers.js%22%3E%3C/script%3E%0A%20%20%20%20%3Clink%20rel%3D%22stylesheet%22%20href%3D%22https%3A//cdn.jsdelivr.net/npm/leaflet%401.6.0/dist/leaflet.css%22/%3E%0A%20%20%20%20%3Clink%20rel%3D%22stylesheet%22%20href%3D%22https%3A//maxcdn.bootstrapcdn.com/bootstrap/3.2.0/css/bootstrap.min.css%22/%3E%0A%20%20%20%20%3Clink%20rel%3D%22stylesheet%22%20href%3D%22https%3A//maxcdn.bootstrapcdn.com/bootstrap/3.2.0/css/bootstrap-theme.min.css%22/%3E%0A%20%20%20%20%3Clink%20rel%3D%22stylesheet%22%20href%3D%22https%3A//maxcdn.bootstrapcdn.com/font-awesome/4.6.3/css/font-awesome.min.css%22/%3E%0A%20%20%20%20%3Clink%20rel%3D%22stylesheet%22%20href%3D%22https%3A//cdnjs.cloudflare.com/ajax/libs/Leaflet.awesome-markers/2.0.2/leaflet.awesome-markers.css%22/%3E%0A%20%20%20%20%3Clink%20rel%3D%22stylesheet%22%20href%3D%22https%3A//cdn.jsdelivr.net/gh/python-visualization/folium/folium/templates/leaflet.awesome.rotate.min.css%22/%3E%0A%20%20%20%20%0A%20%20%20%20%20%20%20%20%20%20%20%20%3Cmeta%20name%3D%22viewport%22%20content%3D%22width%3Ddevice-width%2C%0A%20%20%20%20%20%20%20%20%20%20%20%20%20%20%20%20initial-scale%3D1.0%2C%20maximum-scale%3D1.0%2C%20user-scalable%3Dno%22%20/%3E%0A%20%20%20%20%20%20%20%20%20%20%20%20%3Cstyle%3E%0A%20%20%20%20%20%20%20%20%20%20%20%20%20%20%20%20%23map_26f0b109420641ddb69a83c733e6ed1e%20%7B%0A%20%20%20%20%20%20%20%20%20%20%20%20%20%20%20%20%20%20%20%20position%3A%20relative%3B%0A%20%20%20%20%20%20%20%20%20%20%20%20%20%20%20%20%20%20%20%20width%3A%20100.0%25%3B%0A%20%20%20%20%20%20%20%20%20%20%20%20%20%20%20%20%20%20%20%20height%3A%20100.0%25%3B%0A%20%20%20%20%20%20%20%20%20%20%20%20%20%20%20%20%20%20%20%20left%3A%200.0%25%3B%0A%20%20%20%20%20%20%20%20%20%20%20%20%20%20%20%20%20%20%20%20top%3A%200.0%25%3B%0A%20%20%20%20%20%20%20%20%20%20%20%20%20%20%20%20%7D%0A%20%20%20%20%20%20%20%20%20%20%20%20%3C/style%3E%0A%20%20%20%20%20%20%20%20%0A%3C/head%3E%0A%3Cbody%3E%20%20%20%20%0A%20%20%20%20%0A%20%20%20%20%20%20%20%20%20%20%20%20%3Cdiv%20class%3D%22folium-map%22%20id%3D%22map_26f0b109420641ddb69a83c733e6ed1e%22%20%3E%3C/div%3E%0A%20%20%20%20%20%20%20%20%0A%3C/body%3E%0A%3Cscript%3E%20%20%20%20%0A%20%20%20%20%0A%20%20%20%20%20%20%20%20%20%20%20%20var%20map_26f0b109420641ddb69a83c733e6ed1e%20%3D%20L.map%28%0A%20%20%20%20%20%20%20%20%20%20%20%20%20%20%20%20%22map_26f0b109420641ddb69a83c733e6ed1e%22%2C%0A%20%20%20%20%20%20%20%20%20%20%20%20%20%20%20%20%7B%0A%20%20%20%20%20%20%20%20%20%20%20%20%20%20%20%20%20%20%20%20center%3A%20%5B40.748441%2C%20-73.985664%5D%2C%0A%20%20%20%20%20%20%20%20%20%20%20%20%20%20%20%20%20%20%20%20crs%3A%20L.CRS.EPSG3857%2C%0A%20%20%20%20%20%20%20%20%20%20%20%20%20%20%20%20%20%20%20%20zoom%3A%2010%2C%0A%20%20%20%20%20%20%20%20%20%20%20%20%20%20%20%20%20%20%20%20zoomControl%3A%20true%2C%0A%20%20%20%20%20%20%20%20%20%20%20%20%20%20%20%20%20%20%20%20preferCanvas%3A%20false%2C%0A%20%20%20%20%20%20%20%20%20%20%20%20%20%20%20%20%7D%0A%20%20%20%20%20%20%20%20%20%20%20%20%29%3B%0A%0A%20%20%20%20%20%20%20%20%20%20%20%20%0A%0A%20%20%20%20%20%20%20%20%0A%20%20%20%20%0A%20%20%20%20%20%20%20%20%20%20%20%20var%20tile_layer_e88da7c225bb453c996a0e96399b3f1d%20%3D%20L.tileLayer%28%0A%20%20%20%20%20%20%20%20%20%20%20%20%20%20%20%20%22https%3A//%7Bs%7D.tile.openstreetmap.org/%7Bz%7D/%7Bx%7D/%7By%7D.png%22%2C%0A%20%20%20%20%20%20%20%20%20%20%20%20%20%20%20%20%7B%22attribution%22%3A%20%22Data%20by%20%5Cu0026copy%3B%20%5Cu003ca%20href%3D%5C%22http%3A//openstreetmap.org%5C%22%5Cu003eOpenStreetMap%5Cu003c/a%5Cu003e%2C%20under%20%5Cu003ca%20href%3D%5C%22http%3A//www.openstreetmap.org/copyright%5C%22%5Cu003eODbL%5Cu003c/a%5Cu003e.%22%2C%20%22detectRetina%22%3A%20false%2C%20%22maxNativeZoom%22%3A%2013%2C%20%22maxZoom%22%3A%2013%2C%20%22minZoom%22%3A%2011%2C%20%22noWrap%22%3A%20false%2C%20%22opacity%22%3A%201%2C%20%22subdomains%22%3A%20%22abc%22%2C%20%22tms%22%3A%20false%7D%0A%20%20%20%20%20%20%20%20%20%20%20%20%29.addTo%28map_26f0b109420641ddb69a83c733e6ed1e%29%3B%0A%20%20%20%20%20%20%20%20%0A%3C/script%3E onload=&quot;this.contentDocument.open();this.contentDocument.write(    decodeURIComponent(this.getAttribute(&#x27;data-html&#x27;)));this.contentDocument.close();&quot; allowfullscreen webkitallowfullscreen mozallowfullscreen&gt;&lt;/iframe&gt;&lt;/div&gt;&lt;/div&gt;\",\"width\":500},\"id\":\"1537\",\"type\":\"panel.models.markup.HTML\"},{\"attributes\":{\"children\":[{\"id\":\"1523\"}],\"margin\":[0,0,0,0],\"name\":\"Row00280\"},\"id\":\"1522\",\"type\":\"Row\"},{\"attributes\":{\"height\":432,\"margin\":[5,5,5,5],\"name\":\"ParamFunction00276\",\"text\":\"&lt;img src=&quot;data:image/png;base64,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&quot; width=&quot;864px&quot; height=&quot;432px&quot; alt=&quot;&quot;&gt;&lt;/img&gt;\",\"width\":864},\"id\":\"1523\",\"type\":\"panel.models.markup.HTML\"},{\"attributes\":{\"margin\":[0,0,0,0],\"tabs\":[{\"id\":\"1524\"},{\"id\":\"1538\"}]},\"id\":\"1512\",\"type\":\"panel.models.tabs.Tabs\"},{\"attributes\":{\"css_classes\":[\"markdown\"],\"margin\":[5,5,5,5],\"name\":\"Markdown00295\",\"text\":\"&lt;h3&gt;\\u0418\\u0441\\u0442\\u0438\\u043d\\u043d\\u043e\\u0435 \\u043a\\u043e\\u043b\\u0438\\u0447\\u0435\\u0441\\u0442\\u0432\\u043e \\u043f\\u043e\\u0435\\u0437\\u0434\\u043e\\u043a \\u043d\\u0430 \\u0442\\u0430\\u043a\\u0441\\u0438&lt;/h3&gt;\"},\"id\":\"1536\",\"type\":\"panel.models.markup.HTML\"},{\"attributes\":{\"children\":[{\"id\":\"1520\"},{\"id\":\"1521\"}],\"css_classes\":[\"panel-widget-box\"],\"margin\":[5,5,5,5],\"name\":\"WidgetBox00270\"},\"id\":\"1519\",\"type\":\"Column\"},{\"attributes\":{\"children\":[{\"id\":\"1526\"},{\"id\":\"1527\"},{\"id\":\"1528\"},{\"id\":\"1529\"},{\"id\":\"1530\"},{\"id\":\"1531\"}],\"margin\":[0,0,0,0],\"name\":\"\\u041a\\u0430\\u0440\\u0442\\u0430\"},\"id\":\"1525\",\"type\":\"Column\"},{\"attributes\":{\"child\":{\"id\":\"1525\"},\"name\":\"\\u041a\\u0430\\u0440\\u0442\\u0430\",\"title\":\"\\u041a\\u0430\\u0440\\u0442\\u0430\"},\"id\":\"1538\",\"type\":\"Panel\"},{\"attributes\":{\"children\":[{\"id\":\"1517\"},{\"id\":\"1518\"}],\"css_classes\":[\"panel-widget-box\"],\"margin\":[5,5,5,5],\"name\":\"WidgetBox00267\"},\"id\":\"1516\",\"type\":\"Column\"},{\"attributes\":{\"end\":1467244800000.0,\"margin\":[5,10,5,10],\"start\":1464739200000.0,\"title\":\"\\u0417\\u0430\\u0434\\u0430\\u0439\\u0442\\u0435 \\u0434\\u0430\\u0442\\u0443 \\u043a\\u043e\\u043d\\u0446\\u0430 \\u0438\\u0441\\u0442\\u043e\\u0440\\u0438\\u0438\",\"value\":1464739200000.0},\"id\":\"1517\",\"type\":\"DateSlider\"},{\"attributes\":{\"children\":[{\"id\":\"1532\"},{\"id\":\"1535\"}],\"margin\":[0,0,0,0],\"name\":\"Row00298\"},\"id\":\"1531\",\"type\":\"Row\"},{\"attributes\":{\"child\":{\"id\":\"1513\"},\"name\":\"\\u0413\\u0440\\u0430\\u0444\\u0438\\u043a\",\"title\":\"\\u0413\\u0440\\u0430\\u0444\\u0438\\u043a\"},\"id\":\"1524\",\"type\":\"Panel\"},{\"attributes\":{\"end\":1467244800000.0,\"margin\":[5,10,5,10],\"start\":1464739200000.0,\"title\":\"\\u0417\\u0430\\u0434\\u0430\\u0439\\u0442\\u0435 \\u0434\\u0430\\u0442\\u0443 \\u043a\\u043e\\u043d\\u0446\\u0430 \\u0438\\u0441\\u0442\\u043e\\u0440\\u0438\\u0438\",\"value\":1464739200000.0},\"id\":\"1527\",\"type\":\"DateSlider\"},{\"attributes\":{\"client_comm_id\":\"b3ddc4fbff864cd3ad32659130d2230c\",\"comm_id\":\"b1e859bedac742d0b51ec1cd837a50ca\",\"plot_id\":\"1512\"},\"id\":\"1539\",\"type\":\"panel.models.comm_manager.CommManager\"},{\"attributes\":{\"height\":500,\"margin\":[5,5,5,5],\"name\":\"Folium00288\",\"sizing_mode\":\"fixed\",\"text\":\"&lt;div style=&quot;width:100%;height:100%&quot;&gt;&lt;div style=&quot;position:relative;width:100%;height:100%;padding-bottom:0%;&quot;&gt;&lt;span style=&quot;color:#565656&quot;&gt;Make this Notebook Trusted to load map: File -&gt; Trust Notebook&lt;/span&gt;&lt;iframe src=&quot;about:blank&quot; style=&quot;position:absolute;width:100%;height:100%;left:0;top:0;border:none !important;&quot; data-html=%3C%21DOCTYPE%20html%3E%0A%3Chead%3E%20%20%20%20%0A%20%20%20%20%3Cmeta%20http-equiv%3D%22content-type%22%20content%3D%22text/html%3B%20charset%3DUTF-8%22%20/%3E%0A%20%20%20%20%0A%20%20%20%20%20%20%20%20%3Cscript%3E%0A%20%20%20%20%20%20%20%20%20%20%20%20L_NO_TOUCH%20%3D%20false%3B%0A%20%20%20%20%20%20%20%20%20%20%20%20L_DISABLE_3D%20%3D%20false%3B%0A%20%20%20%20%20%20%20%20%3C/script%3E%0A%20%20%20%20%0A%20%20%20%20%3Cstyle%3Ehtml%2C%20body%20%7Bwidth%3A%20100%25%3Bheight%3A%20100%25%3Bmargin%3A%200%3Bpadding%3A%200%3B%7D%3C/style%3E%0A%20%20%20%20%3Cstyle%3E%23map%20%7Bposition%3Aabsolute%3Btop%3A0%3Bbottom%3A0%3Bright%3A0%3Bleft%3A0%3B%7D%3C/style%3E%0A%20%20%20%20%3Cscript%20src%3D%22https%3A//cdn.jsdelivr.net/npm/leaflet%401.6.0/dist/leaflet.js%22%3E%3C/script%3E%0A%20%20%20%20%3Cscript%20src%3D%22https%3A//code.jquery.com/jquery-1.12.4.min.js%22%3E%3C/script%3E%0A%20%20%20%20%3Cscript%20src%3D%22https%3A//maxcdn.bootstrapcdn.com/bootstrap/3.2.0/js/bootstrap.min.js%22%3E%3C/script%3E%0A%20%20%20%20%3Cscript%20src%3D%22https%3A//cdnjs.cloudflare.com/ajax/libs/Leaflet.awesome-markers/2.0.2/leaflet.awesome-markers.js%22%3E%3C/script%3E%0A%20%20%20%20%3Clink%20rel%3D%22stylesheet%22%20href%3D%22https%3A//cdn.jsdelivr.net/npm/leaflet%401.6.0/dist/leaflet.css%22/%3E%0A%20%20%20%20%3Clink%20rel%3D%22stylesheet%22%20href%3D%22https%3A//maxcdn.bootstrapcdn.com/bootstrap/3.2.0/css/bootstrap.min.css%22/%3E%0A%20%20%20%20%3Clink%20rel%3D%22stylesheet%22%20href%3D%22https%3A//maxcdn.bootstrapcdn.com/bootstrap/3.2.0/css/bootstrap-theme.min.css%22/%3E%0A%20%20%20%20%3Clink%20rel%3D%22stylesheet%22%20href%3D%22https%3A//maxcdn.bootstrapcdn.com/font-awesome/4.6.3/css/font-awesome.min.css%22/%3E%0A%20%20%20%20%3Clink%20rel%3D%22stylesheet%22%20href%3D%22https%3A//cdnjs.cloudflare.com/ajax/libs/Leaflet.awesome-markers/2.0.2/leaflet.awesome-markers.css%22/%3E%0A%20%20%20%20%3Clink%20rel%3D%22stylesheet%22%20href%3D%22https%3A//cdn.jsdelivr.net/gh/python-visualization/folium/folium/templates/leaflet.awesome.rotate.min.css%22/%3E%0A%20%20%20%20%0A%20%20%20%20%20%20%20%20%20%20%20%20%3Cmeta%20name%3D%22viewport%22%20content%3D%22width%3Ddevice-width%2C%0A%20%20%20%20%20%20%20%20%20%20%20%20%20%20%20%20initial-scale%3D1.0%2C%20maximum-scale%3D1.0%2C%20user-scalable%3Dno%22%20/%3E%0A%20%20%20%20%20%20%20%20%20%20%20%20%3Cstyle%3E%0A%20%20%20%20%20%20%20%20%20%20%20%20%20%20%20%20%23map_c53c137b8325413a870d1df9fc4e513b%20%7B%0A%20%20%20%20%20%20%20%20%20%20%20%20%20%20%20%20%20%20%20%20position%3A%20relative%3B%0A%20%20%20%20%20%20%20%20%20%20%20%20%20%20%20%20%20%20%20%20width%3A%20100.0%25%3B%0A%20%20%20%20%20%20%20%20%20%20%20%20%20%20%20%20%20%20%20%20height%3A%20100.0%25%3B%0A%20%20%20%20%20%20%20%20%20%20%20%20%20%20%20%20%20%20%20%20left%3A%200.0%25%3B%0A%20%20%20%20%20%20%20%20%20%20%20%20%20%20%20%20%20%20%20%20top%3A%200.0%25%3B%0A%20%20%20%20%20%20%20%20%20%20%20%20%20%20%20%20%7D%0A%20%20%20%20%20%20%20%20%20%20%20%20%3C/style%3E%0A%20%20%20%20%20%20%20%20%0A%3C/head%3E%0A%3Cbody%3E%20%20%20%20%0A%20%20%20%20%0A%20%20%20%20%20%20%20%20%20%20%20%20%3Cdiv%20class%3D%22folium-map%22%20id%3D%22map_c53c137b8325413a870d1df9fc4e513b%22%20%3E%3C/div%3E%0A%20%20%20%20%20%20%20%20%0A%3C/body%3E%0A%3Cscript%3E%20%20%20%20%0A%20%20%20%20%0A%20%20%20%20%20%20%20%20%20%20%20%20var%20map_c53c137b8325413a870d1df9fc4e513b%20%3D%20L.map%28%0A%20%20%20%20%20%20%20%20%20%20%20%20%20%20%20%20%22map_c53c137b8325413a870d1df9fc4e513b%22%2C%0A%20%20%20%20%20%20%20%20%20%20%20%20%20%20%20%20%7B%0A%20%20%20%20%20%20%20%20%20%20%20%20%20%20%20%20%20%20%20%20center%3A%20%5B40.748441%2C%20-73.985664%5D%2C%0A%20%20%20%20%20%20%20%20%20%20%20%20%20%20%20%20%20%20%20%20crs%3A%20L.CRS.EPSG3857%2C%0A%20%20%20%20%20%20%20%20%20%20%20%20%20%20%20%20%20%20%20%20zoom%3A%2010%2C%0A%20%20%20%20%20%20%20%20%20%20%20%20%20%20%20%20%20%20%20%20zoomControl%3A%20true%2C%0A%20%20%20%20%20%20%20%20%20%20%20%20%20%20%20%20%20%20%20%20preferCanvas%3A%20false%2C%0A%20%20%20%20%20%20%20%20%20%20%20%20%20%20%20%20%7D%0A%20%20%20%20%20%20%20%20%20%20%20%20%29%3B%0A%0A%20%20%20%20%20%20%20%20%20%20%20%20%0A%0A%20%20%20%20%20%20%20%20%0A%20%20%20%20%0A%20%20%20%20%20%20%20%20%20%20%20%20var%20tile_layer_9f1f98accabe47038275948b8d953b5d%20%3D%20L.tileLayer%28%0A%20%20%20%20%20%20%20%20%20%20%20%20%20%20%20%20%22https%3A//%7Bs%7D.tile.openstreetmap.org/%7Bz%7D/%7Bx%7D/%7By%7D.png%22%2C%0A%20%20%20%20%20%20%20%20%20%20%20%20%20%20%20%20%7B%22attribution%22%3A%20%22Data%20by%20%5Cu0026copy%3B%20%5Cu003ca%20href%3D%5C%22http%3A//openstreetmap.org%5C%22%5Cu003eOpenStreetMap%5Cu003c/a%5Cu003e%2C%20under%20%5Cu003ca%20href%3D%5C%22http%3A//www.openstreetmap.org/copyright%5C%22%5Cu003eODbL%5Cu003c/a%5Cu003e.%22%2C%20%22detectRetina%22%3A%20false%2C%20%22maxNativeZoom%22%3A%2013%2C%20%22maxZoom%22%3A%2013%2C%20%22minZoom%22%3A%2011%2C%20%22noWrap%22%3A%20false%2C%20%22opacity%22%3A%201%2C%20%22subdomains%22%3A%20%22abc%22%2C%20%22tms%22%3A%20false%7D%0A%20%20%20%20%20%20%20%20%20%20%20%20%29.addTo%28map_c53c137b8325413a870d1df9fc4e513b%29%3B%0A%20%20%20%20%20%20%20%20%0A%3C/script%3E onload=&quot;this.contentDocument.open();this.contentDocument.write(    decodeURIComponent(this.getAttribute(&#x27;data-html&#x27;)));this.contentDocument.close();&quot; allowfullscreen webkitallowfullscreen mozallowfullscreen&gt;&lt;/iframe&gt;&lt;/div&gt;&lt;/div&gt;\",\"width\":500},\"id\":\"1534\",\"type\":\"panel.models.markup.HTML\"},{\"attributes\":{\"icon\":null,\"label\":\"\\u041f\\u0440\\u0438\\u043c\\u0435\\u043d\\u0438\\u0442\\u044c\",\"margin\":[5,10,5,10],\"subscribed_events\":[\"button_click\"]},\"id\":\"1530\",\"type\":\"Button\"},{\"attributes\":{\"children\":[{\"id\":\"1536\"},{\"id\":\"1537\"}],\"margin\":[0,0,0,0],\"name\":\"Column00297\"},\"id\":\"1535\",\"type\":\"Column\"},{\"attributes\":{\"margin\":[5,10,5,10],\"options\":[\"1075\",\"1076\",\"1077\",\"1125\",\"1126\",\"1127\",\"1128\",\"1129\",\"1130\",\"1131\",\"1132\",\"1172\",\"1173\",\"1174\",\"1175\",\"1176\",\"1177\",\"1178\",\"1179\",\"1180\",\"1181\",\"1182\",\"1183\",\"1184\",\"1221\",\"1222\",\"1223\",\"1224\",\"1225\",\"1227\",\"1228\",\"1229\",\"1230\",\"1231\",\"1232\",\"1233\",\"1234\",\"1235\",\"1272\",\"1273\",\"1274\",\"1278\",\"1279\",\"1280\",\"1281\",\"1282\",\"1283\",\"1284\",\"1285\",\"1286\",\"1287\",\"1326\",\"1327\",\"1331\",\"1332\",\"1333\",\"1334\",\"1335\",\"1336\",\"1337\",\"1338\",\"1339\",\"1376\",\"1377\",\"1378\",\"1380\",\"1382\",\"1383\",\"1384\",\"1385\",\"1386\",\"1387\",\"1388\",\"1389\",\"1390\",\"1426\",\"1431\",\"1434\",\"1435\",\"1436\",\"1437\",\"1438\",\"1439\",\"1441\",\"1442\",\"1480\",\"1482\",\"1483\",\"1530\",\"1532\",\"1533\",\"1580\",\"1630\",\"1684\",\"1733\",\"1734\",\"1783\",\"2068\",\"2069\",\"2118\",\"2119\",\"2168\"],\"title\":\"\\u0412\\u044b\\u0431\\u0435\\u0440\\u0438\\u0442\\u0435 \\u0440\\u0435\\u0433\\u0438\\u043e\\u043d \\u0438\\u0437 \\u0441\\u043f\\u0438\\u0441\\u043a\\u0430\",\"value\":\"1075\"},\"id\":\"1520\",\"type\":\"panel.models.widgets.CustomSelect\"},{\"attributes\":{\"margin\":[5,10,5,10],\"options\":[\"1\",\"2\",\"3\",\"4\",\"5\",\"6\"],\"title\":\"\\u0412\\u044b\\u0431\\u0435\\u0440\\u0438\\u0442\\u0435, \\u043d\\u0430 \\u0441\\u043a\\u043e\\u043b\\u044c\\u043a\\u043e \\u0447\\u0430\\u0441\\u043e\\u0432 \\u043f\\u043e\\u043a\\u0430\\u0437\\u0430\\u0442\\u044c \\u043f\\u0440\\u043e\\u0433\\u043d\\u043e\\u0437\",\"value\":\"1\"},\"id\":\"1521\",\"type\":\"panel.models.widgets.CustomSelect\"},{\"attributes\":{\"end\":23,\"margin\":[5,10,5,10],\"start\":0,\"title\":\"\\u0417\\u0430\\u0434\\u0430\\u0439\\u0442\\u0435 \\u0447\\u0430\\u0441 \\u043a\\u043e\\u043d\\u0446\\u0430 \\u0438\\u0441\\u0442\\u043e\\u0440\\u0438\\u0438\",\"value\":6},\"id\":\"1528\",\"type\":\"Slider\"},{\"attributes\":{\"children\":[{\"id\":\"1533\"},{\"id\":\"1534\"}],\"margin\":[0,0,0,0],\"name\":\"Column00294\"},\"id\":\"1532\",\"type\":\"Column\"},{\"attributes\":{\"css_classes\":[\"markdown\"],\"margin\":[5,5,5,5],\"name\":\"Markdown00274\",\"text\":\"&lt;p&gt;&lt;br&gt;&lt;/p&gt;\\n&lt;h1&gt;\\u041f\\u0440\\u043e\\u0433\\u043d\\u043e\\u0437\\u044b \\u043a\\u043e\\u043b\\u0438\\u0447\\u0435\\u0441\\u0442\\u0432\\u0430 \\u043f\\u043e\\u0435\\u0437\\u0434\\u043e\\u043a&lt;/h1&gt;\"},\"id\":\"1514\",\"type\":\"panel.models.markup.HTML\"}],\"root_ids\":[\"1512\",\"1539\"]},\"title\":\"Bokeh Application\",\"version\":\"2.4.1\"}};\n",
       "    var render_items = [{\"docid\":\"eb48cc55-cade-4795-b080-c9813948e90d\",\"root_ids\":[\"1512\"],\"roots\":{\"1512\":\"e24239bf-0ea7-45bf-af1c-96189f84fbba\"}}];\n",
       "    root.Bokeh.embed.embed_items_notebook(docs_json, render_items);\n",
       "  }\n",
       "  if (root.Bokeh !== undefined && root.Bokeh.Panel !== undefined) {\n",
       "    embed_document(root);\n",
       "  } else {\n",
       "    var attempts = 0;\n",
       "    var timer = setInterval(function(root) {\n",
       "      if (root.Bokeh !== undefined && root.Bokeh.Panel !== undefined) {\n",
       "        clearInterval(timer);\n",
       "        embed_document(root);\n",
       "      } else if (document.readyState == \"complete\") {\n",
       "        attempts++;\n",
       "        if (attempts > 200) {\n",
       "          clearInterval(timer);\n",
       "          console.log(\"Bokeh: ERROR: Unable to run BokehJS code because BokehJS library is missing\");\n",
       "        }\n",
       "      }\n",
       "    }, 25, root)\n",
       "  }\n",
       "})(window);</script>"
      ],
      "text/plain": [
       "Tabs\n",
       "    [0] Column(name='График')\n",
       "        [0] Markdown(str)\n",
       "        [1] Row\n",
       "            [0] WidgetBox\n",
       "                [0] DateSlider(as_datetime=True, end=datetime.date(2016, ..., name='Задайте дату к..., start=datetime.date(2016, 6, 1), value=datetime.date(2016, 6, 1))\n",
       "                [1] IntSlider(end=23, name='Задайте час к..., value=6)\n",
       "            [1] WidgetBox\n",
       "                [0] Select(name='Выберите регион и..., options=[1075, 1076, 1077, ...], value=1075)\n",
       "                [1] Select(name='Выберите, на с..., options=[1, 2, 3, 4, 5, 6], value=1)\n",
       "        [2] ParamFunction(function)\n",
       "    [1] Column(name='Карта')\n",
       "        [0] Markdown(str)\n",
       "        [1] DateSlider(end=datetime.date(2016, ..., name='Задайте дату к..., start=datetime.date(2016, 6, 1), value=datetime.date(2016, 6, 1))\n",
       "        [2] IntSlider(end=23, name='Задайте час к..., value=6)\n",
       "        [3] Select(name='Выберите, на с..., options=[1, 2, 3, 4, 5, 6], value=1)\n",
       "        [4] Button(name='Применить')\n",
       "        [5] Row\n",
       "            [0] Column\n",
       "                [0] Markdown(str)\n",
       "                [1] Folium(Map, height=500, sizing_mode='fixed', width=500)\n",
       "            [1] Column\n",
       "                [0] Markdown(str)\n",
       "                [1] Folium(Map, height=500, sizing_mode='fixed', width=500)"
      ]
     },
     "metadata": {
      "application/vnd.holoviews_exec.v0+json": {
       "id": "1512"
      }
     },
     "output_type": "display_data"
    }
   ],
   "source": [
    "tabs = pn.Tabs(page1, page2)\n",
    "display(tabs)"
   ]
  }
 ],
 "metadata": {
  "colab": {
   "collapsed_sections": [],
   "name": "Week7.ipynb",
   "provenance": [],
   "toc_visible": true
  },
  "kernelspec": {
   "display_name": "Python 3 (ipykernel)",
   "language": "python",
   "name": "python3"
  },
  "language_info": {
   "codemirror_mode": {
    "name": "ipython",
    "version": 3
   },
   "file_extension": ".py",
   "mimetype": "text/x-python",
   "name": "python",
   "nbconvert_exporter": "python",
   "pygments_lexer": "ipython3",
   "version": "3.9.13"
  }
 },
 "nbformat": 4,
 "nbformat_minor": 5
}
